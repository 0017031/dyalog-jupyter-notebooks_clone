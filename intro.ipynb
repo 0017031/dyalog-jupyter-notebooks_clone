{
 "cells": [
  {
   "cell_type": "markdown",
   "metadata": {},
   "source": [
    "# Introduction\n",
    "Despite its name APL isn't really **A** **P**rogramming **L**anguage, but rather a mathematical notation which just happens to be machine executable. While we may not question the *notation* of traditional mathematics, it is quite interesting to look into what the syntactic details actually are. But first, let me teach you a little bit of APL lingo, so we can speak.\n",
    "\n",
    "### Functions\n",
    "In APL, we call all code that can be applied to data *functions*, even *primitive* built-in things. So `+` and `f` in `f(x)` are both functions. (APL `operators` are something else, which we'll get back to.)\n",
    "\n",
    "### Arrays\n",
    "Also, in APL, all data resides in *arrays*. We can use more specific terms for some arrays, like a single number is a *scalar*, a list is a *vector*, and 2D arrays are *matrices*. The number of dimensions of an array is called its rank, so a a 3D array is called a *rank-3 array* while a single number (a scalar) is a *rank-0 array*. Also, every element of an array may itself be any array. So notice that a vector of vectors is not the same as a matrix!\n",
    "\n",
    "### Rank\n",
    "Every APL array of rank ≥ 1 must consist of sub-arrays (*major cells*) that have identical shapes. So a rank-4 array has, as major cells, a number of rank-3 arrays that all have the same number of rank-2 arrays as their major cells, and they in turn have rank-1 arrays of an identical number of rank-0 arrays.\n",
    "\n",
    "### Strings\n",
    "APL has no strings, but a scalar always has one of a small number of data types: number, character, and reference (there are a couple of additional ones, but they are obscure). So, \"strings\" are just character vectors. And \"documents\" are vectors of character vectors. We often call them VTVs (Vectors of Text Vectors).\n",
    "\n",
    "### Numbers\n",
    "A number is a number is a number: You don't have to deal with internal representation as APL will convert between bit-Booleans, integers (of various sizes), floats, base-10 decimal floats, and complex numbers seamlessly. And it takes care of binary-vs-decimal inexactness too, so `3×(1÷3)`.\n",
    "\n",
    "### Generalisation and harmonisation of mathematical concepts\n",
    "In mathematics, the `-` function can be infix (`5-2`) or prefix (`-3`). So too in APL can all functions be applied as infix or prefix (if each form has been defined, at least). Usually, the monadic and dyadic forms are closely related. E.g. `-Y` is `0-Y`."
   ]
  },
  {
   "cell_type": "code",
   "execution_count": 1,
   "metadata": {},
   "outputs": [
    {
     "data": {
      "text/html": [
       "<span style=\"white-space:pre; font-family: monospace\">3\n",
       "</span>"
      ]
     },
     "execution_count": 1,
     "metadata": {},
     "output_type": "execute_result"
    }
   ],
   "source": [
    "5-2"
   ]
  },
  {
   "cell_type": "code",
   "execution_count": 2,
   "metadata": {},
   "outputs": [
    {
     "data": {
      "text/html": [
       "<span style=\"white-space:pre; font-family: monospace\">¯3\n",
       "</span>"
      ]
     },
     "execution_count": 2,
     "metadata": {},
     "output_type": "execute_result"
    }
   ],
   "source": [
    "-3"
   ]
  },
  {
   "cell_type": "markdown",
   "metadata": {},
   "source": [
    "And just like monadic `-` negates both the real and the imaginary part of a number, so does monadic `+` negate just the imaginary part, i.e. `+Y` is the complex conjugate of `Y`. APL's complex number format is *Re*`J`*Im*."
   ]
  },
  {
   "cell_type": "code",
   "execution_count": 3,
   "metadata": {},
   "outputs": [
    {
     "data": {
      "text/html": [
       "<span style=\"white-space:pre; font-family: monospace\">1J¯2\n",
       "</span>"
      ]
     },
     "execution_count": 3,
     "metadata": {},
     "output_type": "execute_result"
    }
   ],
   "source": [
    "+1J2"
   ]
  },
  {
   "cell_type": "markdown",
   "metadata": {},
   "source": [
    "However, mathematics also has some weird notations, like factorial being on the right-hand side of its argument, and exponentiation doesn't have a symbol, but rather the exponent is raised and made smaller. APL harmonises everything to be in-line and pre/infix, so factorial is `!Y` and raising to a power is `X*Y`."
   ]
  },
  {
   "cell_type": "code",
   "execution_count": 4,
   "metadata": {},
   "outputs": [
    {
     "data": {
      "text/html": [
       "<span style=\"white-space:pre; font-family: monospace\">120\n",
       "</span>"
      ]
     },
     "execution_count": 4,
     "metadata": {},
     "output_type": "execute_result"
    }
   ],
   "source": [
    "!5"
   ]
  },
  {
   "cell_type": "markdown",
   "metadata": {},
   "source": [
    "These syntactic rules apply to ALL functions, whether built-in or user-defined. Know the syntax of one, and you know the syntax of all of them!"
   ]
  }
 ],
 "metadata": {
  "kernelspec": {
   "display_name": "Dyalog APL",
   "language": "apl",
   "name": "dyalog-kernel"
  },
  "language_info": {
   "file_extension": ".apl",
   "mimetype": "text/apl",
   "name": "apl"
  }
 },
 "nbformat": 4,
 "nbformat_minor": 2
}
