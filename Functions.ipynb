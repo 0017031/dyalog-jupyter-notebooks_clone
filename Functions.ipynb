{
 "cells": [
  {
   "cell_type": "markdown",
   "metadata": {},
   "source": [
    "A function can applied to data in two ways: dyadically or monadically. That is, a function can be applied to one or two arguments. Most primitve functions have both a dyadic and a monadic definition. For example `-`, when applied dyadically is subtract, and when applied monadically is negate."
   ]
  },
  {
   "cell_type": "code",
   "execution_count": 1,
   "metadata": {},
   "outputs": [
    {
     "data": {
      "text/html": [
       "<span style=\"white-space:pre; font-family: monospace\">3\n",
       "</span>"
      ]
     },
     "execution_count": 1,
     "metadata": {},
     "output_type": "execute_result"
    }
   ],
   "source": [
    "10-7  ⍝ dyadic"
   ]
  },
  {
   "cell_type": "code",
   "execution_count": 2,
   "metadata": {},
   "outputs": [
    {
     "data": {
      "text/html": [
       "<span style=\"white-space:pre; font-family: monospace\">¯5\n",
       "</span>"
      ]
     },
     "execution_count": 2,
     "metadata": {},
     "output_type": "execute_result"
    }
   ],
   "source": [
    "-5    ⍝ monadic"
   ]
  },
  {
   "cell_type": "markdown",
   "metadata": {},
   "source": [
    "We distinguish between two types of functions when it comes to applying to data. Scalar functions and mixed functions.\n",
    "\n",
    "A scalar function will penetrate the arrays that is applied to, all the way down to the simple scalars.\n",
    "\n",
    "Examples of scalar functions are the arithmetic functions; `+` `-` `×` `÷` etc. A worthy note is that APL uses traditional mathematics notation for multiplication and division: `×` and `÷`. `*` is used for exponentiation, which is also scalar."
   ]
  },
  {
   "cell_type": "code",
   "execution_count": 16,
   "metadata": {},
   "outputs": [
    {
     "data": {
      "text/html": [
       "<span style=\"white-space:pre; font-family: monospace\">¯2 ¯1 ¯4 11 ¯6\n",
       "</span>"
      ]
     },
     "execution_count": 16,
     "metadata": {},
     "output_type": "execute_result"
    }
   ],
   "source": [
    "- 2 1 4 ¯11 6"
   ]
  },
  {
   "cell_type": "code",
   "execution_count": 4,
   "metadata": {},
   "outputs": [
    {
     "data": {
      "text/html": [
       "<span style=\"white-space:pre; font-family: monospace\">┌─────┬──┬────────────────────┐\n",
       "│¯1 ¯2│¯3│┌──────┬───────────┐│\n",
       "│     │  ││2 ¯3 6│¯33 ¯11 0.5││\n",
       "│     │  │└──────┴───────────┘│\n",
       "└─────┴──┴────────────────────┘\n",
       "</span>"
      ]
     },
     "execution_count": 4,
     "metadata": {},
     "output_type": "execute_result"
    }
   ],
   "source": [
    "-(1 2) 3 ((¯2 3 ¯6) (33 11 ¯0.5))"
   ]
  },
  {
   "cell_type": "markdown",
   "metadata": {},
   "source": [
    "See that the structure of the array remains the same, only the content is changed. Th same is of course true for higher rank arrays. If you're \n",
    "unfamiliar with the concept of rank, you can check out the notebook on arrays."
   ]
  },
  {
   "cell_type": "code",
   "execution_count": 27,
   "metadata": {},
   "outputs": [
    {
     "data": {
      "text/html": [
       "<span style=\"white-space:pre; font-family: monospace\">┌─────┬─────┐\n",
       "│¯4   │¯2   │\n",
       "├─────┼─────┤\n",
       "│¯1 ¯1│¯4   │\n",
       "├─────┼─────┤\n",
       "│¯2   │¯1 ¯1│\n",
       "└─────┴─────┘\n",
       "</span>"
      ]
     },
     "execution_count": 27,
     "metadata": {},
     "output_type": "execute_result"
    }
   ],
   "source": [
    "- 3 2⍴4 2 (1 1)"
   ]
  },
  {
   "cell_type": "markdown",
   "metadata": {},
   "source": [
    "When a scalar function is applied dyadically, the scalars are paired up between the two arrarys and the function is applied between pairs. I the shapes of the arguments do not match up, an error is reported."
   ]
  },
  {
   "cell_type": "code",
   "execution_count": 5,
   "metadata": {},
   "outputs": [
    {
     "data": {
      "text/html": [
       "<span style=\"white-space:pre; font-family: monospace\">12 14 6\n",
       "</span>"
      ]
     },
     "execution_count": 5,
     "metadata": {},
     "output_type": "execute_result"
    }
   ],
   "source": [
    "4 2 1×3 7 6"
   ]
  },
  {
   "cell_type": "code",
   "execution_count": 6,
   "metadata": {},
   "outputs": [
    {
     "name": "stderr",
     "output_type": "stream",
     "text": [
      "LENGTH ERROR: Mismatched left and right argument shapes\n",
      "      2 3+1 7 7\n",
      "         ∧\n"
     ]
    }
   ],
   "source": [
    "2 3+1 7 7"
   ]
  },
  {
   "cell_type": "code",
   "execution_count": 11,
   "metadata": {},
   "outputs": [
    {
     "data": {
      "text/html": [
       "<span style=\"white-space:pre; font-family: monospace\">┌───┬────────┬─┐\n",
       "│5 6│3 9 11.1│0│\n",
       "└───┴────────┴─┘\n",
       "</span>"
      ]
     },
     "execution_count": 11,
     "metadata": {},
     "output_type": "execute_result"
    }
   ],
   "source": [
    "(2 4) (6 5 11) 7 + (3 2) (¯3 4 0.1) ¯7"
   ]
  },
  {
   "cell_type": "markdown",
   "metadata": {},
   "source": [
    "Here the result was `(2 4+3 2)(6 5 11+¯3 4 0.1)(7+¯7)`"
   ]
  },
  {
   "cell_type": "code",
   "execution_count": 29,
   "metadata": {},
   "outputs": [
    {
     "data": {
      "text/html": [
       "<span style=\"white-space:pre; font-family: monospace\">6 4\n",
       "8 5\n",
       "</span>"
      ]
     },
     "execution_count": 29,
     "metadata": {},
     "output_type": "execute_result"
    }
   ],
   "source": [
    "(2 2⍴1 2 3 4)+(2 2⍴5 2 5 1)"
   ]
  },
  {
   "cell_type": "markdown",
   "metadata": {},
   "source": [
    "The shapes of the arguments need not match up exactly. If one of the arguments is a scalar, you get what is called scalar extension. The scalar is distributed across all the scalars of the other argument."
   ]
  },
  {
   "cell_type": "code",
   "execution_count": 8,
   "metadata": {},
   "outputs": [
    {
     "data": {
      "text/html": [
       "<span style=\"white-space:pre; font-family: monospace\">6 8 4\n",
       "</span>"
      ]
     },
     "execution_count": 8,
     "metadata": {},
     "output_type": "execute_result"
    }
   ],
   "source": [
    "2×3 4 2"
   ]
  },
  {
   "cell_type": "code",
   "execution_count": 25,
   "metadata": {},
   "outputs": [
    {
     "data": {
      "text/html": [
       "<span style=\"white-space:pre; font-family: monospace\">┌───┬────────┬──┐\n",
       "│1 9│16 25 36│49│\n",
       "└───┴────────┴──┘\n",
       "</span>"
      ]
     },
     "execution_count": 25,
     "metadata": {},
     "output_type": "execute_result"
    }
   ],
   "source": [
    "(1 3) (4 5 6) 7*2"
   ]
  },
  {
   "cell_type": "code",
   "execution_count": 30,
   "metadata": {},
   "outputs": [
    {
     "data": {
      "text/html": [
       "<span style=\"white-space:pre; font-family: monospace\">0.111111 0.222222 0.333333\n",
       "0.444444 0.555556 0.666667\n",
       "0.777778 0.888889 1       \n",
       "</span>"
      ]
     },
     "execution_count": 30,
     "metadata": {},
     "output_type": "execute_result"
    }
   ],
   "source": [
    "(3 3⍴1 2 3 4 5 6 7 8 9)÷9"
   ]
  },
  {
   "cell_type": "markdown",
   "metadata": {},
   "source": [
    "Additionally scalars inside the arrays can be extended after the items have been paired up."
   ]
  },
  {
   "cell_type": "code",
   "execution_count": 12,
   "metadata": {},
   "outputs": [
    {
     "data": {
      "text/html": [
       "<span style=\"white-space:pre; font-family: monospace\">┌─────┬──────┬───────────────────┐\n",
       "│4 3 2│1 0 ¯1│┌────────┬─┬──────┐│\n",
       "│     │      ││47 74 14│4│35 3.5││\n",
       "│     │      │└────────┴─┴──────┘│\n",
       "└─────┴──────┴───────────────────┘\n",
       "</span>"
      ]
     },
     "execution_count": 12,
     "metadata": {},
     "output_type": "execute_result"
    }
   ],
   "source": [
    "1 2 3+(3 2 1) (¯1 ¯2 ¯3) ((44 71 11) 1 (32 0.5))"
   ]
  },
  {
   "cell_type": "markdown",
   "metadata": {},
   "source": [
    "All of the arithmetic functions also have a monadic definition.\n",
    "\n",
    "`-` is negate\n",
    "\n",
    "`÷` is reciprical\n",
    "\n",
    "`+` returns the complex-conjugate (Acts as identity for real numbers)\n",
    "\n",
    "`×` returns the unit complex number in the given direction (Acts as signum on real numbers)\n",
    "\n",
    "`*` raises *e* to the power of its argument\n",
    "\n",
    "Please test them all out below."
   ]
  },
  {
   "cell_type": "code",
   "execution_count": 24,
   "metadata": {},
   "outputs": [
    {
     "data": {
      "text/html": [
       "<span style=\"white-space:pre; font-family: monospace\">┌────┬──────┬───┬──────┐\n",
       "│1J¯5│0J¯6 7│0.4│4J1E¯9│\n",
       "└────┴──────┴───┴──────┘\n",
       "</span>"
      ]
     },
     "execution_count": 24,
     "metadata": {},
     "output_type": "execute_result"
    }
   ],
   "source": [
    "+ 1j5 (0j6 7) 0.4 4j¯1e¯9"
   ]
  },
  {
   "cell_type": "markdown",
   "metadata": {},
   "source": [
    "Mixed functions apply to larger structures of the argument, for example the rows of an matrix, or just take the entire argument. They can treat each argument differently in this respect.\n",
    "\n",
    "Monadic `⍴` (shape) is a mixed function. It returns the shape of its argument - the lengths of its dimensions. Obviously this wouldn't be very useful as a scalar function.\n",
    "\n",
    "`⍴` takes its entire argument into consideration."
   ]
  },
  {
   "cell_type": "code",
   "execution_count": 13,
   "metadata": {},
   "outputs": [
    {
     "data": {
      "text/html": [
       "<span style=\"white-space:pre; font-family: monospace\">3\n",
       "</span>"
      ]
     },
     "execution_count": 13,
     "metadata": {},
     "output_type": "execute_result"
    }
   ],
   "source": [
    "⍴ 1 2 3"
   ]
  },
  {
   "cell_type": "code",
   "execution_count": 15,
   "metadata": {},
   "outputs": [
    {
     "data": {
      "text/html": [
       "<span style=\"white-space:pre; font-family: monospace\">4\n",
       "</span>"
      ]
     },
     "execution_count": 15,
     "metadata": {},
     "output_type": "execute_result"
    }
   ],
   "source": [
    "⍴ (1 2 3)(2 2 2) 4 2"
   ]
  },
  {
   "cell_type": "code",
   "execution_count": 17,
   "metadata": {},
   "outputs": [
    {
     "data": {
      "text/html": [
       "<span style=\"white-space:pre; font-family: monospace\">3 3\n",
       "</span>"
      ]
     },
     "execution_count": 17,
     "metadata": {},
     "output_type": "execute_result"
    }
   ],
   "source": [
    "⍴ (3 3⍴0 1 1)"
   ]
  },
  {
   "cell_type": "markdown",
   "metadata": {},
   "source": [
    "There are many functions in APL and they won't all be contained in this notebook. `⍴` has been covered in more depth in the arrays notebook, along with monadic `≡`."
   ]
  },
  {
   "cell_type": "markdown",
   "metadata": {},
   "source": [
    "To define your own functions, you have three options - dfns, tradfns and tacit functions.\n",
    "\n",
    "A user defined function behaves the same way as a primitive function. It takes a maximum of two arguments (left and right), and is called either prefix (monadically) or infix (dyadically).\n",
    "\n",
    "A dfn (direct-function) is an APL expression enclosed in braces (`{}`) where the left and right arguments are refered to by `⍺` and `⍵` (the leftmost and rightmost characters in the greek alphabet) respectively. For a monadic function, only `⍵` is used."
   ]
  },
  {
   "cell_type": "code",
   "execution_count": 1,
   "metadata": {},
   "outputs": [
    {
     "data": {
      "text/html": [
       "<span style=\"white-space:pre; font-family: monospace\">20\n",
       "</span>"
      ]
     },
     "execution_count": 1,
     "metadata": {},
     "output_type": "execute_result"
    }
   ],
   "source": [
    "times←{⍺×⍵}  ⍝ dfns are assigned just like other values\n",
    "4 times 5"
   ]
  },
  {
   "cell_type": "markdown",
   "metadata": {},
   "source": [
    "Dfns are anonymous functions (they don't require a name). This means that they can be used inline like a primitive function."
   ]
  },
  {
   "cell_type": "code",
   "execution_count": 2,
   "metadata": {},
   "outputs": [
    {
     "data": {
      "text/html": [
       "<span style=\"white-space:pre; font-family: monospace\">20\n",
       "</span>"
      ]
     },
     "execution_count": 2,
     "metadata": {},
     "output_type": "execute_result"
    }
   ],
   "source": [
    "4 {⍺×⍵} 5"
   ]
  },
  {
   "cell_type": "code",
   "execution_count": 3,
   "metadata": {},
   "outputs": [
    {
     "data": {
      "text/html": [
       "<span style=\"white-space:pre; font-family: monospace\">25\n",
       "</span>"
      ]
     },
     "execution_count": 3,
     "metadata": {},
     "output_type": "execute_result"
    }
   ],
   "source": [
    "3 {(⍵*2)+(⍺*2)} 4"
   ]
  },
  {
   "cell_type": "code",
   "execution_count": 5,
   "metadata": {},
   "outputs": [
    {
     "data": {
      "text/html": [
       "<span style=\"white-space:pre; font-family: monospace\">A\n",
       "P\n",
       "L\n",
       "</span>"
      ]
     },
     "execution_count": 5,
     "metadata": {},
     "output_type": "execute_result"
    }
   ],
   "source": [
    "3 {(⍺,1)⍴⍵} 'APL is fun'"
   ]
  },
  {
   "cell_type": "markdown",
   "metadata": {},
   "source": [
    "Dfns can be nested as much as you like. `⍺` and `⍵` will always reference the the arguments of the ... (FIX)"
   ]
  },
  {
   "cell_type": "code",
   "execution_count": 3,
   "metadata": {},
   "outputs": [
    {
     "data": {
      "text/html": [
       "<span style=\"white-space:pre; font-family: monospace\">5\n",
       "</span>"
      ]
     },
     "execution_count": 3,
     "metadata": {},
     "output_type": "execute_result"
    }
   ],
   "source": [
    "3 {{⍵*0.5}(⍵*2)+(⍺*2)} 4"
   ]
  },
  {
   "cell_type": "markdown",
   "metadata": {},
   "source": [
    "Inside a dfn, you can perform an `if a then b else c` check. It takes the form `{a:b⋄c}`. `a` must evaluate to a **boolean singleton**, which just means that it is a `1` or `0` whose shape consissts of only 1s."
   ]
  },
  {
   "cell_type": "code",
   "execution_count": 7,
   "metadata": {},
   "outputs": [
    {
     "data": {
      "text/html": [
       "<span style=\"white-space:pre; font-family: monospace\">true\n",
       "</span>"
      ]
     },
     "execution_count": 7,
     "metadata": {},
     "output_type": "execute_result"
    }
   ],
   "source": [
    "{⍵:'true'⋄'false'} 1"
   ]
  },
  {
   "cell_type": "markdown",
   "metadata": {},
   "source": [
    "There are many functions in APL that return booleans. Examples are comparisons: `<` `≤` `=` `≥` `>`\n",
    "\n",
    "The comparisons are all scalar functions."
   ]
  },
  {
   "cell_type": "code",
   "execution_count": 6,
   "metadata": {},
   "outputs": [
    {
     "data": {
      "text/html": [
       "<span style=\"white-space:pre; font-family: monospace\">1\n",
       "</span>"
      ]
     },
     "execution_count": 6,
     "metadata": {},
     "output_type": "execute_result"
    }
   ],
   "source": [
    "4<6 "
   ]
  },
  {
   "cell_type": "code",
   "execution_count": 5,
   "metadata": {},
   "outputs": [
    {
     "data": {
      "text/html": [
       "<span style=\"white-space:pre; font-family: monospace\">0 1 0 1 1\n",
       "</span>"
      ]
     },
     "execution_count": 5,
     "metadata": {},
     "output_type": "execute_result"
    }
   ],
   "source": [
    "1 2 3 4 5=3 2 1 4 5"
   ]
  },
  {
   "cell_type": "code",
   "execution_count": 9,
   "metadata": {},
   "outputs": [
    {
     "data": {
      "text/html": [
       "<span style=\"white-space:pre; font-family: monospace\">10\n",
       "</span>"
      ]
     },
     "execution_count": 9,
     "metadata": {},
     "output_type": "execute_result"
    }
   ],
   "source": [
    "10 {⍺<⍵:⍺⋄⍵} 12  ⍝ minumum"
   ]
  },
  {
   "cell_type": "markdown",
   "metadata": {},
   "source": [
    "To perform recurrsion you can either use the name of the function, or if it's not named, the symbol `∇` refers to the function it's in."
   ]
  },
  {
   "cell_type": "code",
   "execution_count": 11,
   "metadata": {},
   "outputs": [
    {
     "data": {
      "text/html": [
       "<span style=\"white-space:pre; font-family: monospace\">120\n",
       "</span>"
      ]
     },
     "execution_count": 11,
     "metadata": {},
     "output_type": "execute_result"
    }
   ],
   "source": [
    "fac←{⍵>1:⍵×fac ⍵-1⋄1}\n",
    "fac 5"
   ]
  },
  {
   "cell_type": "code",
   "execution_count": 12,
   "metadata": {},
   "outputs": [
    {
     "data": {
      "text/html": [
       "<span style=\"white-space:pre; font-family: monospace\">120\n",
       "</span>"
      ]
     },
     "execution_count": 12,
     "metadata": {},
     "output_type": "execute_result"
    }
   ],
   "source": [
    "{⍵>1:⍵×∇⍵-1⋄1}5"
   ]
  }
 ],
 "metadata": {
  "kernelspec": {
   "display_name": "Dyalog APL",
   "language": "apl",
   "name": "dyalog-kernel"
  },
  "language_info": {
   "file_extension": ".apl",
   "mimetype": "text/apl",
   "name": "apl"
  },
  "tryapl": {
   "category": "APL Basics",
   "description": "How APL applies functions",
   "name": "Functions"
  }
 },
 "nbformat": 4,
 "nbformat_minor": 2
}
