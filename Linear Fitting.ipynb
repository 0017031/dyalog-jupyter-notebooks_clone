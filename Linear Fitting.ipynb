{
 "cells": [
  {
   "cell_type": "markdown",
   "id": "678762ac",
   "metadata": {},
   "source": [
    "# Linear Fitting\n",
    "\n",
    "**Problem:** Find `a` and `b` in the equation `y=a+b×x`, given the vectors `x` and `y`, using the [least-squares method](https://en.wikipedia.org/wiki/Linear_least_squares). Also, determine the corresponding [R-squared](https://en.wikipedia.org/wiki/Coefficient_of_determination) value."
   ]
  },
  {
   "cell_type": "markdown",
   "id": "565a06e3",
   "metadata": {},
   "source": [
    "Test data:"
   ]
  },
  {
   "cell_type": "code",
   "execution_count": 124,
   "id": "b65828ef",
   "metadata": {},
   "outputs": [
    {
     "data": {
      "text/html": [
       "<svg version=\"1.1\" baseProfile=\"full\" width=\"100%\" height=\"100%\" viewBox=\"0 0 4320 3240\"  xmlns=\"http://www.w3.org/2000/svg\" xmlns:xlink=\"http://www.w3.org/1999/xlink\" xmlns:ev=\"http://www.w3.org/2001/xml-events\" >\n",
       "<desc>Created by Causeway SVG engine - SharpPlot v3.71.0</desc>\n",
       "<g stroke-miterlimit=\"100\">\n",
       "<desc>Paint the paper =====</desc>\n",
       " <g fill=\"White\" >\n",
       "  <rect x=\"0\" y=\"0\" width=\"4320\" height=\"3240\" />\n",
       " </g>\n",
       "<desc>Border =====</desc>\n",
       "<desc>Region =====</desc>\n",
       "<desc>X-Axis Ticks =====</desc>\n",
       "<desc>X-Axis tickmarks</desc>\n",
       " <path fill=\"none\" stroke-width=\"7.2\" stroke=\"Black\" d=\"M400 2720L400 2764M685 2720L685 2764M969 2720L969 2764M1254 2720L1254 2764M1538 2720L1538 2764M1823 2720L1823 2764M2108 2720L2108 2764M2392 2720L2392 2764M2677 2720L2677 2764M2962 2720L2962 2764M3246 2720L3246 2764M3531 2720L3531 2764M3815 2720L3815 2764M4100 2720L4100 2764\"/>\n",
       "<desc>Y-Axis Ticks =====</desc>\n",
       "<desc>Y-Axis tickmarks</desc>\n",
       " <path fill=\"none\" stroke-width=\"7.2\" stroke=\"Black\" d=\"M400 2720L367 2720M400 2546L367 2546M400 2372L367 2372M400 2198L367 2198M400 2025L367 2025M400 1851L367 1851M400 1677L367 1677M400 1503L367 1503M400 1329L367 1329M400 1155L367 1155M400 982L367 982M400 808L367 808M400 634L367 634M400 460L367 460\"/>\n",
       "<desc>Axes =====</desc>\n",
       " <path fill=\"none\" stroke-width=\"12\" stroke=\"Black\" d=\"M400 2764L400 416M356 2720L4144 2720\"/>\n",
       "<desc>Y-axis labels</desc>\n",
       " <g font-family=\"Times New Roman\" font-size=\"80\" text-anchor=\"end\" >\n",
       "  <text x=\"335\" y=\"2740\" >10</text>\n",
       "  <text x=\"335\" y=\"2566\" >20</text>\n",
       "  <text x=\"335\" y=\"2392\" >30</text>\n",
       "  <text x=\"335\" y=\"2218\" >40</text>\n",
       "  <text x=\"335\" y=\"2045\" >50</text>\n",
       "  <text x=\"335\" y=\"1871\" >60</text>\n",
       "  <text x=\"335\" y=\"1697\" >70</text>\n",
       "  <text x=\"335\" y=\"1523\" >80</text>\n",
       "  <text x=\"335\" y=\"1349\" >90</text>\n",
       "  <text x=\"335\" y=\"1175\" >100</text>\n",
       "  <text x=\"335\" y=\"1002\" >110</text>\n",
       "  <text x=\"335\" y=\"828\" >120</text>\n",
       "  <text x=\"335\" y=\"654\" >130</text>\n",
       "  <text x=\"335\" y=\"480\" >140</text>\n",
       " </g>\n",
       "<desc>for X-axis labels</desc>\n",
       " <g font-family=\"Times New Roman\" font-size=\"80\" text-anchor=\"middle\" >\n",
       "  <text x=\"400\" y=\"2844\" >0</text>\n",
       "  <text x=\"685\" y=\"2844\" >2</text>\n",
       "  <text x=\"969\" y=\"2844\" >4</text>\n",
       "  <text x=\"1254\" y=\"2844\" >6</text>\n",
       "  <text x=\"1538\" y=\"2844\" >8</text>\n",
       "  <text x=\"1823\" y=\"2844\" >10</text>\n",
       "  <text x=\"2108\" y=\"2844\" >12</text>\n",
       "  <text x=\"2392\" y=\"2844\" >14</text>\n",
       "  <text x=\"2677\" y=\"2844\" >16</text>\n",
       "  <text x=\"2962\" y=\"2844\" >18</text>\n",
       "  <text x=\"3246\" y=\"2844\" >20</text>\n",
       "  <text x=\"3531\" y=\"2844\" >22</text>\n",
       "  <text x=\"3815\" y=\"2844\" >24</text>\n",
       "  <text x=\"4100\" y=\"2844\" >26</text>\n",
       " </g>\n",
       "<desc>Heading, subheading and footnotes =====</desc>\n",
       "<desc>Start of Line Chart ===========</desc>\n",
       "<desc>Points follow ...</desc>\n",
       "<desc>Line</desc>\n",
       " <g stroke-width=\"3\" stroke=\"Navy\" stroke-linejoin=\"round\" stroke-linecap=\"round\" fill=\"none\" >\n",
       "  <path d=\"M3958 547L3815 634 3673 721 3531 808 3388 895 3246 982 3104 1068 2962 1155 2819 1242 2677 1329 2535 1416 2392 1503 2250 1590 2108 1677 1965 1764 1823 1851 1681 1938 1538 2025 1396 2112 1254 2198 1112 2285 969 2372 827 2459 685 2546 542 2633\" />\n",
       " </g>\n",
       "<desc>Reset to original origin</desc>\n",
       "</g>\n",
       "</svg>\n"
      ]
     },
     "execution_count": 124,
     "metadata": {},
     "output_type": "execute_result"
    }
   ],
   "source": [
    "x←⍳25\n",
    "y←10+5×x\n",
    "]plot y x"
   ]
  },
  {
   "cell_type": "markdown",
   "id": "f6a568dd",
   "metadata": {},
   "source": [
    "This data is too perfect. Let's add some noise:"
   ]
  },
  {
   "cell_type": "code",
   "execution_count": 125,
   "id": "e0e18071",
   "metadata": {},
   "outputs": [
    {
     "data": {
      "text/html": [
       "<svg version=\"1.1\" baseProfile=\"full\" width=\"100%\" height=\"100%\" viewBox=\"0 0 4320 3240\"  xmlns=\"http://www.w3.org/2000/svg\" xmlns:xlink=\"http://www.w3.org/1999/xlink\" xmlns:ev=\"http://www.w3.org/2001/xml-events\" >\n",
       "<desc>Created by Causeway SVG engine - SharpPlot v3.71.0</desc>\n",
       "<g stroke-miterlimit=\"100\">\n",
       "<desc>Paint the paper =====</desc>\n",
       " <g fill=\"White\" >\n",
       "  <rect x=\"0\" y=\"0\" width=\"4320\" height=\"3240\" />\n",
       " </g>\n",
       "<desc>Border =====</desc>\n",
       "<desc>Region =====</desc>\n",
       "<desc>X-Axis Ticks =====</desc>\n",
       "<desc>X-Axis tickmarks</desc>\n",
       " <path fill=\"none\" stroke-width=\"7.2\" stroke=\"Black\" d=\"M400 2720L400 2764M685 2720L685 2764M969 2720L969 2764M1254 2720L1254 2764M1538 2720L1538 2764M1823 2720L1823 2764M2108 2720L2108 2764M2392 2720L2392 2764M2677 2720L2677 2764M2962 2720L2962 2764M3246 2720L3246 2764M3531 2720L3531 2764M3815 2720L3815 2764M4100 2720L4100 2764\"/>\n",
       "<desc>Y-Axis Ticks =====</desc>\n",
       "<desc>Y-Axis tickmarks</desc>\n",
       " <path fill=\"none\" stroke-width=\"7.2\" stroke=\"Black\" d=\"M400 2720L367 2720M400 2546L367 2546M400 2372L367 2372M400 2198L367 2198M400 2025L367 2025M400 1851L367 1851M400 1677L367 1677M400 1503L367 1503M400 1329L367 1329M400 1155L367 1155M400 982L367 982M400 808L367 808M400 634L367 634M400 460L367 460\"/>\n",
       "<desc>Axes =====</desc>\n",
       " <path fill=\"none\" stroke-width=\"12\" stroke=\"Black\" d=\"M400 2764L400 416M356 2720L4144 2720\"/>\n",
       "<desc>Y-axis labels</desc>\n",
       " <g font-family=\"Times New Roman\" font-size=\"80\" text-anchor=\"end\" >\n",
       "  <text x=\"335\" y=\"2740\" >10</text>\n",
       "  <text x=\"335\" y=\"2566\" >20</text>\n",
       "  <text x=\"335\" y=\"2392\" >30</text>\n",
       "  <text x=\"335\" y=\"2218\" >40</text>\n",
       "  <text x=\"335\" y=\"2045\" >50</text>\n",
       "  <text x=\"335\" y=\"1871\" >60</text>\n",
       "  <text x=\"335\" y=\"1697\" >70</text>\n",
       "  <text x=\"335\" y=\"1523\" >80</text>\n",
       "  <text x=\"335\" y=\"1349\" >90</text>\n",
       "  <text x=\"335\" y=\"1175\" >100</text>\n",
       "  <text x=\"335\" y=\"1002\" >110</text>\n",
       "  <text x=\"335\" y=\"828\" >120</text>\n",
       "  <text x=\"335\" y=\"654\" >130</text>\n",
       "  <text x=\"335\" y=\"480\" >140</text>\n",
       " </g>\n",
       "<desc>for X-axis labels</desc>\n",
       " <g font-family=\"Times New Roman\" font-size=\"80\" text-anchor=\"middle\" >\n",
       "  <text x=\"400\" y=\"2844\" >0</text>\n",
       "  <text x=\"685\" y=\"2844\" >2</text>\n",
       "  <text x=\"969\" y=\"2844\" >4</text>\n",
       "  <text x=\"1254\" y=\"2844\" >6</text>\n",
       "  <text x=\"1538\" y=\"2844\" >8</text>\n",
       "  <text x=\"1823\" y=\"2844\" >10</text>\n",
       "  <text x=\"2108\" y=\"2844\" >12</text>\n",
       "  <text x=\"2392\" y=\"2844\" >14</text>\n",
       "  <text x=\"2677\" y=\"2844\" >16</text>\n",
       "  <text x=\"2962\" y=\"2844\" >18</text>\n",
       "  <text x=\"3246\" y=\"2844\" >20</text>\n",
       "  <text x=\"3531\" y=\"2844\" >22</text>\n",
       "  <text x=\"3815\" y=\"2844\" >24</text>\n",
       "  <text x=\"4100\" y=\"2844\" >26</text>\n",
       " </g>\n",
       "<desc>Heading, subheading and footnotes =====</desc>\n",
       "<desc>Start of Line Chart ===========</desc>\n",
       "<desc>Points follow ...</desc>\n",
       "<desc>Line</desc>\n",
       " <g stroke-width=\"3\" stroke=\"Navy\" stroke-linejoin=\"round\" stroke-linecap=\"round\" fill=\"none\" >\n",
       "  <path d=\"M3958 607L3815 566 3673 799 3531 871 3388 828 3246 1043 3104 1031 2962 1126 2819 1304 2677 1402 2535 1492 2392 1420 2250 1531 2108 1609 1965 1738 1823 1904 1681 1952 1538 1965 1396 2146 1254 2252 1112 2343 969 2298 827 2441 685 2477 542 2662\" />\n",
       " </g>\n",
       "<desc>Reset to original origin</desc>\n",
       "</g>\n",
       "</svg>\n"
      ]
     },
     "execution_count": 125,
     "metadata": {},
     "output_type": "execute_result"
    }
   ],
   "source": [
    "y+←(5-⍨10×?0⍴⍨≢y)\n",
    "]plot y x"
   ]
  },
  {
   "cell_type": "markdown",
   "id": "fa0151da",
   "metadata": {},
   "source": [
    "The slope is easy to determine if we already know what is the value of `a`:"
   ]
  },
  {
   "cell_type": "code",
   "execution_count": 126,
   "id": "b990853f",
   "metadata": {},
   "outputs": [
    {
     "data": {
      "text/html": [
       "<pre class=\"language-APL\">4.973640347\n",
       "</pre>"
      ]
     },
     "execution_count": 126,
     "metadata": {},
     "output_type": "execute_result"
    }
   ],
   "source": [
    "⊢b←(y-10)⌹x"
   ]
  },
  {
   "cell_type": "markdown",
   "id": "b747a636",
   "metadata": {},
   "source": [
    "We can also use `⌹` to fit several variables. To fit the value of `a`, we consider an additional variable with a constant value of 1, as explained in the [docuentation for `⌹`](https://help.dyalog.com/latest/index.htm#Language/Primitive%20Functions/Matrix%20Divide.htm). We just need to modify our right argument from"
   ]
  },
  {
   "cell_type": "code",
   "execution_count": 127,
   "id": "1f373175",
   "metadata": {},
   "outputs": [
    {
     "data": {
      "text/html": [
       "<pre class=\"language-APL\">1 2 3 4 5 6 7 8 9 10 ...\n",
       "</pre>"
      ]
     },
     "execution_count": 127,
     "metadata": {},
     "output_type": "execute_result"
    }
   ],
   "source": [
    "(10↑x),'...'"
   ]
  },
  {
   "cell_type": "markdown",
   "id": "1145df8f",
   "metadata": {},
   "source": [
    "into"
   ]
  },
  {
   "cell_type": "code",
   "execution_count": 128,
   "id": "7e36d109",
   "metadata": {},
   "outputs": [
    {
     "data": {
      "text/html": [
       "<pre class=\"language-APL\">1  1\n",
       "1  2\n",
       "1  3\n",
       "1  4\n",
       "1  5\n",
       "1  6\n",
       "1  7\n",
       "1  8\n",
       "1  9\n",
       "1 10\n",
       "...\n",
       "</pre>"
      ]
     },
     "execution_count": 128,
     "metadata": {},
     "output_type": "execute_result"
    }
   ],
   "source": [
    "(10↑1,⍪x)⋄'...'"
   ]
  },
  {
   "cell_type": "markdown",
   "id": "720c5ef6",
   "metadata": {},
   "source": [
    "(a vector is treated by `⌹` as a column vector). Then:"
   ]
  },
  {
   "cell_type": "code",
   "execution_count": 129,
   "id": "5dbfe77b",
   "metadata": {},
   "outputs": [
    {
     "data": {
      "text/html": [
       "<pre class=\"language-APL\">10.90863465 4.92019125\n",
       "</pre>"
      ]
     },
     "execution_count": 129,
     "metadata": {},
     "output_type": "execute_result"
    }
   ],
   "source": [
    "⊢a b←y⌹1,⍪x"
   ]
  },
  {
   "cell_type": "markdown",
   "id": "6ac77307",
   "metadata": {},
   "source": [
    "We still need to determine the [R-squared](https://en.wikipedia.org/wiki/Coefficient_of_determination) value, which can be calculated as one minus the ratio between the square of the differences between the real and estimated value and between the real value and the average of all values:"
   ]
  },
  {
   "cell_type": "code",
   "execution_count": 130,
   "id": "0b3b5046",
   "metadata": {},
   "outputs": [
    {
     "data": {
      "text/html": [
       "<pre class=\"language-APL\">0.9914685652\n",
       "</pre>"
      ]
     },
     "execution_count": 130,
     "metadata": {},
     "output_type": "execute_result"
    }
   ],
   "source": [
    "1-(+/×⍨y-a+b×x)÷+/×⍨(⊢-+/÷≢)y"
   ]
  },
  {
   "cell_type": "markdown",
   "id": "2b86621f",
   "metadata": {},
   "source": [
    "Our function to find `a`, `b` and `rsq` could be defined as:"
   ]
  },
  {
   "cell_type": "code",
   "execution_count": 131,
   "id": "2fed58b8",
   "metadata": {},
   "outputs": [
    {
     "data": {
      "text/html": [
       "<pre class=\"language-APL\">10.90863465 4.92019125 0.9914685652\n",
       "</pre>"
      ]
     },
     "execution_count": 131,
     "metadata": {},
     "output_type": "execute_result"
    }
   ],
   "source": [
    "LF←{(1-(+/×⍨⍺-a+b×⍵)÷+/×⍨(⊢-+/÷≢)⍺),⍨a b←⍺⌹1,⍪⍵}\n",
    "y LF x"
   ]
  },
  {
   "cell_type": "markdown",
   "id": "02aee4fb",
   "metadata": {},
   "source": [
    "We may want to calculate R-square values when fitting other functions too (how to fit those other functions is left as an exercise for the reader). In those cases, a `_R2` operator might be more convenient:"
   ]
  },
  {
   "cell_type": "code",
   "execution_count": 132,
   "id": "94d8570b",
   "metadata": {},
   "outputs": [
    {
     "data": {
      "text/html": [
       "<pre class=\"language-APL\">10.90863465 4.92019125 0.9914685652\n",
       "</pre>"
      ]
     },
     "execution_count": 132,
     "metadata": {},
     "output_type": "execute_result"
    }
   ],
   "source": [
    "_R2←{1-(+/×⍨⍺-⍺⍺⍵)÷+/×⍨(⊢-+/÷≢)⍺}\n",
    "LF←{(⍺(a+b∘×)_R2⍵),⍨a b←⍺⌹1,⍪⍵}\n",
    "y LF x"
   ]
  },
  {
   "cell_type": "markdown",
   "id": "100f00f0",
   "metadata": {},
   "source": [
    "It could also be useful to be able to perform fittings in which the value of `a` is known a-priori (the most obvious use case would be to force the curve to pass over the 0,0 point). That sounds like a task for an optional left argument, but our function already takes a left argument. Let's first modify it to take both arguments from its right, using the reduce operator:"
   ]
  },
  {
   "cell_type": "code",
   "execution_count": 133,
   "id": "4d499eb1",
   "metadata": {},
   "outputs": [
    {
     "data": {
      "text/html": [
       "<pre class=\"language-APL\">10.90863465 4.92019125 0.9914685652\n",
       "</pre>"
      ]
     },
     "execution_count": 133,
     "metadata": {},
     "output_type": "execute_result"
    },
    {
     "data": {
      "text/html": [
       "<svg version=\"1.1\" baseProfile=\"full\" width=\"100%\" height=\"100%\" viewBox=\"0 0 4320 3240\"  xmlns=\"http://www.w3.org/2000/svg\" xmlns:xlink=\"http://www.w3.org/1999/xlink\" xmlns:ev=\"http://www.w3.org/2001/xml-events\" >\n",
       "<desc>Created by Causeway SVG engine - SharpPlot v3.71.0</desc>\n",
       "<g stroke-miterlimit=\"100\">\n",
       "<desc>Paint the paper =====</desc>\n",
       " <g fill=\"White\" >\n",
       "  <rect x=\"0\" y=\"0\" width=\"4320\" height=\"3240\" />\n",
       " </g>\n",
       "<desc>Border =====</desc>\n",
       "<desc>Region =====</desc>\n",
       "<desc>X-Axis Ticks =====</desc>\n",
       "<desc>X-Axis tickmarks</desc>\n",
       " <path fill=\"none\" stroke-width=\"7.2\" stroke=\"Black\" d=\"M400 2720L400 2764M685 2720L685 2764M969 2720L969 2764M1254 2720L1254 2764M1538 2720L1538 2764M1823 2720L1823 2764M2108 2720L2108 2764M2392 2720L2392 2764M2677 2720L2677 2764M2962 2720L2962 2764M3246 2720L3246 2764M3531 2720L3531 2764M3815 2720L3815 2764M4100 2720L4100 2764\"/>\n",
       "<desc>Y-Axis Ticks =====</desc>\n",
       "<desc>Y-Axis tickmarks</desc>\n",
       " <path fill=\"none\" stroke-width=\"7.2\" stroke=\"Black\" d=\"M400 2720L367 2720M400 2546L367 2546M400 2372L367 2372M400 2198L367 2198M400 2025L367 2025M400 1851L367 1851M400 1677L367 1677M400 1503L367 1503M400 1329L367 1329M400 1155L367 1155M400 982L367 982M400 808L367 808M400 634L367 634M400 460L367 460\"/>\n",
       "<desc>Axes =====</desc>\n",
       " <path fill=\"none\" stroke-width=\"12\" stroke=\"Black\" d=\"M400 2764L400 416M356 2720L4144 2720\"/>\n",
       "<desc>Y-axis labels</desc>\n",
       " <g font-family=\"Times New Roman\" font-size=\"80\" text-anchor=\"end\" >\n",
       "  <text x=\"335\" y=\"2740\" >10</text>\n",
       "  <text x=\"335\" y=\"2566\" >20</text>\n",
       "  <text x=\"335\" y=\"2392\" >30</text>\n",
       "  <text x=\"335\" y=\"2218\" >40</text>\n",
       "  <text x=\"335\" y=\"2045\" >50</text>\n",
       "  <text x=\"335\" y=\"1871\" >60</text>\n",
       "  <text x=\"335\" y=\"1697\" >70</text>\n",
       "  <text x=\"335\" y=\"1523\" >80</text>\n",
       "  <text x=\"335\" y=\"1349\" >90</text>\n",
       "  <text x=\"335\" y=\"1175\" >100</text>\n",
       "  <text x=\"335\" y=\"1002\" >110</text>\n",
       "  <text x=\"335\" y=\"828\" >120</text>\n",
       "  <text x=\"335\" y=\"654\" >130</text>\n",
       "  <text x=\"335\" y=\"480\" >140</text>\n",
       " </g>\n",
       "<desc>for X-axis labels</desc>\n",
       " <g font-family=\"Times New Roman\" font-size=\"80\" text-anchor=\"middle\" >\n",
       "  <text x=\"400\" y=\"2844\" >0</text>\n",
       "  <text x=\"685\" y=\"2844\" >2</text>\n",
       "  <text x=\"969\" y=\"2844\" >4</text>\n",
       "  <text x=\"1254\" y=\"2844\" >6</text>\n",
       "  <text x=\"1538\" y=\"2844\" >8</text>\n",
       "  <text x=\"1823\" y=\"2844\" >10</text>\n",
       "  <text x=\"2108\" y=\"2844\" >12</text>\n",
       "  <text x=\"2392\" y=\"2844\" >14</text>\n",
       "  <text x=\"2677\" y=\"2844\" >16</text>\n",
       "  <text x=\"2962\" y=\"2844\" >18</text>\n",
       "  <text x=\"3246\" y=\"2844\" >20</text>\n",
       "  <text x=\"3531\" y=\"2844\" >22</text>\n",
       "  <text x=\"3815\" y=\"2844\" >24</text>\n",
       "  <text x=\"4100\" y=\"2844\" >26</text>\n",
       " </g>\n",
       "<desc>Heading, subheading and footnotes =====</desc>\n",
       "<desc>Start of Line Chart ===========</desc>\n",
       "<desc>Points follow ...</desc>\n",
       "<desc>Line</desc>\n",
       " <g stroke-width=\"3\" stroke=\"Navy\" stroke-linejoin=\"round\" stroke-linecap=\"round\" fill=\"none\" >\n",
       "  <path d=\"M3958 566L3815 651 3673 737 3531 822 3388 908 3246 993 3104 1079 2962 1165 2819 1250 2677 1336 2535 1421 2392 1507 2250 1592 2108 1678 1965 1763 1823 1849 1681 1934 1538 2020 1396 2105 1254 2191 1112 2277 969 2362 827 2448 685 2533 542 2619\" />\n",
       " </g>\n",
       "<desc>Points follow ...</desc>\n",
       "<desc>Line</desc>\n",
       " <g stroke-width=\"3\" stroke=\"Maroon\" stroke-linejoin=\"round\" stroke-linecap=\"round\" stroke-dasharray=\"9 12\" fill=\"none\" >\n",
       "  <path d=\"M3958 607L3815 566 3673 799 3531 871 3388 828 3246 1043 3104 1031 2962 1126 2819 1304 2677 1402 2535 1492 2392 1420 2250 1531 2108 1609 1965 1738 1823 1904 1681 1952 1538 1965 1396 2146 1254 2252 1112 2343 969 2298 827 2441 685 2477 542 2662\" />\n",
       " </g>\n",
       "<desc>Reset to original origin</desc>\n",
       "</g>\n",
       "</svg>\n"
      ]
     },
     "execution_count": 133,
     "metadata": {},
     "output_type": "execute_result"
    }
   ],
   "source": [
    "LF←{((a+b∘×)_R2/⍵),⍨a b←⊃⌹∘(1,⍪⍤⊢)/⍵}\n",
    "⊢a b _←LF y x\n",
    "]plot ((a+b×x) y) x -type=Line"
   ]
  },
  {
   "cell_type": "markdown",
   "id": "4e093f31",
   "metadata": {},
   "source": [
    "With a left argument, we will use it as the value of the ordinate at the origin:"
   ]
  },
  {
   "cell_type": "code",
   "execution_count": 134,
   "id": "95988e32",
   "metadata": {},
   "outputs": [
    {
     "data": {
      "text/html": [
       "<pre class=\"language-APL\">10 4.973640347 0.9913155617\n",
       "</pre>"
      ]
     },
     "execution_count": 134,
     "metadata": {},
     "output_type": "execute_result"
    },
    {
     "data": {
      "text/html": [
       "<pre class=\"language-APL\">0 5.561875641 0.9694157773\n",
       "</pre>"
      ]
     },
     "execution_count": 134,
     "metadata": {},
     "output_type": "execute_result"
    },
    {
     "data": {
      "text/html": [
       "<svg version=\"1.1\" baseProfile=\"full\" width=\"100%\" height=\"100%\" viewBox=\"0 0 4320 3240\"  xmlns=\"http://www.w3.org/2000/svg\" xmlns:xlink=\"http://www.w3.org/1999/xlink\" xmlns:ev=\"http://www.w3.org/2001/xml-events\" >\n",
       "<desc>Created by Causeway SVG engine - SharpPlot v3.71.0</desc>\n",
       "<g stroke-miterlimit=\"100\">\n",
       "<desc>Paint the paper =====</desc>\n",
       " <g fill=\"White\" >\n",
       "  <rect x=\"0\" y=\"0\" width=\"4320\" height=\"3240\" />\n",
       " </g>\n",
       "<desc>Border =====</desc>\n",
       "<desc>Region =====</desc>\n",
       "<desc>X-Axis Ticks =====</desc>\n",
       "<desc>X-Axis tickmarks</desc>\n",
       " <path fill=\"none\" stroke-width=\"7.2\" stroke=\"Black\" d=\"M400 2720L400 2764M685 2720L685 2764M969 2720L969 2764M1254 2720L1254 2764M1538 2720L1538 2764M1823 2720L1823 2764M2108 2720L2108 2764M2392 2720L2392 2764M2677 2720L2677 2764M2962 2720L2962 2764M3246 2720L3246 2764M3531 2720L3531 2764M3815 2720L3815 2764M4100 2720L4100 2764\"/>\n",
       "<desc>Y-Axis Ticks =====</desc>\n",
       "<desc>Y-Axis tickmarks</desc>\n",
       " <path fill=\"none\" stroke-width=\"7.2\" stroke=\"Black\" d=\"M400 2720L367 2720M400 2397L367 2397M400 2074L367 2074M400 1751L367 1751M400 1429L367 1429M400 1106L367 1106M400 783L367 783M400 460L367 460\"/>\n",
       "<desc>Axes =====</desc>\n",
       " <path fill=\"none\" stroke-width=\"12\" stroke=\"Black\" d=\"M400 2764L400 416M356 2720L4144 2720\"/>\n",
       "<desc>Y-axis labels</desc>\n",
       " <g font-family=\"Times New Roman\" font-size=\"80\" text-anchor=\"end\" >\n",
       "  <text x=\"335\" y=\"2740\" >0</text>\n",
       "  <text x=\"335\" y=\"2417\" >20</text>\n",
       "  <text x=\"335\" y=\"2094\" >40</text>\n",
       "  <text x=\"335\" y=\"1771\" >60</text>\n",
       "  <text x=\"335\" y=\"1449\" >80</text>\n",
       "  <text x=\"335\" y=\"1126\" >100</text>\n",
       "  <text x=\"335\" y=\"803\" >120</text>\n",
       "  <text x=\"335\" y=\"480\" >140</text>\n",
       " </g>\n",
       "<desc>for X-axis labels</desc>\n",
       " <g font-family=\"Times New Roman\" font-size=\"80\" text-anchor=\"middle\" >\n",
       "  <text x=\"400\" y=\"2844\" >0</text>\n",
       "  <text x=\"685\" y=\"2844\" >2</text>\n",
       "  <text x=\"969\" y=\"2844\" >4</text>\n",
       "  <text x=\"1254\" y=\"2844\" >6</text>\n",
       "  <text x=\"1538\" y=\"2844\" >8</text>\n",
       "  <text x=\"1823\" y=\"2844\" >10</text>\n",
       "  <text x=\"2108\" y=\"2844\" >12</text>\n",
       "  <text x=\"2392\" y=\"2844\" >14</text>\n",
       "  <text x=\"2677\" y=\"2844\" >16</text>\n",
       "  <text x=\"2962\" y=\"2844\" >18</text>\n",
       "  <text x=\"3246\" y=\"2844\" >20</text>\n",
       "  <text x=\"3531\" y=\"2844\" >22</text>\n",
       "  <text x=\"3815\" y=\"2844\" >24</text>\n",
       "  <text x=\"4100\" y=\"2844\" >26</text>\n",
       " </g>\n",
       "<desc>Heading, subheading and footnotes =====</desc>\n",
       "<desc>Start of Line Chart ===========</desc>\n",
       "<desc>Points follow ...</desc>\n",
       "<desc>Line</desc>\n",
       " <g stroke-width=\"3\" stroke=\"Navy\" stroke-linejoin=\"round\" stroke-linecap=\"round\" fill=\"none\" >\n",
       "  <path d=\"M3958 551L3815 632 3673 712 3531 792 3388 873 3246 953 3104 1033 2962 1113 2819 1194 2677 1274 2535 1354 2392 1435 2250 1515 2108 1595 1965 1675 1823 1756 1681 1836 1538 1916 1396 1997 1254 2077 1112 2157 969 2237 827 2318 685 2398 542 2478\" />\n",
       " </g>\n",
       "<desc>Points follow ...</desc>\n",
       "<desc>Line</desc>\n",
       " <g stroke-width=\"3\" stroke=\"Maroon\" stroke-linejoin=\"round\" stroke-linecap=\"round\" stroke-dasharray=\"9 12\" fill=\"none\" >\n",
       "  <path d=\"M3958 475L3815 565 3673 655 3531 745 3388 835 3246 924 3104 1014 2962 1104 2819 1194 2677 1283 2535 1373 2392 1463 2250 1553 2108 1643 1965 1732 1823 1822 1681 1912 1538 2002 1396 2092 1254 2181 1112 2271 969 2361 827 2451 685 2540 542 2630\" />\n",
       " </g>\n",
       "<desc>Points follow ...</desc>\n",
       "<desc>Line</desc>\n",
       " <g stroke-width=\"3\" stroke=\"Teal\" stroke-linejoin=\"round\" stroke-linecap=\"round\" stroke-dasharray=\"0.3 5.7\" fill=\"none\" >\n",
       "  <path d=\"M3958 597L3815 559 3673 775 3531 841 3388 802 3246 1001 3104 990 2962 1078 2819 1244 2677 1335 2535 1418 2392 1352 2250 1455 2108 1527 1965 1646 1823 1800 1681 1845 1538 1858 1396 2026 1254 2124 1112 2208 969 2167 827 2300 685 2333 542 2505\" />\n",
       " </g>\n",
       "<desc>Points follow ...</desc>\n",
       "<desc>Line</desc>\n",
       " <g stroke-width=\"3\" stroke=\"Green\" stroke-linejoin=\"round\" stroke-linecap=\"round\" stroke-dasharray=\"9 6.45 0.3 6.45\" fill=\"none\" >\n",
       "  <path d=\"M3958 597L3815 559 3673 775 3531 841 3388 802 3246 1001 3104 990 2962 1078 2819 1244 2677 1335 2535 1418 2392 1352 2250 1455 2108 1527 1965 1646 1823 1800 1681 1845 1538 1858 1396 2026 1254 2124 1112 2208 969 2167 827 2300 685 2333 542 2505\" />\n",
       " </g>\n",
       "<desc>Reset to original origin</desc>\n",
       "</g>\n",
       "</svg>\n"
      ]
     },
     "execution_count": 134,
     "metadata": {},
     "output_type": "execute_result"
    }
   ],
   "source": [
    "LF←{⍺,((⍺+b∘×)_R2/⍵),⍨b←⌹/⍵-⍺ 0}\n",
    "⊢ad bd _←10 LF y x\n",
    "⊢az bz _← 0 LF y x\n",
    "]plot ((ad+bd×x) (az+bz×x) y y) x"
   ]
  },
  {
   "cell_type": "markdown",
   "id": "8c1b442e",
   "metadata": {},
   "source": [
    "After combining these two functions into one that takes an optional argument, this is our final result:"
   ]
  },
  {
   "cell_type": "code",
   "execution_count": 135,
   "id": "b9b5767b",
   "metadata": {},
   "outputs": [
    {
     "data": {
      "text/html": [
       "<pre class=\"language-APL\">10 4.973640347 0.9913155617\n",
       "</pre>"
      ]
     },
     "execution_count": 135,
     "metadata": {},
     "output_type": "execute_result"
    },
    {
     "data": {
      "text/html": [
       "<pre class=\"language-APL\">10.90863465 4.92019125 0.9914685652\n",
       "</pre>"
      ]
     },
     "execution_count": 135,
     "metadata": {},
     "output_type": "execute_result"
    }
   ],
   "source": [
    "_R2←{1-(+/×⍨⍺-⍺⍺⍵)÷+/×⍨(⊢-+/÷≢)⍺}\n",
    "LF←{F←{((a+b∘×)_R2/⍺),⍨a b←⍵} ⋄ 0=⎕NC'⍺': ⍵F⊃⌹∘(1,⍪⍤⊢)/⍵ ⋄ ⍵F⍺(⌹/⍵-⍺ 0)}\n",
    "10 LF y x\n",
    "   LF y x"
   ]
  },
  {
   "cell_type": "code",
   "execution_count": null,
   "id": "2aba4559",
   "metadata": {},
   "outputs": [],
   "source": []
  }
 ],
 "metadata": {
  "kernelspec": {
   "display_name": "Dyalog APL",
   "language": "apl",
   "name": "dyalog-kernel"
  },
  "language_info": {
   "file_extension": ".apl",
   "mimetype": "text/apl",
   "name": "APL"
  }
 },
 "nbformat": 4,
 "nbformat_minor": 5
}
