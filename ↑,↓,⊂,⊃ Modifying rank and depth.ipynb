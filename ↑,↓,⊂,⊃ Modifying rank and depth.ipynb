{
 "cells": [
  {
   "cell_type": "markdown",
   "metadata": {},
   "source": [
    "Monadic `↑` (Mix) is a useful function for creating higher rank arrays. Mix  assembles the items of an array into a higher-rank array with one 1 less level of nesting. For example, given a vector of vectors, it returns a matrix with each vector as a row."
   ]
  },
  {
   "cell_type": "code",
   "execution_count": 1,
   "metadata": {},
   "outputs": [
    {
     "data": {
      "text/html": [
       "<span style=\"white-space:pre; font-family: monospace\">1 2 3\n",
       "4 2 2\n",
       "a b c\n",
       "</span>"
      ]
     },
     "execution_count": 1,
     "metadata": {},
     "output_type": "execute_result"
    }
   ],
   "source": [
    "↑(1 2 3)(4 2 2)'abc'"
   ]
  },
  {
   "cell_type": "code",
   "execution_count": 2,
   "metadata": {},
   "outputs": [
    {
     "data": {
      "text/html": [
       "<span style=\"white-space:pre; font-family: monospace\">┌───┬───┐\n",
       "│1 2│3 4│\n",
       "├───┼───┤\n",
       "│5 6│7  │\n",
       "└───┴───┘\n",
       "</span>"
      ]
     },
     "execution_count": 2,
     "metadata": {},
     "output_type": "execute_result"
    }
   ],
   "source": [
    "↑((1 2)(3 4))((5 6) 7)"
   ]
  },
  {
   "cell_type": "markdown",
   "metadata": {},
   "source": [
    "If the vectors in the argument are different in shape a fill element is used to pad the array to a rectangle. The fill element is the prototype of the first element.\n",
    "\n",
    "The prototypical number is `0`, and the character is `' '`. The prototype of an array is an array of prototypes - The same array, but where each scalar is replaced by it's prototype."
   ]
  },
  {
   "cell_type": "code",
   "execution_count": 3,
   "metadata": {},
   "outputs": [
    {
     "data": {
      "text/html": [
       "<span style=\"white-space:pre; font-family: monospace\">1 2 3\n",
       "3 3 0\n",
       "4 3 2\n",
       "x    \n",
       "</span>"
      ]
     },
     "execution_count": 3,
     "metadata": {},
     "output_type": "execute_result"
    }
   ],
   "source": [
    "↑(1 2 3)(3 3)(4 3 2)'x'"
   ]
  },
  {
   "cell_type": "code",
   "execution_count": 4,
   "metadata": {},
   "outputs": [
    {
     "data": {
      "text/html": [
       "<span style=\"white-space:pre; font-family: monospace\">┌───┬───┬───┐\n",
       "│1 2│3 4│5 6│\n",
       "├───┼───┼───┤\n",
       "│7 8│9  │0 0│\n",
       "└───┴───┴───┘\n",
       "</span>"
      ]
     },
     "execution_count": 4,
     "metadata": {},
     "output_type": "execute_result"
    }
   ],
   "source": [
    "↑((1 2)(3 4)(5 6))((7 8) 9)"
   ]
  },
  {
   "cell_type": "markdown",
   "metadata": {},
   "source": [
    "The fill element for `(7 8) 9` is the prototype of `7 8`; `0 0`"
   ]
  },
  {
   "cell_type": "markdown",
   "metadata": {},
   "source": [
    "When mixing a vector of higher rank arrays, the result will have the a rank one more than the array of greatest rank in the argument. Mixing a vector of matrices will create a 3 dimenional array where each matrix is a plane."
   ]
  },
  {
   "cell_type": "code",
   "execution_count": 5,
   "metadata": {},
   "outputs": [
    {
     "data": {
      "text/html": [
       "<span style=\"white-space:pre; font-family: monospace\">ab\n",
       "cd\n",
       "  \n",
       "ef\n",
       "gh\n",
       "  \n",
       "ij\n",
       "kl\n",
       "</span>"
      ]
     },
     "execution_count": 5,
     "metadata": {},
     "output_type": "execute_result"
    }
   ],
   "source": [
    "↑(2 2⍴'abcd')(2 2⍴'efgh')(2 2⍴'ijkl')"
   ]
  },
  {
   "cell_type": "markdown",
   "metadata": {},
   "source": [
    "Again, if the shapes are not all the same, the mismatched arrays are filled with the prototype of their first element:"
   ]
  },
  {
   "cell_type": "code",
   "execution_count": 17,
   "metadata": {},
   "outputs": [
    {
     "data": {
      "text/html": [
       "<span style=\"white-space:pre; font-family: monospace\">1 2 0\n",
       "3 1 0\n",
       "2 3 0\n",
       "     \n",
       "a b c\n",
       "a b c\n",
       "     \n",
       "     \n",
       "x x  \n",
       "x x  \n",
       "     \n",
       "</span>"
      ]
     },
     "execution_count": 17,
     "metadata": {},
     "output_type": "execute_result"
    }
   ],
   "source": [
    "↑(3 2⍴1 2 3)(2 3⍴'abc')(2 2⍴'x')"
   ]
  },
  {
   "cell_type": "markdown",
   "metadata": {},
   "source": [
    "Here, the shape of each layer is `3 3` which is the smallest shape that the all the layers can be extended to. The rows of the first element get extended, the columns of the second, and both rows and columns are extended on the last element.\n",
    "\n",
    "If the ranks of the arrays in the argument are different, the shapes are padded with `1`s. For example a length 4 vector may become a 1 by 4 matrix. After the ranks are extended the shapes are then checked and extended as before"
   ]
  },
  {
   "cell_type": "code",
   "execution_count": 22,
   "metadata": {},
   "outputs": [
    {
     "data": {
      "text/html": [
       "<span style=\"white-space:pre; font-family: monospace\">1 2 3\n",
       "0 0 0\n",
       "0 0 0\n",
       "     \n",
       "0 0 0\n",
       "0 0 0\n",
       "0 0 0\n",
       "     \n",
       "     \n",
       "⎕ ⎕  \n",
       "⎕ ⎕  \n",
       "     \n",
       "     \n",
       "⎕ ⎕  \n",
       "⎕ ⎕  \n",
       "     \n",
       "     \n",
       "     \n",
       "4 5 0\n",
       "6 4 0\n",
       "5 6 0\n",
       "     \n",
       "0 0 0\n",
       "0 0 0\n",
       "0 0 0\n",
       "</span>"
      ]
     },
     "execution_count": 22,
     "metadata": {},
     "output_type": "execute_result"
    }
   ],
   "source": [
    "↑(1 2 3)(2 2 2⍴'⎕')(3 2⍴4 5 6)"
   ]
  },
  {
   "cell_type": "markdown",
   "metadata": {},
   "source": [
    "If an array `A` has shape `X` and the shape of each item (after extension) in `A` is `Y`, then `⍴↑A` is `X,Y`"
   ]
  },
  {
   "cell_type": "markdown",
   "metadata": {},
   "source": [
    "Monadic `↓` (Split) is the counterpart to mix. It converts a higher rank array into a nested array. The result of split will have a rank one less than the argument, unless the argument is scalar, in which case the rank will remain `0`. "
   ]
  },
  {
   "cell_type": "code",
   "execution_count": 6,
   "metadata": {},
   "outputs": [
    {
     "data": {
      "text/html": [
       "<span style=\"white-space:pre; font-family: monospace\">┌───┬───┐\n",
       "│1 2│3 4│\n",
       "└───┴───┘\n",
       "</span>"
      ]
     },
     "execution_count": 6,
     "metadata": {},
     "output_type": "execute_result"
    }
   ],
   "source": [
    "↓2 2⍴1 2 3 4"
   ]
  },
  {
   "cell_type": "code",
   "execution_count": 7,
   "metadata": {},
   "outputs": [
    {
     "data": {
      "text/html": [
       "<span style=\"white-space:pre; font-family: monospace\">┌────────┬────────┬────────┐\n",
       "│1 2 3   │4 5 6   │7 8 9   │\n",
       "├────────┼────────┼────────┤\n",
       "│10 11 12│13 14 15│16 17 18│\n",
       "├────────┼────────┼────────┤\n",
       "│19 20 21│22 23 24│25 26 27│\n",
       "└────────┴────────┴────────┘\n",
       "</span>"
      ]
     },
     "execution_count": 7,
     "metadata": {},
     "output_type": "execute_result"
    }
   ],
   "source": [
    "↓3 3 3⍴⍳27"
   ]
  },
  {
   "cell_type": "code",
   "execution_count": 8,
   "metadata": {},
   "outputs": [
    {
     "data": {
      "text/html": [
       "<span style=\"white-space:pre; font-family: monospace\">┌─────┬───┬─────┐\n",
       "│1 2 3│abc│3 4 0│\n",
       "└─────┴───┴─────┘\n",
       "</span>"
      ]
     },
     "execution_count": 8,
     "metadata": {},
     "output_type": "execute_result"
    }
   ],
   "source": [
    "↓↑(1 2 3)'abc'(3 4)"
   ]
  },
  {
   "cell_type": "code",
   "execution_count": 9,
   "metadata": {},
   "outputs": [
    {
     "data": {
      "text/html": [
       "<span style=\"white-space:pre; font-family: monospace\">┌───────────┬─────────┬───────────┐\n",
       "│┌───┬─┬───┐│┌─┬───┬─┐│┌───┬─┬───┐│\n",
       "││1 1│3│1 1│││3│1 1│3│││1 1│3│1 1││\n",
       "││1 1│ │1 1│││ │1 1│ │││1 1│ │1 1││\n",
       "│└───┴─┴───┘│└─┴───┴─┘│└───┴─┴───┘│\n",
       "└───────────┴─────────┴───────────┘\n",
       "</span>"
      ]
     },
     "execution_count": 9,
     "metadata": {},
     "output_type": "execute_result"
    }
   ],
   "source": [
    "↓3 3⍴(2 2⍴1) 3"
   ]
  },
  {
   "cell_type": "markdown",
   "metadata": {},
   "source": [
    "If the argument is a vector, split must return a scalar because it decrease the rank by 1. However the content isn't changed when splitting. This means that splitting a vector returns an enclosed vector."
   ]
  },
  {
   "cell_type": "code",
   "execution_count": 10,
   "metadata": {},
   "outputs": [
    {
     "data": {
      "text/html": [
       "<span style=\"white-space:pre; font-family: monospace\">┌─────┐\n",
       "│7 6 2│\n",
       "└─────┘\n",
       "</span>"
      ]
     },
     "execution_count": 10,
     "metadata": {},
     "output_type": "execute_result"
    }
   ],
   "source": [
    "↓7 6 2"
   ]
  },
  {
   "cell_type": "code",
   "execution_count": 11,
   "metadata": {
    "scrolled": false
   },
   "outputs": [
    {
     "data": {
      "text/html": [
       "<span style=\"white-space:pre; font-family: monospace\">0\n",
       "</span>"
      ]
     },
     "execution_count": 11,
     "metadata": {},
     "output_type": "execute_result"
    }
   ],
   "source": [
    "⍴⍴ ↓7 6 2"
   ]
  },
  {
   "cell_type": "markdown",
   "metadata": {},
   "source": [
    "Numbers and characters are known as simple scalars, because their depth is 0. Spliting a simple scalar does nothing, the result is the argument itself. However, spliting other scalars increases their depth by 1."
   ]
  },
  {
   "cell_type": "code",
   "execution_count": 12,
   "metadata": {},
   "outputs": [
    {
     "data": {
      "text/html": [
       "<span style=\"white-space:pre; font-family: monospace\">1\n",
       "</span>"
      ]
     },
     "execution_count": 12,
     "metadata": {},
     "output_type": "execute_result"
    }
   ],
   "source": [
    "↓1"
   ]
  },
  {
   "cell_type": "code",
   "execution_count": 13,
   "metadata": {},
   "outputs": [
    {
     "data": {
      "text/html": [
       "<span style=\"white-space:pre; font-family: monospace\">┌─────┐\n",
       "│┌───┐│\n",
       "││4 5││\n",
       "│└───┘│\n",
       "└─────┘\n",
       "</span>"
      ]
     },
     "execution_count": 13,
     "metadata": {},
     "output_type": "execute_result"
    }
   ],
   "source": [
    "↓↓4 5"
   ]
  },
  {
   "cell_type": "markdown",
   "metadata": {},
   "source": [
    "Mix also will do nothing to a simple scalar, but will decrease the depth of nested scalars by 1."
   ]
  },
  {
   "cell_type": "code",
   "execution_count": 14,
   "metadata": {},
   "outputs": [
    {
     "data": {
      "text/html": [
       "<span style=\"white-space:pre; font-family: monospace\">1\n",
       "</span>"
      ]
     },
     "execution_count": 14,
     "metadata": {},
     "output_type": "execute_result"
    }
   ],
   "source": [
    "↑1"
   ]
  },
  {
   "cell_type": "code",
   "execution_count": 15,
   "metadata": {},
   "outputs": [
    {
     "data": {
      "text/html": [
       "<span style=\"white-space:pre; font-family: monospace\">┌─────┐\n",
       "│1 2 3│\n",
       "└─────┘\n",
       "</span>"
      ]
     },
     "execution_count": 15,
     "metadata": {},
     "output_type": "execute_result"
    }
   ],
   "source": [
    "↑↓↓1 2 3"
   ]
  },
  {
   "cell_type": "code",
   "execution_count": 16,
   "metadata": {},
   "outputs": [
    {
     "data": {
      "text/html": [
       "<span style=\"white-space:pre; font-family: monospace\">APL\n",
       "</span>"
      ]
     },
     "execution_count": 16,
     "metadata": {},
     "output_type": "execute_result"
    }
   ],
   "source": [
    "↑↓'APL'"
   ]
  }
 ],
 "metadata": {
  "kernelspec": {
   "display_name": "Dyalog APL",
   "language": "apl",
   "name": "dyalog-kernel"
  },
  "language_info": {
   "file_extension": ".apl",
   "mimetype": "text/apl",
   "name": "apl"
  }
 },
 "nbformat": 4,
 "nbformat_minor": 2
}
