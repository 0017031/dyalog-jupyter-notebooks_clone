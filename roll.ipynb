{
 "cells": [
  {
   "cell_type": "markdown",
   "metadata": {},
   "source": [
    "# Taking APL for a roll\n",
    "The question mark <span class=\"APL\">?</span> implements the \"roll\" function in APL.<br/>\n",
    "<span class=\"APL\">?n</span> will return a number pseudo-randomly selected from the integers in <span class=\"APL\">⍳n</span> with each integer having an equal chance of being selected."
   ]
  },
  {
   "cell_type": "markdown",
   "metadata": {},
   "source": [
    "<div class=\"lessonstep\">List the first 6 integers</div>"
   ]
  },
  {
   "cell_type": "code",
   "execution_count": 1,
   "metadata": {},
   "outputs": [
    {
     "data": {
      "text/html": [
       "<span style=\"white-space:pre; font-family: monospace\">1 2 3 4 5 6\n",
       "</span>"
      ]
     },
     "execution_count": 1,
     "metadata": {},
     "output_type": "execute_result"
    }
   ],
   "source": [
    "⍳6"
   ]
  },
  {
   "cell_type": "markdown",
   "metadata": {},
   "source": [
    "<div class=\"lessonstep\">Now generate one of them at random...</div>"
   ]
  },
  {
   "cell_type": "code",
   "execution_count": 2,
   "metadata": {},
   "outputs": [
    {
     "data": {
      "text/html": [
       "<span style=\"white-space:pre; font-family: monospace\">5\n",
       "</span>"
      ]
     },
     "execution_count": 2,
     "metadata": {},
     "output_type": "execute_result"
    }
   ],
   "source": [
    "?6"
   ]
  },
  {
   "cell_type": "markdown",
   "metadata": {},
   "source": [
    "<div class=\"lessonstep\">Try again, it has a 1 in 6 chance of being the same</div>"
   ]
  },
  {
   "cell_type": "code",
   "execution_count": 3,
   "metadata": {},
   "outputs": [
    {
     "data": {
      "text/html": [
       "<span style=\"white-space:pre; font-family: monospace\">4\n",
       "</span>"
      ]
     },
     "execution_count": 3,
     "metadata": {},
     "output_type": "execute_result"
    }
   ],
   "source": [
    "?6"
   ]
  },
  {
   "cell_type": "markdown",
   "metadata": {},
   "source": [
    "<div class=\"lessonstep\">If you kept executing <span class=\"APL\">?6</span>, it would be like rolling a 6-sided die over and over.  But what if we have 5 dice?</div>"
   ]
  },
  {
   "cell_type": "code",
   "execution_count": 4,
   "metadata": {},
   "outputs": [
    {
     "data": {
      "text/html": [
       "<span style=\"white-space:pre; font-family: monospace\">2 1 2 3 1\n",
       "</span>"
      ]
     },
     "execution_count": 4,
     "metadata": {},
     "output_type": "execute_result"
    }
   ],
   "source": [
    "?6 6 6 6 6"
   ]
  },
  {
   "cell_type": "markdown",
   "metadata": {},
   "source": [
    "<div class=\"lessonstep\">APL functions can take arrays as arguments and return arrays as results.</div>"
   ]
  },
  {
   "cell_type": "markdown",
   "metadata": {},
   "source": [
    "<div class=\"lessonstep\">Here's another way of rolling 5 dice at once.</div>"
   ]
  },
  {
   "cell_type": "code",
   "execution_count": 5,
   "metadata": {},
   "outputs": [
    {
     "data": {
      "text/html": [
       "<span style=\"white-space:pre; font-family: monospace\">2 3 5 5 4\n",
       "</span>"
      ]
     },
     "execution_count": 5,
     "metadata": {},
     "output_type": "execute_result"
    }
   ],
   "source": [
    "?5⍴6"
   ]
  },
  {
   "cell_type": "markdown",
   "metadata": {},
   "source": [
    "<div class=\"lessonstep\">Now let's look at some ideas about probability...</div>"
   ]
  },
  {
   "cell_type": "markdown",
   "metadata": {},
   "source": [
    "<div class=\"lessonstep\">The casino table game known as \"craps\" uses 2 6-sided dice that are added to give results in the range of 2-12.  The table of all possible rolls looks like this...</div>"
   ]
  },
  {
   "cell_type": "code",
   "execution_count": 6,
   "metadata": {},
   "outputs": [
    {
     "data": {
      "text/html": [
       "<span style=\"white-space:pre; font-family: monospace\">┌───┬───┬───┬───┬───┬───┐\n",
       "│1 1│1 2│1 3│1 4│1 5│1 6│\n",
       "├───┼───┼───┼───┼───┼───┤\n",
       "│2 1│2 2│2 3│2 4│2 5│2 6│\n",
       "├───┼───┼───┼───┼───┼───┤\n",
       "│3 1│3 2│3 3│3 4│3 5│3 6│\n",
       "├───┼───┼───┼───┼───┼───┤\n",
       "│4 1│4 2│4 3│4 4│4 5│4 6│\n",
       "├───┼───┼───┼───┼───┼───┤\n",
       "│5 1│5 2│5 3│5 4│5 5│5 6│\n",
       "├───┼───┼───┼───┼───┼───┤\n",
       "│6 1│6 2│6 3│6 4│6 5│6 6│\n",
       "└───┴───┴───┴───┴───┴───┘\n",
       "</span>"
      ]
     },
     "execution_count": 6,
     "metadata": {},
     "output_type": "execute_result"
    }
   ],
   "source": [
    "⍳6 6"
   ]
  },
  {
   "cell_type": "markdown",
   "metadata": {},
   "source": [
    "<div class=\"lessonstep\">And the totals are given by summing \"each\" roll, in this case using APL's \"each\" operator <span class=\"APL\">¨</span></div>"
   ]
  },
  {
   "cell_type": "code",
   "execution_count": 7,
   "metadata": {},
   "outputs": [
    {
     "data": {
      "text/html": [
       "<span style=\"white-space:pre; font-family: monospace\">2 3 4  5  6  7\n",
       "3 4 5  6  7  8\n",
       "4 5 6  7  8  9\n",
       "5 6 7  8  9 10\n",
       "6 7 8  9 10 11\n",
       "7 8 9 10 11 12\n",
       "</span>"
      ]
     },
     "execution_count": 7,
     "metadata": {},
     "output_type": "execute_result"
    }
   ],
   "source": [
    "+/¨⍳6 6"
   ]
  },
  {
   "cell_type": "markdown",
   "metadata": {},
   "source": [
    "<div class=\"lessonstep\">So first, let's create a function to compute the elements in the range of results.</div>"
   ]
  },
  {
   "cell_type": "code",
   "execution_count": 8,
   "metadata": {},
   "outputs": [],
   "source": [
    "range←{(¯1+⍴,⍵)↓⍳+/⍵}"
   ]
  },
  {
   "cell_type": "code",
   "execution_count": 9,
   "metadata": {},
   "outputs": [
    {
     "data": {
      "text/html": [
       "<span style=\"white-space:pre; font-family: monospace\">2 3 4 5 6 7 8 9 10 11 12\n",
       "</span>"
      ]
     },
     "execution_count": 9,
     "metadata": {},
     "output_type": "execute_result"
    }
   ],
   "source": [
    "range 6 6"
   ]
  },
  {
   "cell_type": "code",
   "execution_count": 10,
   "metadata": {},
   "outputs": [],
   "source": [
    "graph←{⍉↑t n('⎕'⍴⍨¨⌊0.5+20×{⍵÷⌈/⍵}n←+/(t←∪,+/¨⍳⍵)∘.=+/¨?⍺⍴⊂⍵)}"
   ]
  },
  {
   "cell_type": "code",
   "execution_count": 11,
   "metadata": {},
   "outputs": [
    {
     "data": {
      "text/html": [
       "<span style=\"white-space:pre; font-family: monospace\">┌──┬────┬────────────────────┐\n",
       "│2 │274 │⎕⎕⎕                 │\n",
       "├──┼────┼────────────────────┤\n",
       "│3 │561 │⎕⎕⎕⎕⎕⎕⎕             │\n",
       "├──┼────┼────────────────────┤\n",
       "│4 │766 │⎕⎕⎕⎕⎕⎕⎕⎕⎕           │\n",
       "├──┼────┼────────────────────┤\n",
       "│5 │1150│⎕⎕⎕⎕⎕⎕⎕⎕⎕⎕⎕⎕⎕⎕      │\n",
       "├──┼────┼────────────────────┤\n",
       "│6 │1407│⎕⎕⎕⎕⎕⎕⎕⎕⎕⎕⎕⎕⎕⎕⎕⎕⎕   │\n",
       "├──┼────┼────────────────────┤\n",
       "│7 │1678│⎕⎕⎕⎕⎕⎕⎕⎕⎕⎕⎕⎕⎕⎕⎕⎕⎕⎕⎕⎕│\n",
       "├──┼────┼────────────────────┤\n",
       "│8 │1336│⎕⎕⎕⎕⎕⎕⎕⎕⎕⎕⎕⎕⎕⎕⎕⎕    │\n",
       "├──┼────┼────────────────────┤\n",
       "│9 │1121│⎕⎕⎕⎕⎕⎕⎕⎕⎕⎕⎕⎕⎕       │\n",
       "├──┼────┼────────────────────┤\n",
       "│10│838 │⎕⎕⎕⎕⎕⎕⎕⎕⎕⎕          │\n",
       "├──┼────┼────────────────────┤\n",
       "│11│582 │⎕⎕⎕⎕⎕⎕⎕             │\n",
       "├──┼────┼────────────────────┤\n",
       "│12│287 │⎕⎕⎕                 │\n",
       "└──┴────┴────────────────────┘\n",
       "</span>"
      ]
     },
     "execution_count": 11,
     "metadata": {},
     "output_type": "execute_result"
    }
   ],
   "source": [
    "10000 graph 6 6"
   ]
  }
 ],
 "metadata": {
  "kernelspec": {
   "display_name": "Dyalog APL",
   "language": "apl",
   "name": "dyalog-kernel"
  },
  "language_info": {
   "file_extension": ".apl",
   "mimetype": "text/apl",
   "name": "apl"
  }
 },
 "nbformat": 4,
 "nbformat_minor": 2
}
