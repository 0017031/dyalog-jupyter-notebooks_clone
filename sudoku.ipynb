{
 "cells": [
  {
   "cell_type": "markdown",
   "metadata": {},
   "source": [
    "## Sudoku Solver\n",
    "Let's begin by developing a \"contention map\", \n",
    "which shows, for each cell in an <span class=\"APL\">⍵×⍵</span> Sudoku puzzle, \n",
    "those cells that occupy the same row, column or box:"
   ]
  },
  {
   "cell_type": "code",
   "execution_count": 1,
   "metadata": {},
   "outputs": [],
   "source": [
    "⍝⍝⍝⍝⍝⍝⍝⍝⍝⍝⍝⍝⍝⍝⍝⍝⍝⍝⍝⍝⍝⍝⍝⍝⍝⍝⍝⍝⍝⍝⍝⍝⍝⍝⍝⍝⍝ Contention Map"
   ]
  },
  {
   "cell_type": "code",
   "execution_count": 2,
   "metadata": {},
   "outputs": [
    {
     "data": {
      "text/html": [
       "<span style=\"white-space:pre; font-family: monospace\">1 2 3\n",
       "4 5 6\n",
       "7 8 9\n",
       "</span>"
      ]
     },
     "execution_count": 2,
     "metadata": {},
     "output_type": "execute_result"
    }
   ],
   "source": [
    "3 3⍴⍳3×3                            ⍝ matrix of box numbers"
   ]
  },
  {
   "cell_type": "markdown",
   "metadata": {},
   "source": [
    "<div class=\"lessonstep\">\n",
    "If this expression is not clear, use up-cursor to \n",
    "recall, edit and resubmit <i>part</i> of it.\n",
    "</div>"
   ]
  },
  {
   "cell_type": "markdown",
   "metadata": {},
   "source": [
    "<div class=\"lessonstep\">\n",
    "APL functions apply to everything to their right, \n",
    "so you can experiment by removing functions from \n",
    "the left of any expression before continuing with \n",
    "the script.\n",
    "</div>"
   ]
  },
  {
   "cell_type": "code",
   "execution_count": 3,
   "metadata": {},
   "outputs": [
    {
     "data": {
      "text/html": [
       "<span style=\"white-space:pre; font-family: monospace\">1 1 1 2 2 2 3 3 3\n",
       "4 4 4 5 5 5 6 6 6\n",
       "7 7 7 8 8 8 9 9 9\n",
       "</span>"
      ]
     },
     "execution_count": 3,
     "metadata": {},
     "output_type": "execute_result"
    }
   ],
   "source": [
    "3/3 3⍴⍳3×3                          ⍝ 3-replicated (/) along rows"
   ]
  },
  {
   "cell_type": "code",
   "execution_count": 4,
   "metadata": {},
   "outputs": [
    {
     "data": {
      "text/html": [
       "<span style=\"white-space:pre; font-family: monospace\">1 1 1 2 2 2 3 3 3\n",
       "1 1 1 2 2 2 3 3 3\n",
       "1 1 1 2 2 2 3 3 3\n",
       "4 4 4 5 5 5 6 6 6\n",
       "4 4 4 5 5 5 6 6 6\n",
       "4 4 4 5 5 5 6 6 6\n",
       "7 7 7 8 8 8 9 9 9\n",
       "7 7 7 8 8 8 9 9 9\n",
       "7 7 7 8 8 8 9 9 9\n",
       "</span>"
      ]
     },
     "execution_count": 4,
     "metadata": {},
     "output_type": "execute_result"
    }
   ],
   "source": [
    "3⌿3/3 3⍴⍳3×3                        ⍝ 3-replicated (⌿) down columns"
   ]
  },
  {
   "cell_type": "markdown",
   "metadata": {},
   "source": [
    "<div class=\"lessonstep\">\n",
    "Based on the above, the following function generates this matrix of \n",
    "box numbers for boxes of shape <span class=\"APL\">⍵ ⍵</span>:\n",
    "</div>"
   ]
  },
  {
   "cell_type": "code",
   "execution_count": 5,
   "metadata": {},
   "outputs": [],
   "source": [
    "box ← {⍵⌿⍵/⍵ ⍵⍴⍳⍵×⍵}                ⍝ fn: box numbers"
   ]
  },
  {
   "cell_type": "code",
   "execution_count": 6,
   "metadata": {},
   "outputs": [
    {
     "data": {
      "text/html": [
       "<span style=\"white-space:pre; font-family: monospace\">1 1 1 2 2 2 3 3 3\n",
       "1 1 1 2 2 2 3 3 3\n",
       "1 1 1 2 2 2 3 3 3\n",
       "4 4 4 5 5 5 6 6 6\n",
       "4 4 4 5 5 5 6 6 6\n",
       "4 4 4 5 5 5 6 6 6\n",
       "7 7 7 8 8 8 9 9 9\n",
       "7 7 7 8 8 8 9 9 9\n",
       "7 7 7 8 8 8 9 9 9\n",
       "</span>"
      ]
     },
     "execution_count": 6,
     "metadata": {},
     "output_type": "execute_result"
    }
   ],
   "source": [
    "box 3                               ⍝ 3×3 boxes for 9×9 puzzle"
   ]
  },
  {
   "cell_type": "markdown",
   "metadata": {},
   "source": [
    "<div class=\"lessonstep\">\n",
    "We'll start with a smaller, <span class=\"APL\">4×4</span> Sudoku:\n",
    "</div>"
   ]
  },
  {
   "cell_type": "code",
   "execution_count": 7,
   "metadata": {},
   "outputs": [
    {
     "data": {
      "text/html": [
       "<span style=\"white-space:pre; font-family: monospace\">1 1 2 2\n",
       "1 1 2 2\n",
       "3 3 4 4\n",
       "3 3 4 4\n",
       "</span>"
      ]
     },
     "execution_count": 7,
     "metadata": {},
     "output_type": "execute_result"
    }
   ],
   "source": [
    "box 2                               ⍝ 2×2 boxes for 4×4 puzzle"
   ]
  },
  {
   "cell_type": "markdown",
   "metadata": {},
   "source": [
    "<div class=\"lessonstep\">\n",
    "Primitive function (<span class=\"APL\">⍳</span>) generates an <span class=\"APL\">⍵</span>-array of <b>indices</b>. \n",
    "For a matrix, each 2-vector is a row and column number:\n",
    "</div>"
   ]
  },
  {
   "cell_type": "code",
   "execution_count": 8,
   "metadata": {},
   "outputs": [
    {
     "data": {
      "text/html": [
       "<span style=\"white-space:pre; font-family: monospace\">┌───┬───┬───┬───┐\n",
       "│1 1│1 2│1 3│1 4│\n",
       "├───┼───┼───┼───┤\n",
       "│2 1│2 2│2 3│2 4│\n",
       "├───┼───┼───┼───┤\n",
       "│3 1│3 2│3 3│3 4│\n",
       "├───┼───┼───┼───┤\n",
       "│4 1│4 2│4 3│4 4│\n",
       "└───┴───┴───┴───┘\n",
       "</span>"
      ]
     },
     "execution_count": 8,
     "metadata": {},
     "output_type": "execute_result"
    }
   ],
   "source": [
    "⍳ 4 4                               ⍝ row and column numbers"
   ]
  },
  {
   "cell_type": "markdown",
   "metadata": {},
   "source": [
    "<div class=\"lessonstep\">\n",
    "Primitive operator <b>each</b> (<span class=\"APL\">¨</span>) applies its operand \n",
    "function between corresponding items of its argument\n",
    "arrays.\n",
    "</div>"
   ]
  },
  {
   "cell_type": "markdown",
   "metadata": {},
   "source": [
    "<div class=\"lessonstep\">\n",
    "<b>Catenating</b> (<span class=\"APL\">,</span>) each row-col vector with its box number \n",
    "produces a matrix of row-col-box triples:\n",
    "</div>"
   ]
  },
  {
   "cell_type": "code",
   "execution_count": 9,
   "metadata": {},
   "outputs": [
    {
     "data": {
      "text/html": [
       "<span style=\"white-space:pre; font-family: monospace\">┌─────┬─────┬─────┬─────┐\n",
       "│1 1 1│1 2 1│1 3 2│1 4 2│\n",
       "├─────┼─────┼─────┼─────┤\n",
       "│2 1 1│2 2 1│2 3 2│2 4 2│\n",
       "├─────┼─────┼─────┼─────┤\n",
       "│3 1 3│3 2 3│3 3 4│3 4 4│\n",
       "├─────┼─────┼─────┼─────┤\n",
       "│4 1 3│4 2 3│4 3 4│4 4 4│\n",
       "└─────┴─────┴─────┴─────┘\n",
       "</span>"
      ]
     },
     "execution_count": 9,
     "metadata": {},
     "output_type": "execute_result"
    }
   ],
   "source": [
    "(⍳4 4) ,¨ box 2                     ⍝ row, column and box numbers"
   ]
  },
  {
   "cell_type": "markdown",
   "metadata": {},
   "source": [
    "<div class=\"lessonstep\">\n",
    "For a square Sudoku puzzle, the box size is the square-root of the puzzle size. \n",
    "</div>"
   ]
  },
  {
   "cell_type": "markdown",
   "metadata": {},
   "source": [
    "<div class=\"lessonstep\">\n",
    "In APL, the square-root of <span class=\"APL\">⍵</span> is expressed as <span class=\"APL\">⍵</span> to the <b>power</b> (<span class=\"APL\">*</span>) one-half (<span class=\"APL\">÷2</span>):\n",
    "</div>"
   ]
  },
  {
   "cell_type": "code",
   "execution_count": 10,
   "metadata": {},
   "outputs": [
    {
     "data": {
      "text/html": [
       "<span style=\"white-space:pre; font-family: monospace\">5 7\n",
       "</span>"
      ]
     },
     "execution_count": 10,
     "metadata": {},
     "output_type": "execute_result"
    }
   ],
   "source": [
    "25 49 * ÷2                          ⍝ to the power reciprocal 2"
   ]
  },
  {
   "cell_type": "markdown",
   "metadata": {},
   "source": [
    "<div class=\"lessonstep\">\n",
    "... leading to the following function in which <span class=\"APL\">⊃⍵*÷2</span> means the \n",
    "<b>first</b> (<span class=\"APL\">⊃</span>) item of the square-root of the right argument (<span class=\"APL\">⍵</span>):\n",
    "</div>"
   ]
  },
  {
   "cell_type": "code",
   "execution_count": 11,
   "metadata": {},
   "outputs": [],
   "source": [
    "rcb ← {(⍳⍵),¨box⊃⍵*÷2}              ⍝ fn: row-col-box numbers"
   ]
  },
  {
   "cell_type": "code",
   "execution_count": 12,
   "metadata": {},
   "outputs": [
    {
     "data": {
      "text/html": [
       "<span style=\"white-space:pre; font-family: monospace\">┌─────┬─────┬─────┬─────┐\n",
       "│1 1 1│1 2 1│1 3 2│1 4 2│\n",
       "├─────┼─────┼─────┼─────┤\n",
       "│2 1 1│2 2 1│2 3 2│2 4 2│\n",
       "├─────┼─────┼─────┼─────┤\n",
       "│3 1 3│3 2 3│3 3 4│3 4 4│\n",
       "├─────┼─────┼─────┼─────┤\n",
       "│4 1 3│4 2 3│4 3 4│4 4 4│\n",
       "└─────┴─────┴─────┴─────┘\n",
       "</span>"
      ]
     },
     "execution_count": 12,
     "metadata": {},
     "output_type": "execute_result"
    }
   ],
   "source": [
    "rcb 4 4                             ⍝ ... for a 4×4 sudoku puzzle"
   ]
  },
  {
   "cell_type": "markdown",
   "metadata": {},
   "source": [
    "<div class=\"lessonstep\">\n",
    "Contention occurs between cells that contain \n",
    "corresponding row, column or box numbers.\n",
    "</div>"
   ]
  },
  {
   "cell_type": "markdown",
   "metadata": {},
   "source": [
    "<div class=\"lessonstep\">\n",
    "Here are the cells that share a row, column or box with the cell (<span class=\"APL\">⊂</span>) in the second row, second column:\n",
    "</div>"
   ]
  },
  {
   "cell_type": "code",
   "execution_count": 13,
   "metadata": {},
   "outputs": [
    {
     "data": {
      "text/html": [
       "<span style=\"white-space:pre; font-family: monospace\">┌─────┬─────┬─────┬─────┐\n",
       "│0 0 1│0 1 1│0 0 0│0 0 0│\n",
       "├─────┼─────┼─────┼─────┤\n",
       "│1 0 1│1 1 1│1 0 0│1 0 0│\n",
       "├─────┼─────┼─────┼─────┤\n",
       "│0 0 0│0 1 0│0 0 0│0 0 0│\n",
       "├─────┼─────┼─────┼─────┤\n",
       "│0 0 0│0 1 0│0 0 0│0 0 0│\n",
       "└─────┴─────┴─────┴─────┘\n",
       "</span>"
      ]
     },
     "execution_count": 13,
     "metadata": {},
     "output_type": "execute_result"
    }
   ],
   "source": [
    "(rcb 4 4) = ⊂2 2 1                  ⍝ cells that share row-col-box with 2 2"
   ]
  },
  {
   "cell_type": "markdown",
   "metadata": {},
   "source": [
    "<div class=\"lessonstep\">\n",
    "<b>Each</b> (<span class=\"APL\">¨</span>) vector in the above, of which 1 is a <b>member</b> (<span class=\"APL\">∊</span>), \n",
    "represents a row, column or box contention:\n",
    "</div>"
   ]
  },
  {
   "cell_type": "code",
   "execution_count": 14,
   "metadata": {},
   "outputs": [
    {
     "data": {
      "text/html": [
       "<span style=\"white-space:pre; font-family: monospace\">1 1 0 0\n",
       "1 1 1 1\n",
       "0 1 0 0\n",
       "0 1 0 0\n",
       "</span>"
      ]
     },
     "execution_count": 14,
     "metadata": {},
     "output_type": "execute_result"
    }
   ],
   "source": [
    "1 ∊¨ (rcb 4 4)=⊂2 2 1               ⍝ cells in contention with cell at 2 2"
   ]
  },
  {
   "cell_type": "markdown",
   "metadata": {},
   "source": [
    "<div class=\"lessonstep\">\n",
    "<b>Outer-product</b> (<span class=\"APL\">∘.</span>) produces a <b>rank 4</b> (<span class=\"APL\">4×4×4×4</span>) array of all comparisons. As the leading axes of this 256-item array are displayed down the page, it is rather long:\n",
    "</div>"
   ]
  },
  {
   "cell_type": "code",
   "execution_count": 15,
   "metadata": {},
   "outputs": [
    {
     "data": {
      "text/html": [
       "<span style=\"white-space:pre; font-family: monospace\">1 1 1 1\n",
       "1 1 0 0\n",
       "1 0 0 0\n",
       "1 0 0 0\n",
       "       \n",
       "1 1 1 1\n",
       "1 1 0 0\n",
       "0 1 0 0\n",
       "0 1 0 0\n",
       "       \n",
       "1 1 1 1\n",
       "0 0 1 1\n",
       "0 0 1 0\n",
       "0 0 1 0\n",
       "       \n",
       "1 1 1 1\n",
       "0 0 1 1\n",
       "0 0 0 1\n",
       "0 0 0 1\n",
       "       \n",
       "       \n",
       "1 1 0 0\n",
       "1 1 1 1\n",
       "1 0 0 0\n",
       "1 0 0 0\n",
       "       \n",
       "1 1 0 0\n",
       "1 1 1 1\n",
       "0 1 0 0\n",
       "0 1 0 0\n",
       "       \n",
       "0 0 1 1\n",
       "1 1 1 1\n",
       "0 0 1 0\n",
       "0 0 1 0\n",
       "       \n",
       "0 0 1 1\n",
       "1 1 1 1\n",
       "0 0 0 1\n",
       "0 0 0 1\n",
       "       \n",
       "       \n",
       "1 0 0 0\n",
       "1 0 0 0\n",
       "1 1 1 1\n",
       "1 1 0 0\n",
       "       \n",
       "0 1 0 0\n",
       "0 1 0 0\n",
       "1 1 1 1\n",
       "1 1 0 0\n",
       "       \n",
       "0 0 1 0\n",
       "0 0 1 0\n",
       "1 1 1 1\n",
       "0 0 1 1\n",
       "       \n",
       "0 0 0 1\n",
       "0 0 0 1\n",
       "1 1 1 1\n",
       "0 0 1 1\n",
       "       \n",
       "       \n",
       "1 0 0 0\n",
       "1 0 0 0\n",
       "1 1 0 0\n",
       "1 1 1 1\n",
       "       \n",
       "0 1 0 0\n",
       "0 1 0 0\n",
       "1 1 0 0\n",
       "1 1 1 1\n",
       "       \n",
       "0 0 1 0\n",
       "0 0 1 0\n",
       "0 0 1 1\n",
       "1 1 1 1\n",
       "       \n",
       "0 0 0 1\n",
       "0 0 0 1\n",
       "0 0 1 1\n",
       "1 1 1 1\n",
       "</span>"
      ]
     },
     "execution_count": 15,
     "metadata": {},
     "output_type": "execute_result"
    }
   ],
   "source": [
    "1 ∊¨ (rcb 4 4) ∘.= rcb 4 4          ⍝ complete contention array"
   ]
  },
  {
   "cell_type": "markdown",
   "metadata": {},
   "source": [
    "<div class=\"lessonstep\">\n",
    "<b>Enclosing</b> (<span class=\"APL\">⊂</span>) the first two <b>axes</b> <span class=\"APL\">[⍳2]</span> gives us a <span class=\"APL\">4x4</span> map of <span class=\"APL\">4×4</span> contention matrices.\n",
    "</div>"
   ]
  },
  {
   "cell_type": "code",
   "execution_count": 16,
   "metadata": {},
   "outputs": [
    {
     "data": {
      "text/html": [
       "<span style=\"white-space:pre; font-family: monospace\">┌───────┬───────┬───────┬───────┐\n",
       "│1 1 1 1│1 1 1 1│1 1 1 1│1 1 1 1│\n",
       "│1 1 0 0│1 1 0 0│0 0 1 1│0 0 1 1│\n",
       "│1 0 0 0│0 1 0 0│0 0 1 0│0 0 0 1│\n",
       "│1 0 0 0│0 1 0 0│0 0 1 0│0 0 0 1│\n",
       "├───────┼───────┼───────┼───────┤\n",
       "│1 1 0 0│1 1 0 0│0 0 1 1│0 0 1 1│\n",
       "│1 1 1 1│1 1 1 1│1 1 1 1│1 1 1 1│\n",
       "│1 0 0 0│0 1 0 0│0 0 1 0│0 0 0 1│\n",
       "│1 0 0 0│0 1 0 0│0 0 1 0│0 0 0 1│\n",
       "├───────┼───────┼───────┼───────┤\n",
       "│1 0 0 0│0 1 0 0│0 0 1 0│0 0 0 1│\n",
       "│1 0 0 0│0 1 0 0│0 0 1 0│0 0 0 1│\n",
       "│1 1 1 1│1 1 1 1│1 1 1 1│1 1 1 1│\n",
       "│1 1 0 0│1 1 0 0│0 0 1 1│0 0 1 1│\n",
       "├───────┼───────┼───────┼───────┤\n",
       "│1 0 0 0│0 1 0 0│0 0 1 0│0 0 0 1│\n",
       "│1 0 0 0│0 1 0 0│0 0 1 0│0 0 0 1│\n",
       "│1 1 0 0│1 1 0 0│0 0 1 1│0 0 1 1│\n",
       "│1 1 1 1│1 1 1 1│1 1 1 1│1 1 1 1│\n",
       "└───────┴───────┴───────┴───────┘\n",
       "</span>"
      ]
     },
     "execution_count": 16,
     "metadata": {},
     "output_type": "execute_result"
    }
   ],
   "source": [
    "⊂[⍳2] 1 ∊¨ (rcb 4 4) ∘.= rcb 4 4    ⍝ map of contention matrices"
   ]
  },
  {
   "cell_type": "markdown",
   "metadata": {},
   "source": [
    "<div class=\"lessonstep\">\n",
    "Abstracting this as a functon of <b>rcb 4 4</b>:\n",
    "</div>"
   ]
  },
  {
   "cell_type": "code",
   "execution_count": 17,
   "metadata": {},
   "outputs": [
    {
     "data": {
      "text/html": [
       "<span style=\"white-space:pre; font-family: monospace\">┌───────┬───────┬───────┬───────┐\n",
       "│1 1 1 1│1 1 1 1│1 1 1 1│1 1 1 1│\n",
       "│1 1 0 0│1 1 0 0│0 0 1 1│0 0 1 1│\n",
       "│1 0 0 0│0 1 0 0│0 0 1 0│0 0 0 1│\n",
       "│1 0 0 0│0 1 0 0│0 0 1 0│0 0 0 1│\n",
       "├───────┼───────┼───────┼───────┤\n",
       "│1 1 0 0│1 1 0 0│0 0 1 1│0 0 1 1│\n",
       "│1 1 1 1│1 1 1 1│1 1 1 1│1 1 1 1│\n",
       "│1 0 0 0│0 1 0 0│0 0 1 0│0 0 0 1│\n",
       "│1 0 0 0│0 1 0 0│0 0 1 0│0 0 0 1│\n",
       "├───────┼───────┼───────┼───────┤\n",
       "│1 0 0 0│0 1 0 0│0 0 1 0│0 0 0 1│\n",
       "│1 0 0 0│0 1 0 0│0 0 1 0│0 0 0 1│\n",
       "│1 1 1 1│1 1 1 1│1 1 1 1│1 1 1 1│\n",
       "│1 1 0 0│1 1 0 0│0 0 1 1│0 0 1 1│\n",
       "├───────┼───────┼───────┼───────┤\n",
       "│1 0 0 0│0 1 0 0│0 0 1 0│0 0 0 1│\n",
       "│1 0 0 0│0 1 0 0│0 0 1 0│0 0 0 1│\n",
       "│1 1 0 0│1 1 0 0│0 0 1 1│0 0 1 1│\n",
       "│1 1 1 1│1 1 1 1│1 1 1 1│1 1 1 1│\n",
       "└───────┴───────┴───────┴───────┘\n",
       "</span>"
      ]
     },
     "execution_count": 17,
     "metadata": {},
     "output_type": "execute_result"
    }
   ],
   "source": [
    "{⊂[⍳2] 1∊¨ ⍵∘.=⍵} rcb 4 4           ⍝ contention map"
   ]
  },
  {
   "cell_type": "markdown",
   "metadata": {},
   "source": [
    "<div class=\"lessonstep\">\n",
    "and naming the function:\n",
    "</div>"
   ]
  },
  {
   "cell_type": "code",
   "execution_count": 18,
   "metadata": {},
   "outputs": [],
   "source": [
    "cmap ← {⊂[⍳2] 1∊¨ ⍵∘.=⍵}            ⍝ fn: contention map for ⍵-puzzle"
   ]
  },
  {
   "cell_type": "code",
   "execution_count": 19,
   "metadata": {},
   "outputs": [
    {
     "data": {
      "text/html": [
       "<span style=\"white-space:pre; font-family: monospace\">┌───────┬───────┬───────┬───────┐\n",
       "│1 1 1 1│1 1 1 1│1 1 1 1│1 1 1 1│\n",
       "│1 1 0 0│1 1 0 0│0 0 1 1│0 0 1 1│\n",
       "│1 0 0 0│0 1 0 0│0 0 1 0│0 0 0 1│\n",
       "│1 0 0 0│0 1 0 0│0 0 1 0│0 0 0 1│\n",
       "├───────┼───────┼───────┼───────┤\n",
       "│1 1 0 0│1 1 0 0│0 0 1 1│0 0 1 1│\n",
       "│1 1 1 1│1 1 1 1│1 1 1 1│1 1 1 1│\n",
       "│1 0 0 0│0 1 0 0│0 0 1 0│0 0 0 1│\n",
       "│1 0 0 0│0 1 0 0│0 0 1 0│0 0 0 1│\n",
       "├───────┼───────┼───────┼───────┤\n",
       "│1 0 0 0│0 1 0 0│0 0 1 0│0 0 0 1│\n",
       "│1 0 0 0│0 1 0 0│0 0 1 0│0 0 0 1│\n",
       "│1 1 1 1│1 1 1 1│1 1 1 1│1 1 1 1│\n",
       "│1 1 0 0│1 1 0 0│0 0 1 1│0 0 1 1│\n",
       "├───────┼───────┼───────┼───────┤\n",
       "│1 0 0 0│0 1 0 0│0 0 1 0│0 0 0 1│\n",
       "│1 0 0 0│0 1 0 0│0 0 1 0│0 0 0 1│\n",
       "│1 1 0 0│1 1 0 0│0 0 1 1│0 0 1 1│\n",
       "│1 1 1 1│1 1 1 1│1 1 1 1│1 1 1 1│\n",
       "└───────┴───────┴───────┴───────┘\n",
       "</span>"
      ]
     },
     "execution_count": 19,
     "metadata": {},
     "output_type": "execute_result"
    }
   ],
   "source": [
    "cmap rcb 4 4                        ⍝ contention matrices for 4 4 puzzle"
   ]
  },
  {
   "cell_type": "markdown",
   "metadata": {},
   "source": [
    "<div class=\"lessonstep\">\n",
    "Now let's turn our attention to searching for a solution. We use a <b>breadth-first search</b> technique:\n",
    "</div>"
   ]
  },
  {
   "cell_type": "code",
   "execution_count": 20,
   "metadata": {},
   "outputs": [],
   "source": [
    "⍝⍝⍝⍝⍝⍝⍝⍝⍝⍝⍝⍝⍝⍝⍝⍝⍝⍝⍝⍝⍝⍝⍝⍝⍝⍝⍝⍝⍝⍝⍝⍝⍝⍝⍝⍝⍝ Breadth-first search"
   ]
  },
  {
   "cell_type": "markdown",
   "metadata": {},
   "source": [
    "<div class=\"lessonstep\">\n",
    "Here is a small Sudoku puzzle to be solved:\n",
    "</div>"
   ]
  },
  {
   "cell_type": "code",
   "execution_count": 21,
   "metadata": {},
   "outputs": [
    {
     "data": {
      "text/html": [
       "<span style=\"white-space:pre; font-family: monospace\">0 0 0 0\n",
       "0 0 2 1\n",
       "3 0 0 4\n",
       "0 0 0 0\n",
       "</span>"
      ]
     },
     "execution_count": 21,
     "metadata": {},
     "output_type": "execute_result"
    }
   ],
   "source": [
    "⊢s44 ← 4 4⍴ 0 0 0 0  0 0 2 1  3 0 0 4  0 0 0 0      ⍝ 4×4 Sudoku puzzle"
   ]
  },
  {
   "cell_type": "markdown",
   "metadata": {},
   "source": [
    "<div class=\"lessonstep\">\n",
    "The <b>shape</b> (<span class=\"APL\">⍴</span>) of <b>s44</b> is the vector 4 4:\n",
    "</div>"
   ]
  },
  {
   "cell_type": "code",
   "execution_count": 22,
   "metadata": {},
   "outputs": [
    {
     "data": {
      "text/html": [
       "<span style=\"white-space:pre; font-family: monospace\">4 4\n",
       "</span>"
      ]
     },
     "execution_count": 22,
     "metadata": {},
     "output_type": "execute_result"
    }
   ],
   "source": [
    "⍴ s44                               ⍝ shape of matrix s44"
   ]
  },
  {
   "cell_type": "markdown",
   "metadata": {},
   "source": [
    "<div class=\"lessonstep\">\n",
    "Primitive <b>index</b> function (<span class=\"APL\">⌷</span>) selects item(s) from an array. Starting (say) at row 1, column 1:\n",
    "</div>"
   ]
  },
  {
   "cell_type": "code",
   "execution_count": 23,
   "metadata": {},
   "outputs": [
    {
     "data": {
      "text/html": [
       "<span style=\"white-space:pre; font-family: monospace\">1 1 1 1\n",
       "1 1 0 0\n",
       "1 0 0 0\n",
       "1 0 0 0\n",
       "</span>"
      ]
     },
     "execution_count": 23,
     "metadata": {},
     "output_type": "execute_result"
    }
   ],
   "source": [
    "⊃1 1⌷cmap rcb ⍴s44                  ⍝ contention for cell at 1 1"
   ]
  },
  {
   "cell_type": "markdown",
   "metadata": {},
   "source": [
    "<div class=\"lessonstep\">\n",
    "The <b>product</b> (×) of this matrix with the \n",
    "current state shows which numbers may <i>not</i> \n",
    "be placed at 1 1:\n",
    "</div>"
   ]
  },
  {
   "cell_type": "code",
   "execution_count": 24,
   "metadata": {},
   "outputs": [
    {
     "data": {
      "text/html": [
       "<span style=\"white-space:pre; font-family: monospace\">0 0 0 0\n",
       "0 0 0 0\n",
       "3 0 0 0\n",
       "0 0 0 0\n",
       "</span>"
      ]
     },
     "execution_count": 24,
     "metadata": {},
     "output_type": "execute_result"
    }
   ],
   "source": [
    "s44 × ⊃1 1⌷cmap rcb ⍴s44            ⍝ number(s) excluded from posn 1 1"
   ]
  },
  {
   "cell_type": "markdown",
   "metadata": {},
   "source": [
    "<div class=\"lessonstep\">\n",
    "<b>Excluding</b> (<span class=\"APL\">~</span>) these numbers (just the number 3 in this case) \n",
    "from all possible numbers (<span class=\"APL\">⍳4</span>) reveals which \n",
    "numbers are still available for placing at 1 1:\n",
    "</div>"
   ]
  },
  {
   "cell_type": "code",
   "execution_count": 25,
   "metadata": {},
   "outputs": [
    {
     "data": {
      "text/html": [
       "<span style=\"white-space:pre; font-family: monospace\">1 2 4\n",
       "</span>"
      ]
     },
     "execution_count": 25,
     "metadata": {},
     "output_type": "execute_result"
    }
   ],
   "source": [
    "(⍳4) ~ s44×⊃1 1⌷cmap rcb ⍴s44       ⍝ plays still available at 1 1"
   ]
  },
  {
   "cell_type": "markdown",
   "metadata": {},
   "source": [
    "<div class=\"lessonstep\">\n",
    "with function:\n",
    "</div>"
   ]
  },
  {
   "cell_type": "code",
   "execution_count": 26,
   "metadata": {},
   "outputs": [],
   "source": [
    "avl ← {(⍳⊃⍴⍵) ~ ⍵×⊃⍺⌷cmap rcb ⍴⍵}   ⍝ fn: available plays at ⍺ for state ⍵"
   ]
  },
  {
   "cell_type": "code",
   "execution_count": 27,
   "metadata": {},
   "outputs": [
    {
     "data": {
      "text/html": [
       "<span style=\"white-space:pre; font-family: monospace\">1 2 4\n",
       "</span>"
      ]
     },
     "execution_count": 27,
     "metadata": {},
     "output_type": "execute_result"
    }
   ],
   "source": [
    "1 1 avl s44                         ⍝ available plays at 1 1 in s44"
   ]
  },
  {
   "cell_type": "markdown",
   "metadata": {},
   "source": [
    "<div class=\"lessonstep\">\n",
    "We need a way to place a given number at a particular position in a given state matrix.\n",
    "</div>"
   ]
  },
  {
   "cell_type": "markdown",
   "metadata": {},
   "source": [
    "<div class=\"lessonstep\">\n",
    "As this operation requires three arguments (number position state), \n",
    "it is convenient to code it as an <i>operator</i> with \n",
    "<span class=\"APL\">⍺</span>-number <span class=\"APL\">⍺⍺</span>-posn <span class=\"APL\">⍵</span>-state.\n",
    "</div>"
   ]
  },
  {
   "cell_type": "markdown",
   "metadata": {},
   "source": [
    "<div class=\"lessonstep\">\n",
    "We can place the number in a given position with \n",
    "primitive function <b>take</b> (<span class=\"APL\">↑</span>):\n",
    "</div>"
   ]
  },
  {
   "cell_type": "code",
   "execution_count": 28,
   "metadata": {},
   "outputs": [
    {
     "data": {
      "text/html": [
       "<span style=\"white-space:pre; font-family: monospace\">99 0 0\n",
       " 0 0 0\n",
       "</span>"
      ]
     },
     "execution_count": 28,
     "metadata": {},
     "output_type": "execute_result"
    }
   ],
   "source": [
    "2 3↑99                              ⍝ 99 extended downwards and rightwards"
   ]
  },
  {
   "cell_type": "code",
   "execution_count": 29,
   "metadata": {},
   "outputs": [
    {
     "data": {
      "text/html": [
       "<span style=\"white-space:pre; font-family: monospace\">0 0  0\n",
       "0 0 99\n",
       "</span>"
      ]
     },
     "execution_count": 29,
     "metadata": {},
     "output_type": "execute_result"
    }
   ],
   "source": [
    "¯2 ¯3↑99                            ⍝ 99 extended upwards and leftwards"
   ]
  },
  {
   "cell_type": "code",
   "execution_count": 30,
   "metadata": {},
   "outputs": [
    {
     "data": {
      "text/html": [
       "<span style=\"white-space:pre; font-family: monospace\">0 0  0 0\n",
       "0 0  0 0\n",
       "0 0 99 0\n",
       "0 0  0 0\n",
       "</span>"
      ]
     },
     "execution_count": 30,
     "metadata": {},
     "output_type": "execute_result"
    }
   ],
   "source": [
    "4 4↑¯3 ¯3↑99                        ⍝ 99 at 3 3 in empty 4 4 grid"
   ]
  },
  {
   "cell_type": "markdown",
   "metadata": {},
   "source": [
    "<div class=\"lessonstep\">\n",
    "... and adding the current state:\n",
    "</div>"
   ]
  },
  {
   "cell_type": "code",
   "execution_count": 31,
   "metadata": {},
   "outputs": [
    {
     "data": {
      "text/html": [
       "<span style=\"white-space:pre; font-family: monospace\">0 0  0 0\n",
       "0 0  2 1\n",
       "3 0 99 4\n",
       "0 0  0 0\n",
       "</span>"
      ]
     },
     "execution_count": 31,
     "metadata": {},
     "output_type": "execute_result"
    }
   ],
   "source": [
    "s44 + 4 4↑¯3 ¯3↑99                  ⍝ 99 at 3 3 in s44"
   ]
  },
  {
   "cell_type": "markdown",
   "metadata": {},
   "source": [
    "<div class=\"lessonstep\">\n",
    "... giving us this \"merge\" operator:\n",
    "</div>"
   ]
  },
  {
   "cell_type": "code",
   "execution_count": 32,
   "metadata": {},
   "outputs": [],
   "source": [
    "at ← {⍵+(⍴⍵)↑(-⍺⍺)↑⍺}               ⍝ op: ⍺ at ⍺⍺ in ⍵"
   ]
  },
  {
   "cell_type": "code",
   "execution_count": 33,
   "metadata": {},
   "outputs": [
    {
     "data": {
      "text/html": [
       "<span style=\"white-space:pre; font-family: monospace\">0 0  0 0\n",
       "0 0  2 1\n",
       "3 0 99 4\n",
       "0 0  0 0\n",
       "</span>"
      ]
     },
     "execution_count": 33,
     "metadata": {},
     "output_type": "execute_result"
    }
   ],
   "source": [
    "99 (3 3 at) s44                     ⍝ 99 at 3 3 in s44"
   ]
  },
  {
   "cell_type": "markdown",
   "metadata": {},
   "source": [
    "<div class=\"lessonstep\">\n",
    "Now, merging <b>each</b> (<span class=\"APL\">¨</span>) available state:\n",
    "</div>"
   ]
  },
  {
   "cell_type": "code",
   "execution_count": 34,
   "metadata": {},
   "outputs": [
    {
     "data": {
      "text/html": [
       "<span style=\"white-space:pre; font-family: monospace\">┌───────┬───────┬───────┐\n",
       "│1 0 0 0│2 0 0 0│4 0 0 0│\n",
       "│0 0 2 1│0 0 2 1│0 0 2 1│\n",
       "│3 0 0 4│3 0 0 4│3 0 0 4│\n",
       "│0 0 0 0│0 0 0 0│0 0 0 0│\n",
       "└───────┴───────┴───────┘\n",
       "</span>"
      ]
     },
     "execution_count": 34,
     "metadata": {},
     "output_type": "execute_result"
    }
   ],
   "source": [
    "1 2 4 (1 1 at)¨ ⊂s44                ⍝ next states of s44 at 1 1"
   ]
  },
  {
   "cell_type": "markdown",
   "metadata": {},
   "source": [
    "<div class=\"lessonstep\">\n",
    "Using our <b>avl</b> function to generate the vector of avaliable plays:\n",
    "</div>"
   ]
  },
  {
   "cell_type": "code",
   "execution_count": 35,
   "metadata": {},
   "outputs": [
    {
     "data": {
      "text/html": [
       "<span style=\"white-space:pre; font-family: monospace\">┌───────┬───────┬───────┐\n",
       "│1 0 0 0│2 0 0 0│4 0 0 0│\n",
       "│0 0 2 1│0 0 2 1│0 0 2 1│\n",
       "│3 0 0 4│3 0 0 4│3 0 0 4│\n",
       "│0 0 0 0│0 0 0 0│0 0 0 0│\n",
       "└───────┴───────┴───────┘\n",
       "</span>"
      ]
     },
     "execution_count": 35,
     "metadata": {},
     "output_type": "execute_result"
    }
   ],
   "source": [
    "(1 1 avl s44) (1 1 at)¨ ⊂s44        ⍝ next states of s44 at 1 1"
   ]
  },
  {
   "cell_type": "markdown",
   "metadata": {},
   "source": [
    "<div class=\"lessonstep\">\n",
    "... suggesting this function for a vector of available states:\n",
    "</div>"
   ]
  },
  {
   "cell_type": "code",
   "execution_count": 36,
   "metadata": {},
   "outputs": [],
   "source": [
    "nxt ← {(⍺ avl ⍵)(⍺ at)¨⊂⍵}          ⍝ fn: next states of ⍵ at ⍺"
   ]
  },
  {
   "cell_type": "code",
   "execution_count": 37,
   "metadata": {},
   "outputs": [
    {
     "data": {
      "text/html": [
       "<span style=\"white-space:pre; font-family: monospace\">┌───────┬───────┬───────┐\n",
       "│1 0 0 0│2 0 0 0│4 0 0 0│\n",
       "│0 0 2 1│0 0 2 1│0 0 2 1│\n",
       "│3 0 0 4│3 0 0 4│3 0 0 4│\n",
       "│0 0 0 0│0 0 0 0│0 0 0 0│\n",
       "└───────┴───────┴───────┘\n",
       "</span>"
      ]
     },
     "execution_count": 37,
     "metadata": {},
     "output_type": "execute_result"
    }
   ],
   "source": [
    "1 1 nxt s44                         ⍝ next states of s44 at 1 1"
   ]
  },
  {
   "cell_type": "markdown",
   "metadata": {},
   "source": [
    "<div class=\"lessonstep\">\n",
    "For the <i>following</i> move, we find <i>each</i> possible next state for \n",
    "<i>each</i> of these states, choosing a second cell at\n",
    "which to play.</div>"
   ]
  },
  {
   "cell_type": "markdown",
   "metadata": {},
   "source": [
    "<div class=\"lessonstep\">\n",
    "In this way, we start to explore the <i>tree</i> of possibilities, one level at a time. \n",
    "</div>"
   ]
  },
  {
   "cell_type": "markdown",
   "metadata": {},
   "source": [
    "<div class=\"lessonstep\">\n",
    "Let's continue from position 1 2. Notice that we bind (<span class=\"APL\">∘</span>) \n",
    "left argument 1 2 to function <b>nxt</b>, so that the <i>whole</i> of the vector \n",
    "constitutes the left argument for each (<span class=\"APL\">¨</span>) application.\n",
    "</div>"
   ]
  },
  {
   "cell_type": "code",
   "execution_count": 38,
   "metadata": {},
   "outputs": [
    {
     "data": {
      "text/html": [
       "<span style=\"white-space:pre; font-family: monospace\">┌─────────────────────────┬─────────────────────────┬─────────────────────────┐\n",
       "│┌───────┬───────┬───────┐│┌───────┬───────┬───────┐│┌───────┬───────┬───────┐│\n",
       "││1 2 0 0│1 3 0 0│1 4 0 0│││2 1 0 0│2 3 0 0│2 4 0 0│││4 1 0 0│4 2 0 0│4 3 0 0││\n",
       "││0 0 2 1│0 0 2 1│0 0 2 1│││0 0 2 1│0 0 2 1│0 0 2 1│││0 0 2 1│0 0 2 1│0 0 2 1││\n",
       "││3 0 0 4│3 0 0 4│3 0 0 4│││3 0 0 4│3 0 0 4│3 0 0 4│││3 0 0 4│3 0 0 4│3 0 0 4││\n",
       "││0 0 0 0│0 0 0 0│0 0 0 0│││0 0 0 0│0 0 0 0│0 0 0 0│││0 0 0 0│0 0 0 0│0 0 0 0││\n",
       "│└───────┴───────┴───────┘│└───────┴───────┴───────┘│└───────┴───────┴───────┘│\n",
       "└─────────────────────────┴─────────────────────────┴─────────────────────────┘\n",
       "</span>"
      ]
     },
     "execution_count": 38,
     "metadata": {},
     "output_type": "execute_result"
    }
   ],
   "source": [
    "1 2∘nxt¨ 1 1 nxt s44                ⍝ two levels of tree-search"
   ]
  },
  {
   "cell_type": "markdown",
   "metadata": {},
   "source": [
    "<div class=\"lessonstep\">\n",
    "The primitive <b>reduction</b> operator (<span class=\"APL\">/</span>), applied to a vector, \n",
    "has the effect of placing its left operand function between each item of its right argument, \n",
    "to produce a scalar result. \n",
    "</div>"
   ]
  },
  {
   "cell_type": "markdown",
   "metadata": {},
   "source": [
    "<div class=\"lessonstep\">\n",
    "We can join the sub-vectors with a catenate (<span class=\"APL\">,</span>) \n",
    "reduction (<span class=\"APL\">/</span>) of the vector of vectors and disclosing \n",
    "(<span class=\"APL\">⊃</span>) the resulting scalar:\n",
    "</div>"
   ]
  },
  {
   "cell_type": "code",
   "execution_count": 39,
   "metadata": {},
   "outputs": [
    {
     "data": {
      "text/html": [
       "<span style=\"white-space:pre; font-family: monospace\">┌───────┬───────┬───────┬───────┬───────┬───────┬───────┬───────┬───────┐\n",
       "│1 2 0 0│1 3 0 0│1 4 0 0│2 1 0 0│2 3 0 0│2 4 0 0│4 1 0 0│4 2 0 0│4 3 0 0│\n",
       "│0 0 2 1│0 0 2 1│0 0 2 1│0 0 2 1│0 0 2 1│0 0 2 1│0 0 2 1│0 0 2 1│0 0 2 1│\n",
       "│3 0 0 4│3 0 0 4│3 0 0 4│3 0 0 4│3 0 0 4│3 0 0 4│3 0 0 4│3 0 0 4│3 0 0 4│\n",
       "│0 0 0 0│0 0 0 0│0 0 0 0│0 0 0 0│0 0 0 0│0 0 0 0│0 0 0 0│0 0 0 0│0 0 0 0│\n",
       "└───────┴───────┴───────┴───────┴───────┴───────┴───────┴───────┴───────┘\n",
       "</span>"
      ]
     },
     "execution_count": 39,
     "metadata": {},
     "output_type": "execute_result"
    }
   ],
   "source": [
    "⊃,/ 1 2∘nxt¨ 1 1 nxt s44            ⍝ two levels of tree-search"
   ]
  },
  {
   "cell_type": "markdown",
   "metadata": {},
   "source": [
    "<div class=\"lessonstep\">\n",
    "In order that the initial state is not a special case, \n",
    "it helps to <i>start</i> with a 1-vector by <b>ravel</b>ling (<span class=\"APL\">,</span>) \n",
    "the <b>enclose</b> (<span class=\"APL\">⊂</span>) of the puzzle matrix:\n",
    "</div>"
   ]
  },
  {
   "cell_type": "code",
   "execution_count": 40,
   "metadata": {},
   "outputs": [
    {
     "data": {
      "text/html": [
       "<span style=\"white-space:pre; font-family: monospace\">┌───────┬───────┬───────┬───────┬───────┬───────┬───────┬───────┬───────┐\n",
       "│1 2 0 0│1 3 0 0│1 4 0 0│2 1 0 0│2 3 0 0│2 4 0 0│4 1 0 0│4 2 0 0│4 3 0 0│\n",
       "│0 0 2 1│0 0 2 1│0 0 2 1│0 0 2 1│0 0 2 1│0 0 2 1│0 0 2 1│0 0 2 1│0 0 2 1│\n",
       "│3 0 0 4│3 0 0 4│3 0 0 4│3 0 0 4│3 0 0 4│3 0 0 4│3 0 0 4│3 0 0 4│3 0 0 4│\n",
       "│0 0 0 0│0 0 0 0│0 0 0 0│0 0 0 0│0 0 0 0│0 0 0 0│0 0 0 0│0 0 0 0│0 0 0 0│\n",
       "└───────┴───────┴───────┴───────┴───────┴───────┴───────┴───────┴───────┘\n",
       "</span>"
      ]
     },
     "execution_count": 40,
     "metadata": {},
     "output_type": "execute_result"
    }
   ],
   "source": [
    "⊃,/1 2∘nxt¨ ⊃,/1 1∘nxt¨ ,⊂s44       ⍝ 2-level search"
   ]
  },
  {
   "cell_type": "markdown",
   "metadata": {},
   "source": [
    "<div class=\"lessonstep\">\n",
    "Continuing from position 2 1:\n",
    "</div>"
   ]
  },
  {
   "cell_type": "code",
   "execution_count": 41,
   "metadata": {},
   "outputs": [
    {
     "data": {
      "text/html": [
       "<span style=\"white-space:pre; font-family: monospace\">┌───────┬───────┬───────┬───────┐\n",
       "│1 2 0 0│1 3 0 0│2 1 0 0│2 3 0 0│\n",
       "│4 0 2 1│4 0 2 1│4 0 2 1│4 0 2 1│\n",
       "│3 0 0 4│3 0 0 4│3 0 0 4│3 0 0 4│\n",
       "│0 0 0 0│0 0 0 0│0 0 0 0│0 0 0 0│\n",
       "└───────┴───────┴───────┴───────┘\n",
       "</span>"
      ]
     },
     "execution_count": 41,
     "metadata": {},
     "output_type": "execute_result"
    }
   ],
   "source": [
    "⊃,/2 1∘nxt¨ ⊃,/1 2∘nxt¨ ⊃,/1 1∘nxt¨ ,⊂s44    ⍝ 3-level search"
   ]
  },
  {
   "cell_type": "markdown",
   "metadata": {},
   "source": [
    "<div class=\"lessonstep\">\n",
    "Next, we extract the positions 2 1, 1 2 and 1 1 as left argument \n",
    "(<span class=\"APL\">⍺</span>) to a containing function:\n",
    "</div>"
   ]
  },
  {
   "cell_type": "markdown",
   "metadata": {},
   "source": [
    "<div class=\"lessonstep\">\n",
    "For example: <span class=\"APL\">⊃,/1 2∘nxt¨...</span><br/>\n",
    "becomes: <span class=\"APL\">1 2{⊃,/⍺∘nxt¨⍵}...</span>\n",
    "</div>"
   ]
  },
  {
   "cell_type": "code",
   "execution_count": 42,
   "metadata": {},
   "outputs": [],
   "source": [
    "nxtv ← {⊃,/⍺∘nxt¨ ⍵}                ⍝ fn: next state vector"
   ]
  },
  {
   "cell_type": "code",
   "execution_count": 43,
   "metadata": {},
   "outputs": [
    {
     "data": {
      "text/html": [
       "<span style=\"white-space:pre; font-family: monospace\">┌───────┬───────┬───────┬───────┐\n",
       "│1 2 0 0│1 3 0 0│2 1 0 0│2 3 0 0│\n",
       "│4 0 2 1│4 0 2 1│4 0 2 1│4 0 2 1│\n",
       "│3 0 0 4│3 0 0 4│3 0 0 4│3 0 0 4│\n",
       "│0 0 0 0│0 0 0 0│0 0 0 0│0 0 0 0│\n",
       "└───────┴───────┴───────┴───────┘\n",
       "</span>"
      ]
     },
     "execution_count": 43,
     "metadata": {},
     "output_type": "execute_result"
    }
   ],
   "source": [
    "2 1 nxtv 1 2 nxtv 1 1 nxtv ,⊂s44    ⍝ 3-level search"
   ]
  },
  {
   "cell_type": "markdown",
   "metadata": {},
   "source": [
    "<div class=\"lessonstep\">\n",
    "\"Factoring out\" the <b>nxtv</b> function as a <b>reduction</b> (<span class=\"APL\">/</span>), we recode the above 3-level search as:\n",
    "</div>"
   ]
  },
  {
   "cell_type": "code",
   "execution_count": 44,
   "metadata": {},
   "outputs": [
    {
     "data": {
      "text/html": [
       "<span style=\"white-space:pre; font-family: monospace\">┌───────┬───────┬───────┬───────┐\n",
       "│1 2 0 0│1 3 0 0│2 1 0 0│2 3 0 0│\n",
       "│4 0 2 1│4 0 2 1│4 0 2 1│4 0 2 1│\n",
       "│3 0 0 4│3 0 0 4│3 0 0 4│3 0 0 4│\n",
       "│0 0 0 0│0 0 0 0│0 0 0 0│0 0 0 0│\n",
       "└───────┴───────┴───────┴───────┘\n",
       "</span>"
      ]
     },
     "execution_count": 44,
     "metadata": {},
     "output_type": "execute_result"
    }
   ],
   "source": [
    "⊃nxtv/ (2 1)(1 2)(1 1)(,⊂s44)       ⍝ 3-level search"
   ]
  },
  {
   "cell_type": "markdown",
   "metadata": {},
   "source": [
    "<div class=\"lessonstep\">\n",
    "Choosing cell (1 3) for our next step:\n",
    "</div>"
   ]
  },
  {
   "cell_type": "code",
   "execution_count": 45,
   "metadata": {},
   "outputs": [
    {
     "data": {
      "text/html": [
       "<span style=\"white-space:pre; font-family: monospace\">┌───────┬───────┬───────┬───────┬───────┬───────┐\n",
       "│1 2 3 0│1 2 4 0│1 3 4 0│2 1 3 0│2 1 4 0│2 3 4 0│\n",
       "│4 0 2 1│4 0 2 1│4 0 2 1│4 0 2 1│4 0 2 1│4 0 2 1│\n",
       "│3 0 0 4│3 0 0 4│3 0 0 4│3 0 0 4│3 0 0 4│3 0 0 4│\n",
       "│0 0 0 0│0 0 0 0│0 0 0 0│0 0 0 0│0 0 0 0│0 0 0 0│\n",
       "└───────┴───────┴───────┴───────┴───────┴───────┘\n",
       "</span>"
      ]
     },
     "execution_count": 45,
     "metadata": {},
     "output_type": "execute_result"
    }
   ],
   "source": [
    "⊃nxtv/ (1 3)(2 1)(1 2)(1 1)(,⊂s44)  ⍝ 4-level search"
   ]
  },
  {
   "cell_type": "markdown",
   "metadata": {},
   "source": [
    "<div class=\"lessonstep\">\n",
    "The <i>order</i> of selecting the cells for the search is unimportant. Let's continue from (4 2):\n",
    "</div>"
   ]
  },
  {
   "cell_type": "code",
   "execution_count": 46,
   "metadata": {},
   "outputs": [
    {
     "data": {
      "text/html": [
       "<span style=\"white-space:pre; font-family: monospace\">┌───────┬───────┬───────┬───────┬───────┬───────┬───────┬───────┬───────┬───────┬───────┬───────┬───────┬───────┐\n",
       "│1 2 3 0│1 2 3 0│1 2 4 0│1 2 4 0│1 3 4 0│1 3 4 0│1 3 4 0│2 1 3 0│2 1 3 0│2 1 4 0│2 1 4 0│2 3 4 0│2 3 4 0│2 3 4 0│\n",
       "│4 0 2 1│4 0 2 1│4 0 2 1│4 0 2 1│4 0 2 1│4 0 2 1│4 0 2 1│4 0 2 1│4 0 2 1│4 0 2 1│4 0 2 1│4 0 2 1│4 0 2 1│4 0 2 1│\n",
       "│3 0 0 4│3 0 0 4│3 0 0 4│3 0 0 4│3 0 0 4│3 0 0 4│3 0 0 4│3 0 0 4│3 0 0 4│3 0 0 4│3 0 0 4│3 0 0 4│3 0 0 4│3 0 0 4│\n",
       "│0 1 0 0│0 4 0 0│0 1 0 0│0 4 0 0│0 1 0 0│0 2 0 0│0 4 0 0│0 2 0 0│0 4 0 0│0 2 0 0│0 4 0 0│0 1 0 0│0 2 0 0│0 4 0 0│\n",
       "└───────┴───────┴───────┴───────┴───────┴───────┴───────┴───────┴───────┴───────┴───────┴───────┴───────┴───────┘\n",
       "</span>"
      ]
     },
     "execution_count": 46,
     "metadata": {},
     "output_type": "execute_result"
    }
   ],
   "source": [
    "⊃nxtv/ (4 2)(1 3)(2 1)(1 2)(1 1)(,⊂s44)           ⍝ 5-level search"
   ]
  },
  {
   "cell_type": "markdown",
   "metadata": {},
   "source": [
    "<div class=\"lessonstep\">... (3 2) ...</div>"
   ]
  },
  {
   "cell_type": "code",
   "execution_count": 47,
   "metadata": {},
   "outputs": [
    {
     "data": {
      "text/html": [
       "<span style=\"white-space:pre; font-family: monospace\">┌───────┬───────┬───────┬───────┬───────┬───────┬───────┬───────┬───────┬───────┬───────┬───────┐\n",
       "│1 2 3 0│1 2 4 0│1 3 4 0│1 3 4 0│1 3 4 0│1 3 4 0│2 1 3 0│2 1 4 0│2 3 4 0│2 3 4 0│2 3 4 0│2 3 4 0│\n",
       "│4 0 2 1│4 0 2 1│4 0 2 1│4 0 2 1│4 0 2 1│4 0 2 1│4 0 2 1│4 0 2 1│4 0 2 1│4 0 2 1│4 0 2 1│4 0 2 1│\n",
       "│3 1 0 4│3 1 0 4│3 2 0 4│3 1 0 4│3 1 0 4│3 2 0 4│3 2 0 4│3 2 0 4│3 2 0 4│3 1 0 4│3 1 0 4│3 2 0 4│\n",
       "│0 4 0 0│0 4 0 0│0 1 0 0│0 2 0 0│0 4 0 0│0 4 0 0│0 4 0 0│0 4 0 0│0 1 0 0│0 2 0 0│0 4 0 0│0 4 0 0│\n",
       "└───────┴───────┴───────┴───────┴───────┴───────┴───────┴───────┴───────┴───────┴───────┴───────┘\n",
       "</span>"
      ]
     },
     "execution_count": 47,
     "metadata": {},
     "output_type": "execute_result"
    }
   ],
   "source": [
    "⊃nxtv/ (3 2)(4 2)(1 3)(2 1)(1 2)(1 1)(,⊂s44)      ⍝ 6-level search"
   ]
  },
  {
   "cell_type": "markdown",
   "metadata": {},
   "source": [
    "<div class=\"lessonstep\">... and (1 4):</div>"
   ]
  },
  {
   "cell_type": "code",
   "execution_count": 48,
   "metadata": {},
   "outputs": [
    {
     "data": {
      "text/html": [
       "<span style=\"white-space:pre; font-family: monospace\">┌───────┬───────┐\n",
       "│1 2 4 3│2 1 4 3│\n",
       "│4 0 2 1│4 0 2 1│\n",
       "│3 1 0 4│3 2 0 4│\n",
       "│0 4 0 0│0 4 0 0│\n",
       "└───────┴───────┘\n",
       "</span>"
      ]
     },
     "execution_count": 48,
     "metadata": {},
     "output_type": "execute_result"
    }
   ],
   "source": [
    "⊃nxtv/ (1 4)(3 2)(4 2)(1 3)(2 1)(1 2)(1 1)(,⊂s44) ⍝ 7-level search"
   ]
  },
  {
   "cell_type": "markdown",
   "metadata": {},
   "source": [
    "<div class=\"lessonstep\">\n",
    "You might like to take a moment to find the complete solution by extending the above list, \n",
    "one item at a time, using the remaining empty cell coordinates:<br/>\n",
    "(4 4) (4 3) (2 2) (3 3) (4 1).</div>"
   ]
  },
  {
   "cell_type": "markdown",
   "metadata": {},
   "source": [
    "<div class=\"lessonstep\">\n",
    "For a complete search, we just need to supply our \n",
    "reduction with a vector of the positions of <i>all</i> empty cells:\n",
    "</div>"
   ]
  },
  {
   "cell_type": "markdown",
   "metadata": {},
   "source": [
    "<div class=\"lessonstep\">\n",
    "Here is the matrix of all cell positions:\n",
    "</div>"
   ]
  },
  {
   "cell_type": "code",
   "execution_count": 49,
   "metadata": {},
   "outputs": [
    {
     "data": {
      "text/html": [
       "<span style=\"white-space:pre; font-family: monospace\">┌───┬───┬───┬───┐\n",
       "│1 1│1 2│1 3│1 4│\n",
       "├───┼───┼───┼───┤\n",
       "│2 1│2 2│2 3│2 4│\n",
       "├───┼───┼───┼───┤\n",
       "│3 1│3 2│3 3│3 4│\n",
       "├───┼───┼───┼───┤\n",
       "│4 1│4 2│4 3│4 4│\n",
       "└───┴───┴───┴───┘\n",
       "</span>"
      ]
     },
     "execution_count": 49,
     "metadata": {},
     "output_type": "execute_result"
    }
   ],
   "source": [
    "⍳⍴ s44                              ⍝ matrix of positions"
   ]
  },
  {
   "cell_type": "markdown",
   "metadata": {},
   "source": [
    "<div class=\"lessonstep\">\n",
    "of which, these are the empty ones:\n",
    "</div>"
   ]
  },
  {
   "cell_type": "code",
   "execution_count": 50,
   "metadata": {},
   "outputs": [
    {
     "data": {
      "text/html": [
       "<span style=\"white-space:pre; font-family: monospace\">1 1 1 1\n",
       "1 1 0 0\n",
       "0 1 1 0\n",
       "1 1 1 1\n",
       "</span>"
      ]
     },
     "execution_count": 50,
     "metadata": {},
     "output_type": "execute_result"
    }
   ],
   "source": [
    "s44=0                               ⍝ 1 → empty cell"
   ]
  },
  {
   "cell_type": "markdown",
   "metadata": {},
   "source": [
    "<div class=\"lessonstep\">\n",
    "Primitive function <b>ravel</b> (<span class=\"APL\">,</span>) returns a <i>vector</i> of the items of its argument array:\n",
    "</div>"
   ]
  },
  {
   "cell_type": "code",
   "execution_count": 51,
   "metadata": {},
   "outputs": [
    {
     "data": {
      "text/html": [
       "<span style=\"white-space:pre; font-family: monospace\">┌───┬───┬───┬───┬───┬───┬───┬───┬───┬───┬───┬───┬───┬───┬───┬───┐\n",
       "│1 1│1 2│1 3│1 4│2 1│2 2│2 3│2 4│3 1│3 2│3 3│3 4│4 1│4 2│4 3│4 4│\n",
       "└───┴───┴───┴───┴───┴───┴───┴───┴───┴───┴───┴───┴───┴───┴───┴───┘\n",
       "</span>"
      ]
     },
     "execution_count": 51,
     "metadata": {},
     "output_type": "execute_result"
    }
   ],
   "source": [
    ", ⍳⍴ s44                            ⍝ vector of positions"
   ]
  },
  {
   "cell_type": "code",
   "execution_count": 52,
   "metadata": {},
   "outputs": [
    {
     "data": {
      "text/html": [
       "<span style=\"white-space:pre; font-family: monospace\">1 1 1 1 1 1 0 0 0 1 1 0 1 1 1 1\n",
       "</span>"
      ]
     },
     "execution_count": 52,
     "metadata": {},
     "output_type": "execute_result"
    }
   ],
   "source": [
    ", s44=0                             ⍝ vector of empties"
   ]
  },
  {
   "cell_type": "markdown",
   "metadata": {},
   "source": [
    "<div class=\"lessonstep\">\n",
    "<b>Replicate</b> (<span class=\"APL\">/</span>) selects empty cells:\n",
    "</div>"
   ]
  },
  {
   "cell_type": "code",
   "execution_count": 53,
   "metadata": {},
   "outputs": [
    {
     "data": {
      "text/html": [
       "<span style=\"white-space:pre; font-family: monospace\">┌───┬───┬───┬───┬───┬───┬───┬───┬───┬───┬───┬───┐\n",
       "│1 1│1 2│1 3│1 4│2 1│2 2│3 2│3 3│4 1│4 2│4 3│4 4│\n",
       "└───┴───┴───┴───┴───┴───┴───┴───┴───┴───┴───┴───┘\n",
       "</span>"
      ]
     },
     "execution_count": 53,
     "metadata": {},
     "output_type": "execute_result"
    }
   ],
   "source": [
    "(,s44=0)/,⍳⍴s44                     ⍝ positions of empty cells"
   ]
  },
  {
   "cell_type": "markdown",
   "metadata": {},
   "source": [
    "<div class=\"lessonstep\">giving function:</div>"
   ]
  },
  {
   "cell_type": "code",
   "execution_count": 54,
   "metadata": {},
   "outputs": [],
   "source": [
    "emt ← {(,⍵=0)/,⍳⍴⍵}                 ⍝ fn: empty cell positions in state ⍵"
   ]
  },
  {
   "cell_type": "code",
   "execution_count": 55,
   "metadata": {},
   "outputs": [
    {
     "data": {
      "text/html": [
       "<span style=\"white-space:pre; font-family: monospace\">┌───┬───┬───┬───┬───┬───┬───┬───┬───┬───┬───┬───┐\n",
       "│1 1│1 2│1 3│1 4│2 1│2 2│3 2│3 3│4 1│4 2│4 3│4 4│\n",
       "└───┴───┴───┴───┴───┴───┴───┴───┴───┴───┴───┴───┘\n",
       "</span>"
      ]
     },
     "execution_count": 55,
     "metadata": {},
     "output_type": "execute_result"
    }
   ],
   "source": [
    "emt s44                             ⍝ empty cell positions in s44"
   ]
  },
  {
   "cell_type": "markdown",
   "metadata": {},
   "source": [
    "<div class=\"lessonstep\">\n",
    "We can now find a vector of complete states. \n",
    "In general, there may be many solutions although \n",
    "published Sudoku puzzles typically have only one.\n",
    "</div>"
   ]
  },
  {
   "cell_type": "code",
   "execution_count": 56,
   "metadata": {},
   "outputs": [
    {
     "data": {
      "text/html": [
       "<span style=\"white-space:pre; font-family: monospace\">┌───────┐\n",
       "│2 1 4 3│\n",
       "│4 3 2 1│\n",
       "│3 2 1 4│\n",
       "│1 4 3 2│\n",
       "└───────┘\n",
       "</span>"
      ]
     },
     "execution_count": 56,
     "metadata": {},
     "output_type": "execute_result"
    }
   ],
   "source": [
    "⊃nxtv/(emt s44),⊂,⊂s44              ⍝ vector of all solutions."
   ]
  },
  {
   "cell_type": "markdown",
   "metadata": {},
   "source": [
    "<div class=\"lessonstep\">\n",
    "Abstracting this as a function of the puzzle matrix s44:\n",
    "</div>"
   ]
  },
  {
   "cell_type": "code",
   "execution_count": 57,
   "metadata": {},
   "outputs": [],
   "source": [
    "svec ← {⊃nxtv/(emt ⍵),⊂,⊂⍵}         ⍝ fn: solution vector"
   ]
  },
  {
   "cell_type": "code",
   "execution_count": 58,
   "metadata": {},
   "outputs": [
    {
     "data": {
      "text/html": [
       "<span style=\"white-space:pre; font-family: monospace\">┌───────┐\n",
       "│2 1 4 3│\n",
       "│4 3 2 1│\n",
       "│3 2 1 4│\n",
       "│1 4 3 2│\n",
       "└───────┘\n",
       "</span>"
      ]
     },
     "execution_count": 58,
     "metadata": {},
     "output_type": "execute_result"
    }
   ],
   "source": [
    "svec s44                            ⍝ solution(s) for s44"
   ]
  },
  {
   "cell_type": "markdown",
   "metadata": {},
   "source": [
    "<div class=\"lessonstep\">\n",
    "The following little function nests the <i>boxes</i> of a Sudoku state. \n",
    "A <span class=\"APL\">9×9</span> puzzle will appear as a <span class=\"APL\">3×3</span> matrix of <span class=\"APL\">3×3</span> boxes: \n",
    "It is left as an \"exercise for the student\" to figure out how this works.\n",
    "</div>"
   ]
  },
  {
   "cell_type": "code",
   "execution_count": 59,
   "metadata": {},
   "outputs": [],
   "source": [
    "sfmt←{⊂[3 4]1 3 2 4⍉(2/(⍴⍵)*÷2)⍴⍵}  ⍝ pleasing format"
   ]
  },
  {
   "cell_type": "code",
   "execution_count": 60,
   "metadata": {},
   "outputs": [
    {
     "data": {
      "text/html": [
       "<span style=\"white-space:pre; font-family: monospace\">┌───┬───┐\n",
       "│0 0│0 0│\n",
       "│0 0│2 1│\n",
       "├───┼───┤\n",
       "│3 0│0 4│\n",
       "│0 0│0 0│\n",
       "└───┴───┘\n",
       "</span>"
      ]
     },
     "execution_count": 60,
     "metadata": {},
     "output_type": "execute_result"
    }
   ],
   "source": [
    "sfmt s44                            ⍝ initial state and"
   ]
  },
  {
   "cell_type": "code",
   "execution_count": 61,
   "metadata": {},
   "outputs": [
    {
     "data": {
      "text/html": [
       "<span style=\"white-space:pre; font-family: monospace\">┌───┬───┐\n",
       "│2 1│4 3│\n",
       "│4 3│2 1│\n",
       "├───┼───┤\n",
       "│3 2│1 4│\n",
       "│1 4│3 2│\n",
       "└───┴───┘\n",
       "</span>"
      ]
     },
     "execution_count": 61,
     "metadata": {},
     "output_type": "execute_result"
    }
   ],
   "source": [
    "sfmt ⊃svec s44                      ⍝ ... first (⊃) solution"
   ]
  },
  {
   "cell_type": "markdown",
   "metadata": {},
   "source": [
    "<div class=\"lessonstep\">\n",
    "The coding of <b>svec</b> is rather inefficient because it re-calculates <b>cmap rcb</b> at each step:\n",
    "</div>"
   ]
  },
  {
   "cell_type": "code",
   "execution_count": 62,
   "metadata": {},
   "outputs": [
    {
     "data": {
      "text/html": [
       "<span style=\"white-space:pre; font-family: monospace\">{⊃nxtv/(emt ⍵),⊂,⊂⍵}\n",
       "</span>"
      ]
     },
     "execution_count": 62,
     "metadata": {},
     "output_type": "execute_result"
    }
   ],
   "source": [
    "svec                                ⍝ svec calls nxtv for each free cell,"
   ]
  },
  {
   "cell_type": "code",
   "execution_count": 63,
   "metadata": {},
   "outputs": [
    {
     "data": {
      "text/html": [
       "<span style=\"white-space:pre; font-family: monospace\">{⊃,/⍺∘nxt¨⍵}\n",
       "</span>"
      ]
     },
     "execution_count": 63,
     "metadata": {},
     "output_type": "execute_result"
    }
   ],
   "source": [
    "nxtv                                ⍝ nxtv calls nxt for each state,"
   ]
  },
  {
   "cell_type": "code",
   "execution_count": 64,
   "metadata": {},
   "outputs": [
    {
     "data": {
      "text/html": [
       "<span style=\"white-space:pre; font-family: monospace\">{(⍺ avl ⍵)(⍺ at)¨⊂⍵}\n",
       "</span>"
      ]
     },
     "execution_count": 64,
     "metadata": {},
     "output_type": "execute_result"
    }
   ],
   "source": [
    "nxt                                 ⍝ nxt calls avl and"
   ]
  },
  {
   "cell_type": "code",
   "execution_count": 65,
   "metadata": {},
   "outputs": [
    {
     "data": {
      "text/html": [
       "<span style=\"white-space:pre; font-family: monospace\">{(⍳⊃⍴⍵)~⍵×⊃⍺⌷cmap rcb⍴⍵}\n",
       "</span>"
      ]
     },
     "execution_count": 65,
     "metadata": {},
     "output_type": "execute_result"
    }
   ],
   "source": [
    "avl                                 ⍝ avl calls cmap rcb ⍴⍵."
   ]
  },
  {
   "cell_type": "markdown",
   "metadata": {},
   "source": [
    "<div class=\"lessonstep\">\n",
    "We can arrange to calculate <b><span class=\"APL\">(cmap rcb ⍴⍵)</span></b> only once and  \n",
    "passing it as an additional operand from <b>svec</b> to <b>nxtv</b> to <b>nxt</b> to <b>avl</b>.\n",
    "</div>"
   ]
  },
  {
   "cell_type": "markdown",
   "metadata": {},
   "source": [
    "<div class=\"lessonstep\">\n",
    "We do this by making <b>avl</b>, <b>nxt</b> and <b>nxtv</b> into <i>operators</i>, and \n",
    "receiving additional parameter <b><span class=\"APL\">(cmap rcb ⍴⍵)</span></b> as operand <span class=\"APL\">⍺⍺</span>. \n",
    "Compare these re-codings with the original versions:\n",
    "</div>"
   ]
  },
  {
   "cell_type": "code",
   "execution_count": 66,
   "metadata": {},
   "outputs": [],
   "source": [
    "avl←{(⍳⊃⍴⍵)~⍵×⊃⍺⌷⍺⍺}                ⍝ op avl: receives (cmap rcb ⍴⍵) as ⍺⍺ from"
   ]
  },
  {
   "cell_type": "code",
   "execution_count": 67,
   "metadata": {},
   "outputs": [],
   "source": [
    "nxt←{(⍺(⍺⍺ avl)⍵)(⍺ at)¨⊂⍵}         ⍝ op nxt: receives (cmap rcb ⍴⍵) as ⍺⍺ from"
   ]
  },
  {
   "cell_type": "code",
   "execution_count": 68,
   "metadata": {},
   "outputs": [],
   "source": [
    "nxtv←{⊃,/⍺∘(⍺⍺ nxt)¨⍵}              ⍝ op nxtv: receives (cmap rcb ⍴⍵) as ⍺⍺ from"
   ]
  },
  {
   "cell_type": "code",
   "execution_count": 69,
   "metadata": {},
   "outputs": [],
   "source": [
    "svec←{⊃(⍺⍺ ⍴⍵)nxtv/(emt ⍵),⊂⊂⍵}     ⍝ op svec: receives (cmap∘rcb) as operand ⍺⍺."
   ]
  },
  {
   "cell_type": "markdown",
   "metadata": {},
   "source": [
    "<div class=\"lessonstep\">\n",
    "<b>Bind</b>ing (<span class=\"APL\">∘</span>) <b>cmap</b> with <b>rcb</b> as a function operand to <b>svec</b>:\n",
    "</div>"
   ]
  },
  {
   "cell_type": "code",
   "execution_count": 70,
   "metadata": {},
   "outputs": [
    {
     "data": {
      "text/html": [
       "<span style=\"white-space:pre; font-family: monospace\">┌───┬───┐\n",
       "│2 1│4 3│\n",
       "│4 3│2 1│\n",
       "├───┼───┤\n",
       "│3 2│1 4│\n",
       "│1 4│3 2│\n",
       "└───┴───┘\n",
       "</span>"
      ]
     },
     "execution_count": 70,
     "metadata": {},
     "output_type": "execute_result"
    }
   ],
   "source": [
    "sfmt ⊃ cmap∘rcb svec s44            ⍝ ... first (⊃) solution"
   ]
  },
  {
   "cell_type": "markdown",
   "metadata": {},
   "source": [
    "<div class=\"lessonstep\">\n",
    "Now we're in a position to try a larger puzzle.\n",
    "</div>"
   ]
  },
  {
   "cell_type": "markdown",
   "metadata": {},
   "source": [
    "<div class=\"lessonstep\">\n",
    "The following sequence specifies each row, starting with a 9<span class=\"APL\">×</span>9 matrix of zeros:\n",
    "</div>"
   ]
  },
  {
   "cell_type": "code",
   "execution_count": 71,
   "metadata": {},
   "outputs": [],
   "source": [
    "s99 ← 9 9⍴0                         ⍝ input of 9×9 puzzle ..."
   ]
  },
  {
   "cell_type": "code",
   "execution_count": 72,
   "metadata": {},
   "outputs": [],
   "source": [
    "s99[1;] ← 0 0 1 6 9 0 5 0 0         ⍝ 1st row"
   ]
  },
  {
   "cell_type": "code",
   "execution_count": 73,
   "metadata": {},
   "outputs": [],
   "source": [
    "s99[2;] ← 4 0 0 2 7 0 0 0 1         ⍝ 2nd row"
   ]
  },
  {
   "cell_type": "code",
   "execution_count": 74,
   "metadata": {},
   "outputs": [],
   "source": [
    "s99[3;] ← 0 7 0 0 0 0 0 9 0         ⍝ 3rd row"
   ]
  },
  {
   "cell_type": "code",
   "execution_count": 75,
   "metadata": {},
   "outputs": [],
   "source": [
    "s99[4;] ← 0 0 0 0 0 0 0 3 0         ⍝ 4th row"
   ]
  },
  {
   "cell_type": "code",
   "execution_count": 76,
   "metadata": {},
   "outputs": [],
   "source": [
    "s99[5;] ← 0 0 0 4 3 0 0 0 7         ⍝ 5th row"
   ]
  },
  {
   "cell_type": "code",
   "execution_count": 77,
   "metadata": {},
   "outputs": [],
   "source": [
    "s99[6;] ← 0 0 0 7 8 0 6 0 0         ⍝ 6th row"
   ]
  },
  {
   "cell_type": "code",
   "execution_count": 78,
   "metadata": {},
   "outputs": [],
   "source": [
    "s99[7;] ← 0 0 6 0 0 0 8 0 5         ⍝ 7th row"
   ]
  },
  {
   "cell_type": "code",
   "execution_count": 79,
   "metadata": {},
   "outputs": [],
   "source": [
    "s99[8;] ← 0 2 0 1 4 0 0 6 0         ⍝ 8th row"
   ]
  },
  {
   "cell_type": "code",
   "execution_count": 80,
   "metadata": {},
   "outputs": [],
   "source": [
    "s99[9;] ← 0 1 0 3 5 0 0 4 0         ⍝ 9th row"
   ]
  },
  {
   "cell_type": "markdown",
   "metadata": {},
   "source": [
    "<div class=\"lessonstep\">Display of initial state of <span class=\"APL\">9×9</span> puzzle:</div>"
   ]
  },
  {
   "cell_type": "code",
   "execution_count": 81,
   "metadata": {},
   "outputs": [
    {
     "data": {
      "text/html": [
       "<span style=\"white-space:pre; font-family: monospace\">┌─────┬─────┬─────┐\n",
       "│0 0 1│6 9 0│5 0 0│\n",
       "│4 0 0│2 7 0│0 0 1│\n",
       "│0 7 0│0 0 0│0 9 0│\n",
       "├─────┼─────┼─────┤\n",
       "│0 0 0│0 0 0│0 3 0│\n",
       "│0 0 0│4 3 0│0 0 7│\n",
       "│0 0 0│7 8 0│6 0 0│\n",
       "├─────┼─────┼─────┤\n",
       "│0 0 6│0 0 0│8 0 5│\n",
       "│0 2 0│1 4 0│0 6 0│\n",
       "│0 1 0│3 5 0│0 4 0│\n",
       "└─────┴─────┴─────┘\n",
       "</span>"
      ]
     },
     "execution_count": 81,
     "metadata": {},
     "output_type": "execute_result"
    }
   ],
   "source": [
    "sfmt s99                            ⍝ 9×9 sudoku puzzle"
   ]
  },
  {
   "cell_type": "markdown",
   "metadata": {},
   "source": [
    "<div class=\"lessonstep\">\n",
    "Naming a function for the format of the first (<span class=\"APL\">⊃</span>) solution:\n",
    "</div>"
   ]
  },
  {
   "cell_type": "code",
   "execution_count": 82,
   "metadata": {},
   "outputs": [],
   "source": [
    "sudoku ← {sfmt⊃cmap∘rcb svec ⍵}     ⍝ Sudoku solver"
   ]
  },
  {
   "cell_type": "code",
   "execution_count": 83,
   "metadata": {},
   "outputs": [
    {
     "data": {
      "text/html": [
       "<span style=\"white-space:pre; font-family: monospace\">┌───┬───┐\n",
       "│2 1│4 3│\n",
       "│4 3│2 1│\n",
       "├───┼───┤\n",
       "│3 2│1 4│\n",
       "│1 4│3 2│\n",
       "└───┴───┘\n",
       "</span>"
      ]
     },
     "execution_count": 83,
     "metadata": {},
     "output_type": "execute_result"
    }
   ],
   "source": [
    "sudoku s44                          ⍝ first solution of smaller puzzle."
   ]
  },
  {
   "cell_type": "code",
   "execution_count": 84,
   "metadata": {},
   "outputs": [
    {
     "data": {
      "text/html": [
       "<span style=\"white-space:pre; font-family: monospace\">┌─────┬─────┬─────┐\n",
       "│2 8 1│6 9 3│5 7 4│\n",
       "│4 6 9│2 7 5│3 8 1│\n",
       "│5 7 3│8 1 4│2 9 6│\n",
       "├─────┼─────┼─────┤\n",
       "│7 9 2│5 6 1│4 3 8│\n",
       "│6 5 8│4 3 9│1 2 7│\n",
       "│1 3 4│7 8 2│6 5 9│\n",
       "├─────┼─────┼─────┤\n",
       "│3 4 6│9 2 7│8 1 5│\n",
       "│9 2 5│1 4 8│7 6 3│\n",
       "│8 1 7│3 5 6│9 4 2│\n",
       "└─────┴─────┴─────┘\n",
       "</span>"
      ]
     },
     "execution_count": 84,
     "metadata": {},
     "output_type": "execute_result"
    }
   ],
   "source": [
    "sudoku s99                          ⍝ first solution of larger puzzle"
   ]
  },
  {
   "cell_type": "markdown",
   "metadata": {},
   "source": [
    "<div class=\"lessonstep\"><b>\n",
    "A Generalisation\n",
    "</b></div>"
   ]
  },
  {
   "cell_type": "markdown",
   "metadata": {},
   "source": [
    "<div class=\"lessonstep\">\n",
    "APL makes it easy to extend functions to arrays of higher rank.\n",
    "</div>"
   ]
  },
  {
   "cell_type": "markdown",
   "metadata": {},
   "source": [
    "<div class=\"lessonstep\">\n",
    "To demonstrate this, let's convert our code to solve a 3D variant of Sudoku.\n",
    "</div>"
   ]
  },
  {
   "cell_type": "code",
   "execution_count": 85,
   "metadata": {},
   "outputs": [],
   "source": [
    "⍝⍝⍝⍝⍝⍝⍝⍝⍝⍝⍝⍝⍝⍝⍝⍝⍝⍝⍝⍝⍝⍝⍝⍝⍝⍝⍝⍝⍝⍝⍝⍝⍝⍝⍝⍝⍝ 3D Sudoku"
   ]
  },
  {
   "cell_type": "code",
   "execution_count": 86,
   "metadata": {},
   "outputs": [],
   "source": [
    "s333 ← 3 3 3⍴0                      ⍝ input of 3×3×3 puzzle"
   ]
  },
  {
   "cell_type": "code",
   "execution_count": 87,
   "metadata": {},
   "outputs": [],
   "source": [
    "s333[1;;] ← 3 3 ⍴  0 0 0  8 1 0  0 0 2   ⍝ 1st plane"
   ]
  },
  {
   "cell_type": "code",
   "execution_count": 88,
   "metadata": {},
   "outputs": [],
   "source": [
    "s333[2;;] ← 3 3 ⍴  0 6 0  0 7 0  9 0 4   ⍝ 2nd plane"
   ]
  },
  {
   "cell_type": "code",
   "execution_count": 89,
   "metadata": {},
   "outputs": [],
   "source": [
    "s333[3;;] ← 3 3 ⍴  5 0 0  0 0 3  0 0 0   ⍝ 3rd plane"
   ]
  },
  {
   "cell_type": "code",
   "execution_count": 90,
   "metadata": {},
   "outputs": [
    {
     "data": {
      "text/html": [
       "<span style=\"white-space:pre; font-family: monospace\">0 0 0\n",
       "8 1 0\n",
       "0 0 2\n",
       "     \n",
       "0 6 0\n",
       "0 7 0\n",
       "9 0 4\n",
       "     \n",
       "5 0 0\n",
       "0 0 3\n",
       "0 0 0\n",
       "</span>"
      ]
     },
     "execution_count": 90,
     "metadata": {},
     "output_type": "execute_result"
    }
   ],
   "source": [
    "s333                                ⍝ 3D Sudoku puzzle"
   ]
  },
  {
   "cell_type": "markdown",
   "metadata": {},
   "source": [
    "<div class=\"lessonstep\">\n",
    "We choose slightly different contention conditions: \n",
    "there are no \"boxes\" but numbers must not be repeated in any of the nine x, y, or z planes.\n",
    "</div>"
   ]
  },
  {
   "cell_type": "markdown",
   "metadata": {},
   "source": [
    "<div class=\"lessonstep\">\n",
    "First, we generalise our <b>cmap</b> function: \n",
    "</div>"
   ]
  },
  {
   "cell_type": "code",
   "execution_count": 91,
   "metadata": {},
   "outputs": [
    {
     "data": {
      "text/html": [
       "<span style=\"white-space:pre; font-family: monospace\">{⊂[⍳2]1∊¨⍵∘.=⍵}\n",
       "</span>"
      ]
     },
     "execution_count": 91,
     "metadata": {},
     "output_type": "execute_result"
    }
   ],
   "source": [
    "cmap                                ⍝ 2D-specific cmap"
   ]
  },
  {
   "cell_type": "markdown",
   "metadata": {},
   "source": [
    "<div class=\"lessonstep\">\n",
    "to <b>enclose</b> (<span class=\"APL\">⊂</span>) an <i>appropriate</i> number of <b>axes</b> [...].\n",
    "</div>"
   ]
  },
  {
   "cell_type": "markdown",
   "metadata": {},
   "source": [
    "<div class=\"lessonstep\">\n",
    "which is the rank (<span class=\"APL\">⍴⍴</span> the shape of the shape) of the argument array: \n",
    "</div>"
   ]
  },
  {
   "cell_type": "code",
   "execution_count": 92,
   "metadata": {},
   "outputs": [],
   "source": [
    "cmap ← {⊂[⍳⍴⍴⍵]1∊¨⍵∘.=⍵}            ⍝ rank-invariant cmap"
   ]
  },
  {
   "cell_type": "markdown",
   "metadata": {},
   "source": [
    "<div class=\"lessonstep\">\n",
    "Then, using primitive function (<span class=\"APL\">⍳</span>) in place of the <b>rcb</b> function, \n",
    "as there are no boxes:\n",
    "</div>"
   ]
  },
  {
   "cell_type": "code",
   "execution_count": 93,
   "metadata": {},
   "outputs": [],
   "source": [
    "sudoku3D ← {⊃cmap∘⍳ svec ⍵}         ⍝ 3D Sudoku solver"
   ]
  },
  {
   "cell_type": "markdown",
   "metadata": {},
   "source": [
    "<div class=\"lessonstep\">\n",
    "Finally, we must generalise <b>avl</b> to return available numbers for a <i>subarray</i>.\n",
    "</div>"
   ]
  },
  {
   "cell_type": "markdown",
   "metadata": {},
   "source": [
    "<div class=\"lessonstep\">\n",
    "For 2D Sudoku this will continue to be the numbers for a row or column vector \n",
    "and for the 3D version it will be those for a whole plane:\n",
    "</div>"
   ]
  },
  {
   "cell_type": "code",
   "execution_count": 94,
   "metadata": {},
   "outputs": [
    {
     "data": {
      "text/html": [
       "<span style=\"white-space:pre; font-family: monospace\"> ∇avl \n",
       "</span>"
      ]
     },
     "execution_count": 94,
     "metadata": {},
     "output_type": "execute_result"
    }
   ],
   "source": [
    "avl                                 ⍝ 2D-specific avl"
   ]
  },
  {
   "cell_type": "code",
   "execution_count": 95,
   "metadata": {},
   "outputs": [],
   "source": [
    "avl ← {(⍳×/1↓⍴⍵)~⍵×⊃⍺⌷⍺⍺}           ⍝ rank-invariant avl"
   ]
  },
  {
   "cell_type": "code",
   "execution_count": 96,
   "metadata": {},
   "outputs": [
    {
     "data": {
      "text/html": [
       "<span style=\"white-space:pre; font-family: monospace\">2 3 8\n",
       "</span>"
      ]
     },
     "execution_count": 96,
     "metadata": {},
     "output_type": "execute_result"
    }
   ],
   "source": [
    "  1 1 ((cmap rcb ⍴s99 )avl)  s99    ⍝ 2D plays at 1 1 for s99"
   ]
  },
  {
   "cell_type": "code",
   "execution_count": 97,
   "metadata": {},
   "outputs": [
    {
     "data": {
      "text/html": [
       "<span style=\"white-space:pre; font-family: monospace\">3 4 7\n",
       "</span>"
      ]
     },
     "execution_count": 97,
     "metadata": {},
     "output_type": "execute_result"
    }
   ],
   "source": [
    "1 1 1 ((cmap ⍳   ⍴s333)avl) s333    ⍝ 3D plays at 1 1 1 for s333"
   ]
  },
  {
   "cell_type": "markdown",
   "metadata": {},
   "source": [
    "<div class=\"lessonstep\">\n",
    "Our 2D Sudoku solver continues to work as before:\n",
    "</div>"
   ]
  },
  {
   "cell_type": "code",
   "execution_count": 98,
   "metadata": {},
   "outputs": [
    {
     "data": {
      "text/html": [
       "<span style=\"white-space:pre; font-family: monospace\">┌─────┬─────┬─────┐\n",
       "│2 8 1│6 9 3│5 7 4│\n",
       "│4 6 9│2 7 5│3 8 1│\n",
       "│5 7 3│8 1 4│2 9 6│\n",
       "├─────┼─────┼─────┤\n",
       "│7 9 2│5 6 1│4 3 8│\n",
       "│6 5 8│4 3 9│1 2 7│\n",
       "│1 3 4│7 8 2│6 5 9│\n",
       "├─────┼─────┼─────┤\n",
       "│3 4 6│9 2 7│8 1 5│\n",
       "│9 2 5│1 4 8│7 6 3│\n",
       "│8 1 7│3 5 6│9 4 2│\n",
       "└─────┴─────┴─────┘\n",
       "</span>"
      ]
     },
     "execution_count": 98,
     "metadata": {},
     "output_type": "execute_result"
    }
   ],
   "source": [
    "sudoku s99                          ⍝ 2D solution"
   ]
  },
  {
   "cell_type": "markdown",
   "metadata": {},
   "source": [
    "<div class=\"lessonstep\">\n",
    "and our 3D solver solves the 3D puzzle s333:\n",
    "</div>"
   ]
  },
  {
   "cell_type": "code",
   "execution_count": 99,
   "metadata": {},
   "outputs": [
    {
     "data": {
      "text/html": [
       "<span style=\"white-space:pre; font-family: monospace\">3 4 9\n",
       "8 1 6\n",
       "7 5 2\n",
       "     \n",
       "1 6 8\n",
       "2 7 5\n",
       "9 3 4\n",
       "     \n",
       "5 2 7\n",
       "4 9 3\n",
       "6 8 1\n",
       "</span>"
      ]
     },
     "execution_count": 99,
     "metadata": {},
     "output_type": "execute_result"
    }
   ],
   "source": [
    "sudoku3D s333                       ⍝ 3D solution"
   ]
  },
  {
   "cell_type": "markdown",
   "metadata": {},
   "source": [
    "<div class=\"lessonstep\">\n",
    "Notice how few changes were needed to generalise our program for a higher dimensional puzzle.\n",
    "</div>"
   ]
  },
  {
   "cell_type": "markdown",
   "metadata": {},
   "source": [
    "<div class=\"lessonstep\">\n",
    "<b>Conclusion</b>\n",
    "</div>"
   ]
  },
  {
   "cell_type": "markdown",
   "metadata": {},
   "source": [
    "<div class=\"lessonstep\">\n",
    "There are many ways to solve Sudoku. The method used here illustrates a <i>Pure Functional Programming</i> approach.\n",
    "</div>"
   ]
  },
  {
   "cell_type": "markdown",
   "metadata": {},
   "source": [
    "<div class=\"lessonstep\">\n",
    "The code we have developed consists only of the application of functions and operators to their arguments and operands. In particular, it contains:\n",
    "</div>"
   ]
  },
  {
   "cell_type": "markdown",
   "metadata": {},
   "source": [
    "<div class=\"lessonstep\">No explicit representation of state (no variables).</div>"
   ]
  },
  {
   "cell_type": "markdown",
   "metadata": {},
   "source": [
    "<div class=\"lessonstep\">No explicit control structures (no conditionals, loops, etc).</div>"
   ]
  },
  {
   "cell_type": "code",
   "execution_count": 100,
   "metadata": {},
   "outputs": [
    {
     "data": {
      "text/html": [
       "<span style=\"white-space:pre; font-family: monospace\">sudoku ← {sfmt⊃cmap∘rcb svec ⍵}       \n",
       "  sfmt ← {⊂[3 4]1 3 2 4⍉(2/(⍴⍵)*÷2)⍴⍵}\n",
       "  cmap ← {⊂[⍳⍴⍴⍵]1∊¨⍵∘.=⍵}            \n",
       "  rcb ← {(⍳⍵),¨box⊃⍵*÷2}              \n",
       "    box ← {⍵⌿⍵/⍵ ⍵⍴⍳⍵×⍵}              \n",
       "  svec ← {⊃(⍺⍺⍴⍵)nxtv/(emt ⍵),⊂⊂⍵}    \n",
       "    nxtv ← {⊃,/⍺∘(⍺⍺ nxt)¨⍵}          \n",
       "      nxt ← {(⍺(⍺⍺ avl)⍵)(⍺ at)¨⊂⍵}   \n",
       "        avl ← {(⍳×/1↓⍴⍵)~⍵×⊃⍺⌷⍺⍺}     \n",
       "        at ← {⍵+(⍴⍵)↑(-⍺⍺)↑⍺}         \n",
       "    emt ← {(,⍵=0)/,⍳⍴⍵}               \n",
       "</span>"
      ]
     },
     "execution_count": 100,
     "metadata": {},
     "output_type": "execute_result"
    }
   ],
   "source": [
    "]defs sudoku -t"
   ]
  },
  {
   "cell_type": "markdown",
   "metadata": {},
   "source": [
    "<div class=\"lessonstep\">\n",
    "For alternative codings of Sudoku in APL, see \n",
    "<a href=\"http://dfns.dyalog.com/n_sudoku.htm\" target=\"_blank\">http://dfns.dyalog.com/n_sudoku.htm</a>\n",
    "</div>"
   ]
  },
  {
   "cell_type": "markdown",
   "metadata": {},
   "source": [
    "<div class=\"lessonstep\">\n",
    "<b>Credits:</b><br/>\n",
    "Algorithm:   <a href=\"http://www.kparc.com/examples/game.k\" target=\"_blank\">Arthur Whitney</a><br/>\n",
    "Inspiration: <a href=\"http://www.jsoftware.com/papers/nqueens.htm\" target=\"_blank\">Roger Hui</a>\n",
    "</div>"
   ]
  },
  {
   "cell_type": "markdown",
   "metadata": {},
   "source": [
    "<div class=\"lessonstep\">\n",
    "That's All Folks!\n",
    "</div>"
   ]
  }
 ],
 "metadata": {
  "kernelspec": {
   "display_name": "Dyalog APL",
   "language": "apl",
   "name": "dyalog-kernel"
  },
  "language_info": {
   "file_extension": ".apl",
   "mimetype": "text/apl",
   "name": "APL"
  }
 },
 "nbformat": 4,
 "nbformat_minor": 2
}
