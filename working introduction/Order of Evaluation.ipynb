{
 "cells": [
  {
   "cell_type": "markdown",
   "metadata": {},
   "source": [
    "In any expression containing multiple elements, it is necessary to have rules about the order in which the elements will be evaluated. One basic, widely used rule, which is also used by APL, is that an expression in parentheses must be evaluated before its value can be used in any expression that contains it. In fact, parentheses can be used to completely specify the order of evaluation, as in the following examples."
   ]
  },
  {
   "cell_type": "code",
   "execution_count": 2,
   "metadata": {},
   "outputs": [
    {
     "data": {
      "text/html": [
       "<span style=\"white-space:pre; font-family: monospace\">26\n",
       "</span>"
      ]
     },
     "execution_count": 2,
     "metadata": {},
     "output_type": "execute_result"
    }
   ],
   "source": [
    "(2×3)+(4×5)"
   ]
  },
  {
   "cell_type": "markdown",
   "metadata": {},
   "source": [
    "Note that the rule governing parentheses controls not only the order in which functions are executed, but also the order in which data elements are grouped into vectors."
   ]
  },
  {
   "cell_type": "code",
   "execution_count": 3,
   "metadata": {},
   "outputs": [
    {
     "data": {
      "text/html": [
       "<span style=\"white-space:pre; font-family: monospace\">┌───┬───┐\n",
       "│2 3│4 5│\n",
       "└───┴───┘\n",
       "</span>"
      ]
     },
     "execution_count": 3,
     "metadata": {},
     "output_type": "execute_result"
    }
   ],
   "source": [
    "(2 3) (4 5)"
   ]
  },
  {
   "cell_type": "code",
   "execution_count": 4,
   "metadata": {},
   "outputs": [
    {
     "data": {
      "text/html": [
       "<span style=\"white-space:pre; font-family: monospace\">┌─────┬─┐\n",
       "│86 21│3│\n",
       "└─────┴─┘\n",
       "</span>"
      ]
     },
     "execution_count": 4,
     "metadata": {},
     "output_type": "execute_result"
    }
   ],
   "source": [
    "(¯5+(7 2)×13) 3"
   ]
  },
  {
   "cell_type": "code",
   "execution_count": 5,
   "metadata": {},
   "outputs": [
    {
     "data": {
      "text/html": [
       "<span style=\"white-space:pre; font-family: monospace\">9 7 18\n",
       "</span>"
      ]
     },
     "execution_count": 5,
     "metadata": {},
     "output_type": "execute_result"
    }
   ],
   "source": [
    "(((⍳3)×4)+7 1 8)-2"
   ]
  },
  {
   "cell_type": "markdown",
   "metadata": {},
   "source": [
    "If parentheses were the only way to specify the order of evaluation, complex expressions would become unreadable tangles of parenthes within parentheses. To simplify writing and reading of code, other rules are needed. APL has one simple, primary rule for evaluation of expressions: Except as modified by parentheses, evaluation proceeds from right to left.\n",
    "\n",
    "Put another way, each function’s right argument is the result of the entire expression to its right (up to an unmatched closing parenthesis) and its left argument -- if it has one -- is the single value to its left, which may be a parenthesized expression or a vector, but cannot be a function."
   ]
  },
  {
   "cell_type": "markdown",
   "metadata": {},
   "source": [
    "Progressively adding redundant pairs of parentheses which duplicate this order can make it easier to see how it works."
   ]
  },
  {
   "cell_type": "code",
   "execution_count": 6,
   "metadata": {},
   "outputs": [],
   "source": [
    "a←10\n",
    "b←13"
   ]
  },
  {
   "cell_type": "markdown",
   "metadata": {},
   "source": [
    "The following four expressions are all equivalent"
   ]
  },
  {
   "cell_type": "code",
   "execution_count": 7,
   "metadata": {},
   "outputs": [
    {
     "data": {
      "text/html": [
       "<span style=\"white-space:pre; font-family: monospace\">13 16 19 22 25 28 31\n",
       "</span>"
      ]
     },
     "execution_count": 7,
     "metadata": {},
     "output_type": "execute_result"
    }
   ],
   "source": [
    "a+3×⍳b-6"
   ]
  },
  {
   "cell_type": "code",
   "execution_count": 9,
   "metadata": {},
   "outputs": [
    {
     "data": {
      "text/html": [
       "<span style=\"white-space:pre; font-family: monospace\">13 16 19 22 25 28 31\n",
       "</span>"
      ]
     },
     "execution_count": 9,
     "metadata": {},
     "output_type": "execute_result"
    }
   ],
   "source": [
    "a+3×⍳(b-6)"
   ]
  },
  {
   "cell_type": "code",
   "execution_count": 10,
   "metadata": {},
   "outputs": [
    {
     "data": {
      "text/html": [
       "<span style=\"white-space:pre; font-family: monospace\">13 16 19 22 25 28 31\n",
       "</span>"
      ]
     },
     "execution_count": 10,
     "metadata": {},
     "output_type": "execute_result"
    }
   ],
   "source": [
    "a+3×(⍳(b-6))"
   ]
  },
  {
   "cell_type": "code",
   "execution_count": 11,
   "metadata": {},
   "outputs": [
    {
     "data": {
      "text/html": [
       "<span style=\"white-space:pre; font-family: monospace\">13 16 19 22 25 28 31\n",
       "</span>"
      ]
     },
     "execution_count": 11,
     "metadata": {},
     "output_type": "execute_result"
    }
   ],
   "source": [
    "a+(3×(⍳(b-6)))"
   ]
  },
  {
   "cell_type": "markdown",
   "metadata": {},
   "source": [
    "Note that the result of the above is quite different from either of these two expressions, which are different from each other."
   ]
  },
  {
   "cell_type": "code",
   "execution_count": 12,
   "metadata": {},
   "outputs": [
    {
     "data": {
      "text/html": [
       "<span style=\"white-space:pre; font-family: monospace\">13 26 39 52 65 78 91\n",
       "</span>"
      ]
     },
     "execution_count": 12,
     "metadata": {},
     "output_type": "execute_result"
    }
   ],
   "source": [
    "(a+3)×⍳b-6"
   ]
  },
  {
   "cell_type": "code",
   "execution_count": 13,
   "metadata": {},
   "outputs": [
    {
     "data": {
      "text/html": [
       "<span style=\"white-space:pre; font-family: monospace\">7 10 13 16 19 22 25 28 31 34 37 40 43\n",
       "</span>"
      ]
     },
     "execution_count": 13,
     "metadata": {},
     "output_type": "execute_result"
    }
   ],
   "source": [
    "(a+3×⍳b)-6"
   ]
  },
  {
   "cell_type": "markdown",
   "metadata": {},
   "source": [
    "You might think that this rule is somehow backwards, because we are used to reading and writing left-to-right, not right-to-left. But that would be a mistake. *Reading* left-to-right is *evaluation* right-to-left.\n",
    "\n",
    "E.g., \"the top half of the bottom quarter\" does not mean \"take the top half, and then take the bottom quarter of the result\"; it means \"take the bottom quarter, and then take the top half of that result\". In fact, it develops its meaning in four stages from right to left:\n",
    "\n",
    "1.  Quarter: divide into quarters;\n",
    "2. Bottom: take the bottom of those;\n",
    "3. Half: divide what was taken into halves;\n",
    "4. Top: take the top of those.\n",
    "\n",
    "So right-to-left *evaluation* is not \"strange\". It's perfectly natural."
   ]
  },
  {
   "cell_type": "markdown",
   "metadata": {},
   "source": [
    "APL does not recognise the function hierarchies of common mathematical notation, and with good reason. Mathematical notation determines its order by the kind of function, e.g. doing multiplication and division before addition and subtraction. But this is true only for a few kinds of functions, which are respresented by special symbols. For named functions, it uses the same right-to-left rule as APL. E.g., `exp sin log x` is evaluated as `exp (sin (log (x)))`. Since APL has far more primitive functions represented by graphic symbols, any hierarchy covering them all would be both arbitrary and impossible to remember. Instead, APL gives *all* functions the same priority, both primitive symbols and named functions created by the programmer, and applies the same right-to-left evaluation rule to them all.\n",
    "\n",
    "Rules of syntax and evaluation in APL are few, fixed, and fundamental. One may need to consult documentation to know what a primitive function does, but not to know how to fit it in syntactically, nor to know in what order it will be executed."
   ]
  }
 ],
 "metadata": {
  "kernelspec": {
   "display_name": "Dyalog APL",
   "language": "apl",
   "name": "dyalog-kernel"
  },
  "language_info": {
   "file_extension": ".apl",
   "mimetype": "text/apl",
   "name": "APL"
  },
  "tryapl": {
   "category": "Working Introduction Course",
   "description": "What comes before what in an APL expression",
   "name": "Lesson 09: Order of Evaluation"
  }

 },
 "nbformat": 4,
 "nbformat_minor": 2
}
