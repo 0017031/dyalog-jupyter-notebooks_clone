{
 "cells": [
  {
   "cell_type": "markdown",
   "metadata": {},
   "source": [
    "Most programs need to “make decisions”, i.e., to select among different courses of action depending on some condition, some element or property of the data being processed, e.g., user input or the contents of a web page. The first example in this lesson implements a simple choice."
   ]
  },
  {
   "cell_type": "code",
   "execution_count": 5,
   "metadata": {},
   "outputs": [],
   "source": [
    "]dinput\n",
    "SumParity←{\n",
    "    0=2|t←+/,⍵:'even'\n",
    "    0=1|t:'odd'\n",
    "    'non-integer'\n",
    "}"
   ]
  },
  {
   "cell_type": "code",
   "execution_count": 9,
   "metadata": {},
   "outputs": [
    {
     "data": {
      "text/html": [
       "<span style=\"white-space:pre; font-family: monospace\">{                     \n",
       "     0=2|t←+/,⍵:'even'\n",
       "     0=1|t:'odd'      \n",
       "     'non_integer'    \n",
       " }                    \n",
       "</span>"
      ]
     },
     "execution_count": 9,
     "metadata": {},
     "output_type": "execute_result"
    }
   ],
   "source": [
    "SumParity"
   ]
  },
  {
   "cell_type": "markdown",
   "metadata": {},
   "source": [
    "Next is **recursion**, which builds a result by a function repeatedly calling itself until some terminating condition is met. `MultiPrompt` takes as its argument a vector of separate prompt texts and uses the function `Prompt` to present them one at a time and build up a corresponding vector of responses."
   ]
  },
  {
   "cell_type": "code",
   "execution_count": 16,
   "metadata": {},
   "outputs": [],
   "source": [
    "Prompt←{⍞}"
   ]
  },
  {
   "cell_type": "code",
   "execution_count": 16,
   "metadata": {},
   "outputs": [],
   "source": [
    "]dinput\n",
    "MultiPrompt←{\n",
    "    ⍝ ⍵ should be a vector of text vectors\n",
    "    0∊⍴⍵:⍬\n",
    "    (⊂Prompt⊃¯1↑⍵),⍨MultiPrompt ¯1↓⍵\n",
    "}"
   ]
  },
  {
   "cell_type": "code",
   "execution_count": 17,
   "metadata": {},
   "outputs": [
    {
     "name": "stderr",
     "output_type": "stream",
     "text": [
      "JUPYTER NOTEBOOK: Input through ⍞ is not supported"
     ]
    }
   ],
   "source": [
    "txt←⊂'What is your favorite '\n",
    "txt←txt,¨'colour?' 'number?' 'food?'\n",
    "⍴t←MultiPrompt txt"
   ]
  },
  {
   "cell_type": "markdown",
   "metadata": {},
   "source": [
    "Dynamically defined functions don’t lend themselves to some sorts of flow control, loops and block-structured code in particular. There is another form, **canonical** function definition, which can be used effectively in such cases. In fact, canonically defined functions are just as versatile as dynamically defined functions, though the two forms handle decision-making differently. Rather than the guards of dynamic functions, canonical functions use block structures delimited by control words to direct program flow."
   ]
  },
  {
   "cell_type": "code",
   "execution_count": 6,
   "metadata": {},
   "outputs": [],
   "source": [
    "∇r←SumParity_c arg;t\n",
    " :If 0=2|t←+/,arg\n",
    "     r←'even'\n",
    " :ElseIf 0=1|t\n",
    "     r←'odd'\n",
    " :Else\n",
    "     r←'non-integer'\n",
    " :EndIf\n",
    "∇"
   ]
  },
  {
   "cell_type": "markdown",
   "metadata": {},
   "source": [
    "In canonical functions the first line, or **header**, defines function name, the funciton’s syntax, and all local names. In the above example the function name is `SumParity_c`. It takes a single (right) argument, which is identified by the **local** name `arg`. The assignment arrow indicates that it returns a result, which is identified by the local name `r`. Unlike in dynamic functions, assignment to a name within a canonical function doesn’t automatically localize it. Instead, names are made local by listing them in the right-hand side of the header, preceding each with a semicolon. This has been done with the variable name `t` in the above function."
   ]
  },
  {
   "cell_type": "markdown",
   "metadata": {},
   "source": [
    "Test this function, comparing its results with the earlier `SumParity`."
   ]
  }
 ],
 "metadata": {
  "kernelspec": {
   "display_name": "Dyalog APL",
   "language": "apl",
   "name": "dyalog-kernel"
  },
  "language_info": {
   "file_extension": ".apl",
   "mimetype": "text/apl",
   "name": "APL"
  },
  "tryapl": {
   "category": "Working Introduction Course",
   "description": "Structured code with traditional functions",
   "name": "Lesson 18: Decisions and “Canonical” Function Definition"
  }
 },
 "nbformat": 4,
 "nbformat_minor": 2
}
