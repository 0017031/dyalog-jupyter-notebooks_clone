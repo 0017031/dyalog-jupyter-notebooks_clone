{
 "cells": [
  {
   "cell_type": "markdown",
   "metadata": {},
   "source": [
    "In addition to collected data, computations are often based on fixed parameters, sometimes more than one set of parameters. As variables in the workspace, their values could be included as elements in composite arguments. But as long as their global names don't conflict with names of local variables within a function, those names can be used directly. Here we'll explore both techniques.\n",
    "\n",
    "The exercise is discounted quantity pricing, where there is one price per item for the first few, then a lesser price for each additional item up to the next **bracket point**, an even lower **bracket price** for the next several, and so on."
   ]
  },
  {
   "cell_type": "code",
   "execution_count": null,
   "metadata": {},
   "outputs": [],
   "source": [
    "bracketPoints←0 2 5 10 25 100\n",
    "bracketRates←25 20 18 15 12 10"
   ]
  },
  {
   "cell_type": "markdown",
   "metadata": {},
   "source": [
    "Create copies with shorter names, for subsequent typing convenience."
   ]
  },
  {
   "cell_type": "code",
   "execution_count": null,
   "metadata": {},
   "outputs": [],
   "source": [
    "bp br←bracketPoints bracketRates"
   ]
  },
  {
   "cell_type": "markdown",
   "metadata": {},
   "source": [
    "Incremental quantities in each bracket:"
   ]
  },
  {
   "cell_type": "code",
   "execution_count": null,
   "metadata": {},
   "outputs": [],
   "source": [
    "bpi←¯2 -/ bp\n",
    "bpi"
   ]
  },
  {
   "cell_type": "markdown",
   "metadata": {},
   "source": [
    "One could reconstruct `bp` from `bpi`."
   ]
  },
  {
   "cell_type": "code",
   "execution_count": null,
   "metadata": {},
   "outputs": [],
   "source": [
    "bp ≡ 0,+\\bpi"
   ]
  },
  {
   "cell_type": "markdown",
   "metadata": {},
   "source": [
    "Value (cost) of each full bracket:"
   ]
  },
  {
   "cell_type": "code",
   "execution_count": null,
   "metadata": {},
   "outputs": [],
   "source": [
    "bv←0,+\\(¯1↓br)×bpi\n",
    "bv"
   ]
  },
  {
   "cell_type": "markdown",
   "metadata": {},
   "source": [
    "Various quantities:"
   ]
  },
  {
   "cell_type": "code",
   "execution_count": null,
   "metadata": {},
   "outputs": [],
   "source": [
    "qty←1 2 3 7 22 50 60 80 122"
   ]
  },
  {
   "cell_type": "markdown",
   "metadata": {},
   "source": [
    "Index of highest bracket point not greater than each quantity:"
   ]
  },
  {
   "cell_type": "code",
   "execution_count": null,
   "metadata": {},
   "outputs": [],
   "source": [
    "ix←+/qty∘.>bp"
   ]
  },
  {
   "cell_type": "markdown",
   "metadata": {},
   "source": [
    "Corresponding elements of each parameter:"
   ]
  },
  {
   "cell_type": "code",
   "execution_count": null,
   "metadata": {},
   "outputs": [],
   "source": [
    "↑(bp[ix])(br[ix])(bv[ix])"
   ]
  },
  {
   "cell_type": "markdown",
   "metadata": {},
   "source": [
    "Total cost for each quantity:"
   ]
  },
  {
   "cell_type": "code",
   "execution_count": null,
   "metadata": {},
   "outputs": [],
   "source": [
    "costs←bv[ix]+br[ix]×qty-bp[ix]"
   ]
  },
  {
   "cell_type": "markdown",
   "metadata": {},
   "source": [
    "Each quantity, its cost, and its average cost per item:"
   ]
  },
  {
   "cell_type": "code",
   "execution_count": null,
   "metadata": {},
   "outputs": [],
   "source": [
    "⍉↑qty costs ((⌊0.5+100×costs÷qty)÷100)"
   ]
  },
  {
   "cell_type": "markdown",
   "metadata": {},
   "source": [
    "We define the cost calculation in function form, using each of the above techniques for accessing parameters.  \n",
    "The first function uses the global names of the parameters.  \n",
    "The second function passes the parameters as a left argument."
   ]
  },
  {
   "cell_type": "code",
   "execution_count": null,
   "metadata": {},
   "outputs": [],
   "source": [
    "%define\n",
    "BracketCost_g←{\n",
    "    ix←+/⍵∘.>bracketPoints\n",
    "    bv←0,+\\(¯1↓bracketRates)×¯2 -/ bracketPoints\n",
    "    rest←⍵-bracketPoints[ix]\n",
    "    bv[ix]+bracketRates[ix]×rest\n",
    "}"
   ]
  },
  {
   "cell_type": "markdown",
   "metadata": {},
   "source": [
    "The result of a multi-line dynamic function is the result of the first executed line which doesn’t assign its result. That value is returned mmediately as the result of the function, and any subsequent code will be ignored.."
   ]
  },
  {
   "cell_type": "markdown",
   "metadata": {},
   "source": [
    "Now use the same procedure to define the second function.  \n",
    "This one takes the parameters as a left argument"
   ]
  },
  {
   "cell_type": "code",
   "execution_count": null,
   "metadata": {},
   "outputs": [],
   "source": [
    "%define\n",
    "BracketCost_a←{\n",
    "    bp br←⍺\n",
    "    ix←+/⍵∘.>bp\n",
    "    bv←0,+\\(¯1↓br)×¯2 -/ bp\n",
    "    rest←⍵-bp[ix]\n",
    "    bv[ix]+br[ix]×rest\n",
    "}"
   ]
  },
  {
   "cell_type": "markdown",
   "metadata": {},
   "source": [
    "Now we verify that both functions give the same results as the piecewise computation:"
   ]
  },
  {
   "cell_type": "code",
   "execution_count": null,
   "metadata": {},
   "outputs": [],
   "source": [
    "costs ≡ BracketCost_g qty"
   ]
  },
  {
   "cell_type": "code",
   "execution_count": null,
   "metadata": {},
   "outputs": [],
   "source": [
    "costs ≡ (bracketPoints bracketRates) BracketCost_a qty"
   ]
  }
 ],
 "metadata": {
  "kernelspec": {
   "display_name": "Dyalog APL",
   "language": "apl",
   "name": "dyalog-kernel"
  },
  "language_info": {
   "file_extension": ".apl",
   "mimetype": "text/apl",
   "name": "APL"
  }
 },
 "nbformat": 4,
 "nbformat_minor": 2
}
