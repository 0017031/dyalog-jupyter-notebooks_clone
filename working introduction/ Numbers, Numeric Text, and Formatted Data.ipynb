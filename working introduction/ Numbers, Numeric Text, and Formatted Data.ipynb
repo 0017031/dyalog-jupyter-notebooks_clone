{
 "cells": [
  {
   "cell_type": "code",
   "execution_count": 75,
   "metadata": {},
   "outputs": [],
   "source": [
    "C2N←{⊃(//⎕VFI ⍵)}\n",
    "C2N0←{⊃⌽⎕VFI ⍵}\n",
    "sales02←12 5⍴1835.2 1667.2 966.721 3378.24 2286.72 1649.9 1427.3 963.9 3103.38 2070.6 1772.8 1802.4 1159.68 3542.4 2208.96 1771.5 1695 1010.7 2809.35 2240.1 1944.8 1816.45 1155.66 3595.5 2380.68 1741.65 1933.75 1176.06 3571.02 2292.96 2057.4 2065.5 1199.34 3363.12 2432.16 2129.4 1814.4 1094.04 3664.44 2333.88 1816.2 1910.7 1109.16 3551.04 2458.08 2069.1 2075.4 1332.72 3866.94 2437.56 2019.6 2093.4 1268.46 3570.48 2423.52 2016 2120.4 1224.72 3465.18 2487.24\n",
    "months←12 3⍴'JanFebMarAprMayJunJulAugSepOctNovDec'\n",
    "items←'     gas     oil     tires   access  other  '\n",
    "Align←{(1+-⌈/≢¨,⍵)↑¨⍵}"
   ]
  },
  {
   "cell_type": "markdown",
   "metadata": {},
   "source": [
    "Experiment with the two following sets of expressions to demonstrate that numeric text (digits, decimals, etc. enclosed within quotes) behaves differently from the numbers it represents:"
   ]
  },
  {
   "cell_type": "code",
   "execution_count": 10,
   "metadata": {},
   "outputs": [
    {
     "data": {
      "text/html": [
       "<span style=\"white-space:pre; font-family: monospace\">2\n",
       "</span>"
      ]
     },
     "execution_count": 10,
     "metadata": {},
     "output_type": "execute_result"
    },
    {
     "data": {
      "text/html": [
       "<span style=\"white-space:pre; font-family: monospace\">246 912\n",
       "</span>"
      ]
     },
     "execution_count": 10,
     "metadata": {},
     "output_type": "execute_result"
    },
    {
     "data": {
      "text/html": [
       "<span style=\"white-space:pre; font-family: monospace\">123 456 123 456\n",
       "</span>"
      ]
     },
     "execution_count": 10,
     "metadata": {},
     "output_type": "execute_result"
    }
   ],
   "source": [
    "n←123 456\n",
    "⍴n\n",
    "2×n\n",
    "n,n"
   ]
  },
  {
   "cell_type": "code",
   "execution_count": 11,
   "metadata": {},
   "outputs": [
    {
     "data": {
      "text/html": [
       "<span style=\"white-space:pre; font-family: monospace\">7\n",
       "</span>"
      ]
     },
     "execution_count": 11,
     "metadata": {},
     "output_type": "execute_result"
    },
    {
     "name": "stderr",
     "output_type": "stream",
     "text": [
      "DOMAIN ERROR\n",
      "      2×c\n",
      "       ∧\n"
     ]
    },
    {
     "data": {
      "text/html": [
       "<span style=\"white-space:pre; font-family: monospace\">123 456123 456\n",
       "</span>"
      ]
     },
     "execution_count": 11,
     "metadata": {},
     "output_type": "execute_result"
    }
   ],
   "source": [
    "c←'123 456'\n",
    "⍴c\n",
    "2×c\n",
    "c,c"
   ]
  },
  {
   "cell_type": "markdown",
   "metadata": {},
   "source": [
    "The following examples illustrate the use of a primitive function which acts on numbers to produces character (text) representations of those numbers, as well as the defined functions `C2N` (which stands for \"character to number\") and `C2N0` (which stands for \"character to number with zero\") that convert character vectors to numbers."
   ]
  },
  {
   "cell_type": "code",
   "execution_count": 15,
   "metadata": {},
   "outputs": [
    {
     "data": {
      "text/html": [
       "<span style=\"white-space:pre; font-family: monospace\">2\n",
       "</span>"
      ]
     },
     "execution_count": 15,
     "metadata": {},
     "output_type": "execute_result"
    },
    {
     "data": {
      "text/html": [
       "<span style=\"white-space:pre; font-family: monospace\">246 912\n",
       "</span>"
      ]
     },
     "execution_count": 15,
     "metadata": {},
     "output_type": "execute_result"
    },
    {
     "data": {
      "text/html": [
       "<span style=\"white-space:pre; font-family: monospace\">123 456 123 456\n",
       "</span>"
      ]
     },
     "execution_count": 15,
     "metadata": {},
     "output_type": "execute_result"
    }
   ],
   "source": [
    "na←C2N c\n",
    "⍴na\n",
    "2×na\n",
    "na,na"
   ]
  },
  {
   "cell_type": "code",
   "execution_count": 14,
   "metadata": {},
   "outputs": [
    {
     "data": {
      "text/html": [
       "<span style=\"white-space:pre; font-family: monospace\">7\n",
       "</span>"
      ]
     },
     "execution_count": 14,
     "metadata": {},
     "output_type": "execute_result"
    },
    {
     "name": "stderr",
     "output_type": "stream",
     "text": [
      "DOMAIN ERROR\n",
      "      2×ca\n",
      "       ∧\n"
     ]
    },
    {
     "data": {
      "text/html": [
       "<span style=\"white-space:pre; font-family: monospace\">123 456123 456\n",
       "</span>"
      ]
     },
     "execution_count": 14,
     "metadata": {},
     "output_type": "execute_result"
    }
   ],
   "source": [
    "ca←⍕n\n",
    "⍴ca\n",
    "2×ca\n",
    "ca,ca"
   ]
  },
  {
   "cell_type": "code",
   "execution_count": 16,
   "metadata": {},
   "outputs": [
    {
     "data": {
      "text/html": [
       "<span style=\"white-space:pre; font-family: monospace\">123 456123 456\n",
       "</span>"
      ]
     },
     "execution_count": 16,
     "metadata": {},
     "output_type": "execute_result"
    }
   ],
   "source": [
    "C2N c,c"
   ]
  },
  {
   "cell_type": "code",
   "execution_count": 17,
   "metadata": {},
   "outputs": [
    {
     "data": {
      "text/html": [
       "<span style=\"white-space:pre; font-family: monospace\">123 456 123 456\n",
       "</span>"
      ]
     },
     "execution_count": 17,
     "metadata": {},
     "output_type": "execute_result"
    }
   ],
   "source": [
    "C2N c,' ',c"
   ]
  },
  {
   "cell_type": "markdown",
   "metadata": {},
   "source": [
    "What is the difference in what these two functions do?"
   ]
  },
  {
   "cell_type": "code",
   "execution_count": 18,
   "metadata": {},
   "outputs": [
    {
     "data": {
      "text/html": [
       "<span style=\"white-space:pre; font-family: monospace\">123 456 123 456\n",
       "</span>"
      ]
     },
     "execution_count": 18,
     "metadata": {},
     "output_type": "execute_result"
    }
   ],
   "source": [
    "C2N c,' text ',c"
   ]
  },
  {
   "cell_type": "code",
   "execution_count": 21,
   "metadata": {},
   "outputs": [
    {
     "data": {
      "text/html": [
       "<span style=\"white-space:pre; font-family: monospace\">123 456 0 123 456\n",
       "</span>"
      ]
     },
     "execution_count": 21,
     "metadata": {},
     "output_type": "execute_result"
    }
   ],
   "source": [
    "C2N0 c,' text ',c"
   ]
  },
  {
   "cell_type": "markdown",
   "metadata": {},
   "source": [
    "NOTE: The primitive function `⍎`, which looks like an inverse to `⍕`, can do character-to-number conversion, but it does much more than that, and its power can be dangerous. Its use for simple conversion is therefore not recommended, and instruction in its use is saved for a more advanced course."
   ]
  },
  {
   "cell_type": "markdown",
   "metadata": {},
   "source": [
    "Reports may be produced by catenating textual information with a character representation of the matrix of numeric data:"
   ]
  },
  {
   "cell_type": "code",
   "execution_count": 24,
   "metadata": {},
   "outputs": [
    {
     "data": {
      "text/html": [
       "<span style=\"white-space:pre; font-family: monospace\">2540.2  3886.6  1174.02 1327.48 2671.73\n",
       "2872.9  1714.74 3358.93 1359.3  3645.16\n",
       "3857.94 3801.3  3852.58 3798.02 2803.45\n",
       "2572.9  2994.18 3350.56 2771.74 2399.64\n",
       "1180.47 2533.25 3546.62 3420.41 2594.58\n",
       "2664.06 3408.34 2718.86 1906.06 3393.07\n",
       "3751.43 3116.06 3764.9  1840.23 3435.67\n",
       "3017.7  3384.65 3508.64 1570.16 3899.58\n",
       "2683.63 1281.96 3848.19 1412.15 3228.53\n",
       "3460.56 3697.27 3032.44 2151.04 2827.22\n",
       "3294.09 1109.91 1053.84 3419.27 2100.92\n",
       "2969.47 1900.72 3555.22 3933.93 3265.79\n",
       "</span>"
      ]
     },
     "execution_count": 24,
     "metadata": {},
     "output_type": "execute_result"
    }
   ],
   "source": [
    "sales02  ⍝ A table of monthly sales for 2002."
   ]
  },
  {
   "cell_type": "code",
   "execution_count": 28,
   "metadata": {},
   "outputs": [
    {
     "data": {
      "text/html": [
       "<span style=\"white-space:pre; font-family: monospace\">Jan 2304.88 2842.88 2753.48 2459.55 2729.01\n",
       "Feb 2489.49 2053.11 3168.21 2066.8  2865.15\n",
       "Mar 3759.11 1209.94 1904.48 1458.31 3328.83\n",
       "Apr 1547.06 3639.39 3745.4  1568.47 3260.91\n",
       "May 2485.73 3197.08 2090.34 3119.57 3826.53\n",
       "Jun 3343.92 2552.34 1629.93 2369.14 2860.18\n",
       "Jul 2232.41 1410.06 1032.51 2463.39 1847.44\n",
       "Aug 2206.66 2947.55 1581.69 2410.64 2359.1 \n",
       "Sep 3450.41 3210.54 2545.83 2058.3  1964.69\n",
       "Oct 2656.13 2451.4  3102.56 2668.9  1532.52\n",
       "Nov 3230.48 1654.54 2701.31 3210.17 3710.45\n",
       "Dec 1596.89 1684.98 2181.39 3972.16 1934.31\n",
       "</span>"
      ]
     },
     "execution_count": 28,
     "metadata": {},
     "output_type": "execute_result"
    }
   ],
   "source": [
    "msales←months,' ',⍕sales02\n",
    "msales"
   ]
  },
  {
   "cell_type": "markdown",
   "metadata": {},
   "source": [
    "But there’s a problem: The default format omits trailing zeros in the decimal part, but we want them in a report of cash amounts."
   ]
  },
  {
   "cell_type": "markdown",
   "metadata": {},
   "source": [
    "There is also a solution: The format function can be given a left argument to override this default.\n",
    "\n",
    "The left argument of `2` specifies display of exactly 2 decimals."
   ]
  },
  {
   "cell_type": "code",
   "execution_count": 30,
   "metadata": {},
   "outputs": [
    {
     "data": {
      "text/html": [
       "<span style=\"white-space:pre; font-family: monospace\">Jan  2304.88 2842.88 2753.48 2459.55 2729.01\n",
       "Feb  2489.49 2053.11 3168.21 2066.80 2865.15\n",
       "Mar  3759.11 1209.94 1904.48 1458.31 3328.83\n",
       "Apr  1547.06 3639.39 3745.40 1568.47 3260.91\n",
       "May  2485.73 3197.08 2090.34 3119.57 3826.53\n",
       "Jun  3343.92 2552.34 1629.93 2369.14 2860.18\n",
       "Jul  2232.41 1410.06 1032.51 2463.39 1847.44\n",
       "Aug  2206.66 2947.55 1581.69 2410.64 2359.10\n",
       "Sep  3450.41 3210.54 2545.83 2058.30 1964.69\n",
       "Oct  2656.13 2451.40 3102.56 2668.90 1532.52\n",
       "Nov  3230.48 1654.54 2701.31 3210.17 3710.45\n",
       "Dec  1596.89 1684.98 2181.39 3972.16 1934.31\n",
       "</span>"
      ]
     },
     "execution_count": 30,
     "metadata": {},
     "output_type": "execute_result"
    }
   ],
   "source": [
    "msales←months,' ',2⍕sales02\n",
    "msales"
   ]
  },
  {
   "cell_type": "markdown",
   "metadata": {},
   "source": [
    "Next we want to put headings on the columns"
   ]
  },
  {
   "cell_type": "code",
   "execution_count": 33,
   "metadata": {},
   "outputs": [
    {
     "data": {
      "text/html": [
       "<span style=\"white-space:pre; font-family: monospace\">     gas     oil     tires   access  other  \n",
       "Jan  2304.88 2842.88 2753.48 2459.55 2729.01\n",
       "Feb  2489.49 2053.11 3168.21 2066.80 2865.15\n",
       "Mar  3759.11 1209.94 1904.48 1458.31 3328.83\n",
       "Apr  1547.06 3639.39 3745.40 1568.47 3260.91\n",
       "May  2485.73 3197.08 2090.34 3119.57 3826.53\n",
       "Jun  3343.92 2552.34 1629.93 2369.14 2860.18\n",
       "Jul  2232.41 1410.06 1032.51 2463.39 1847.44\n",
       "Aug  2206.66 2947.55 1581.69 2410.64 2359.10\n",
       "Sep  3450.41 3210.54 2545.83 2058.30 1964.69\n",
       "Oct  2656.13 2451.40 3102.56 2668.90 1532.52\n",
       "Nov  3230.48 1654.54 2701.31 3210.17 3710.45\n",
       "Dec  1596.89 1684.98 2181.39 3972.16 1934.31\n",
       "</span>"
      ]
     },
     "execution_count": 33,
     "metadata": {},
     "output_type": "execute_result"
    }
   ],
   "source": [
    "report←items,[1]msales\n",
    "report"
   ]
  },
  {
   "cell_type": "markdown",
   "metadata": {},
   "source": [
    "But now there’s another problem. The size of the numbers in real sales data can vary. The column width, counted as  characters, varies with the number of digits, with the result that the column headings might not line up properly. Again, the format function provides a solution, allowing us to specify a column width in addition to the number of decimals."
   ]
  },
  {
   "cell_type": "code",
   "execution_count": 78,
   "metadata": {},
   "outputs": [],
   "source": [
    "msales←months,' ',8 2⍕sales02"
   ]
  },
  {
   "cell_type": "code",
   "execution_count": 79,
   "metadata": {},
   "outputs": [],
   "source": [
    "report←items,[1]msales"
   ]
  },
  {
   "cell_type": "code",
   "execution_count": 80,
   "metadata": {},
   "outputs": [
    {
     "data": {
      "text/html": [
       "<span style=\"white-space:pre; font-family: monospace\">     gas     oil     tires   access  other  \n",
       "Jan  1835.20 1667.20  966.72 3378.24 2286.72\n",
       "Feb  1649.90 1427.30  963.90 3103.38 2070.60\n",
       "Mar  1772.80 1802.40 1159.68 3542.40 2208.96\n",
       "Apr  1771.50 1695.00 1010.70 2809.35 2240.10\n",
       "May  1944.80 1816.45 1155.66 3595.50 2380.68\n",
       "Jun  1741.65 1933.75 1176.06 3571.02 2292.96\n",
       "Jul  2057.40 2065.50 1199.34 3363.12 2432.16\n",
       "Aug  2129.40 1814.40 1094.04 3664.44 2333.88\n",
       "Sep  1816.20 1910.70 1109.16 3551.04 2458.08\n",
       "Oct  2069.10 2075.40 1332.72 3866.94 2437.56\n",
       "Nov  2019.60 2093.40 1268.46 3570.48 2423.52\n",
       "Dec  2016.00 2120.40 1224.72 3465.18 2487.24\n",
       "</span>"
      ]
     },
     "execution_count": 80,
     "metadata": {},
     "output_type": "execute_result"
    }
   ],
   "source": [
    "report"
   ]
  },
  {
   "cell_type": "markdown",
   "metadata": {},
   "source": [
    "This is the traditional way to generate a report, and it’s useful, but it lacks flexibility. Nested arrays -- arrays with deeper structure -- can be helpful in that regard."
   ]
  },
  {
   "cell_type": "code",
   "execution_count": 38,
   "metadata": {},
   "outputs": [],
   "source": [
    "Months←'Jan' 'Feb' 'Mar' 'Apr' 'May' 'Jun' 'Jul' 'Aug' 'Sep' 'Oct' 'Nov' 'Dec'\n",
    "Items←'Gas' 'Oil' 'Tires' 'Accessories' 'Other'"
   ]
  },
  {
   "cell_type": "code",
   "execution_count": 40,
   "metadata": {},
   "outputs": [
    {
     "data": {
      "text/html": [
       "<span style=\"white-space:pre; font-family: monospace\">3 3 5 11 5\n",
       "</span>"
      ]
     },
     "execution_count": 40,
     "metadata": {},
     "output_type": "execute_result"
    }
   ],
   "source": [
    "≢¨Items"
   ]
  },
  {
   "cell_type": "markdown",
   "metadata": {},
   "source": [
    "These labels and headings are vector of vectors, with no added blanks.\n",
    "\n",
    "Here the **shape** function has been used with the **each** operator to show the shapes of the individual elements of `Items`, each of which is a separate text vector."
   ]
  },
  {
   "cell_type": "code",
   "execution_count": 43,
   "metadata": {},
   "outputs": [
    {
     "data": {
      "text/html": [
       "<span style=\"white-space:pre; font-family: monospace\">13 6\n",
       "</span>"
      ]
     },
     "execution_count": 43,
     "metadata": {},
     "output_type": "execute_result"
    }
   ],
   "source": [
    "Report←(' ',Months),Items,[1] 2⍕¨sales02\n",
    "⍴Report"
   ]
  },
  {
   "cell_type": "markdown",
   "metadata": {},
   "source": [
    "Is the added space necessary? Why?\n",
    "\n",
    "Explain the width of 6."
   ]
  },
  {
   "cell_type": "markdown",
   "metadata": {},
   "source": [
    "Here each number has been formatted separately, so that its text representation becomes a single element in a single column of a matrix. Appending the headings -- also single elements -- to the top of this matrix insures that they will always line up with the columns of data, even if you use different item names."
   ]
  },
  {
   "cell_type": "markdown",
   "metadata": {},
   "source": [
    "There are two things left to do:"
   ]
  },
  {
   "cell_type": "markdown",
   "metadata": {},
   "source": [
    "`Align` right-aligns the formatted numbers."
   ]
  },
  {
   "cell_type": "code",
   "execution_count": 81,
   "metadata": {},
   "outputs": [
    {
     "data": {
      "text/html": [
       "<span style=\"white-space:pre; font-family: monospace\">13 6\n",
       "</span>"
      ]
     },
     "execution_count": 81,
     "metadata": {},
     "output_type": "execute_result"
    }
   ],
   "source": [
    "Report←(' ',Months),Items,[1] Align 2⍕¨sales02\n",
    "⍴Report"
   ]
  },
  {
   "cell_type": "markdown",
   "metadata": {},
   "source": [
    "Monadic `⍕` produces a simple (non-nested) text representation of *any* array."
   ]
  },
  {
   "cell_type": "code",
   "execution_count": 76,
   "metadata": {},
   "outputs": [
    {
     "data": {
      "text/html": [
       "<span style=\"white-space:pre; font-family: monospace\">13 54\n",
       "</span>"
      ]
     },
     "execution_count": 76,
     "metadata": {},
     "output_type": "execute_result"
    }
   ],
   "source": [
    "Report←⍕(' ',Months),Items,[1] Align 2⍕¨sales02\n",
    "⍴Report"
   ]
  },
  {
   "cell_type": "code",
   "execution_count": 77,
   "metadata": {},
   "outputs": [
    {
     "data": {
      "text/html": [
       "<span style=\"white-space:pre; font-family: monospace\">      Gas      Oil      Tires    Accessories  Other   \n",
       " Jan  1835.20  1667.20   966.72  3378.24      2286.72 \n",
       " Feb  1649.90  1427.30   963.90  3103.38      2070.60 \n",
       " Mar  1772.80  1802.40  1159.68  3542.40      2208.96 \n",
       " Apr  1771.50  1695.00  1010.70  2809.35      2240.10 \n",
       " May  1944.80  1816.45  1155.66  3595.50      2380.68 \n",
       " Jun  1741.65  1933.75  1176.06  3571.02      2292.96 \n",
       " Jul  2057.40  2065.50  1199.34  3363.12      2432.16 \n",
       " Aug  2129.40  1814.40  1094.04  3664.44      2333.88 \n",
       " Sep  1816.20  1910.70  1109.16  3551.04      2458.08 \n",
       " Oct  2069.10  2075.40  1332.72  3866.94      2437.56 \n",
       " Nov  2019.60  2093.40  1268.46  3570.48      2423.52 \n",
       " Dec  2016.00  2120.40  1224.72  3465.18      2487.24 \n",
       "</span>"
      ]
     },
     "execution_count": 77,
     "metadata": {},
     "output_type": "execute_result"
    }
   ],
   "source": [
    "Report"
   ]
  }
 ],
 "metadata": {
  "kernelspec": {
   "display_name": "Dyalog APL",
   "language": "apl",
   "name": "dyalog-kernel"
  },
  "language_info": {
   "file_extension": ".apl",
   "mimetype": "text/apl",
   "name": "APL"
  }
 },
 "nbformat": 4,
 "nbformat_minor": 2
}
