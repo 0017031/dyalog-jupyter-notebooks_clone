{
 "cells": [
  {
   "cell_type": "code",
   "execution_count": null,
   "metadata": {},
   "outputs": [],
   "source": [
    "oil97←10000+6 12⍴?100000"
   ]
  },
  {
   "cell_type": "markdown",
   "metadata": {},
   "source": [
    "Dyalog APL provides four means of creating named functions. The method presented here gives the best combination of simplicity and power for most programming needs. Functions defined in this way are known as **dynamic functions** (for reasons which need not concern us yet)"
   ]
  },
  {
   "cell_type": "markdown",
   "metadata": {},
   "source": [
    "Define a function that rounds a number:"
   ]
  },
  {
   "cell_type": "code",
   "execution_count": null,
   "metadata": {},
   "outputs": [],
   "source": [
    "R←{⌊0.5+⍵}"
   ]
  },
  {
   "cell_type": "code",
   "execution_count": null,
   "metadata": {},
   "outputs": [],
   "source": [
    "R"
   ]
  },
  {
   "cell_type": "code",
   "execution_count": null,
   "metadata": {},
   "outputs": [],
   "source": [
    "R 12 13 14÷3"
   ]
  },
  {
   "cell_type": "markdown",
   "metadata": {},
   "source": [
    "Using the rules for order of evaluation and the meanings of `⍺` and `⍵`, explain to yourself what the function `At` does:"
   ]
  },
  {
   "cell_type": "code",
   "execution_count": null,
   "metadata": {},
   "outputs": [],
   "source": [
    "At←{(1+⍵÷100)*⍺}"
   ]
  },
  {
   "cell_type": "code",
   "execution_count": null,
   "metadata": {},
   "outputs": [],
   "source": [
    "SquareRoot←{⍵*0.5}"
   ]
  },
  {
   "cell_type": "markdown",
   "metadata": {},
   "source": [
    "This shorter name is one commonly used:"
   ]
  },
  {
   "cell_type": "code",
   "execution_count": null,
   "metadata": {},
   "outputs": [],
   "source": [
    "Sqrt←{SquareRoot ⍵}"
   ]
  },
  {
   "cell_type": "code",
   "execution_count": null,
   "metadata": {},
   "outputs": [],
   "source": [
    "Beeline←{Sqrt (⍺*2)+(⍵*2)}"
   ]
  },
  {
   "cell_type": "code",
   "execution_count": null,
   "metadata": {},
   "outputs": [],
   "source": [
    "Hypotenuse←Beeline"
   ]
  },
  {
   "cell_type": "markdown",
   "metadata": {},
   "source": [
    "Compare `Sqrt` and `Hypotenuse` with `SquareRoot` and `Beeline`.\n",
    "\n",
    "How do these pairs differ from each other, and why?"
   ]
  },
  {
   "cell_type": "markdown",
   "metadata": {},
   "source": [
    "A useful procedure for developing function definitions is the following:\n",
    "\n",
    "1. Select or construct some sample values for which the result of applying the desired function is known.\n",
    "2. Define a function that contains an expression expected to give this result from the test data.\n",
    "3. If the result is incorrect, revise the function to correct the error.\n",
    "4. Repeat 2. and 3. as needed."
   ]
  },
  {
   "cell_type": "markdown",
   "metadata": {},
   "source": [
    "As an example, we can try to define a function `Rowsums`, to yield the sums of the rows when applied to a matrix of numbers. The matrix `oil97`, which gives United States oil imports from each of six “countries” (5 countries and “Other”, i.e., all the rest) for each month of the\n",
    "year 1997, can be used as test data.\n",
    "\n",
    "Here is the first try:"
   ]
  },
  {
   "cell_type": "code",
   "execution_count": null,
   "metadata": {},
   "outputs": [],
   "source": [
    "Rowsums←{+/[1]⍵}\n",
    "result←Rowsums oil97"
   ]
  },
  {
   "cell_type": "code",
   "execution_count": null,
   "metadata": {},
   "outputs": [],
   "source": [
    "≢result"
   ]
  },
  {
   "cell_type": "markdown",
   "metadata": {},
   "source": [
    "`result` has 12 elements, but that can't be right, because `oil97` has 12 columns, but only 6 rows."
   ]
  },
  {
   "cell_type": "markdown",
   "metadata": {},
   "source": [
    "To fix it, we change the axis:"
   ]
  },
  {
   "cell_type": "code",
   "execution_count": null,
   "metadata": {},
   "outputs": [],
   "source": [
    "Rowsums←{+/[2]⍵}"
   ]
  }
 ],
 "metadata": {
  "kernelspec": {
   "display_name": "Dyalog APL",
   "language": "apl",
   "name": "dyalog-kernel"
  },
  "language_info": {
   "file_extension": ".apl",
   "mimetype": "text/apl",
   "name": "APL"
  },
  "tryapl": {
   "category": "Introductory Course",
   "description": "User defined functions in the \"dfn\" format",
   "name": "Lesson 10: h) Direct Definition of Functions"
  }
 },
 "nbformat": 4,
 "nbformat_minor": 2
}
