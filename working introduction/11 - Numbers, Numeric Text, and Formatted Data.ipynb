{
 "cells": [
  {
   "cell_type": "code",
   "execution_count": null,
   "metadata": {},
   "outputs": [],
   "source": [
    "C2N←{⊃(//⎕VFI ⍵)}\n",
    "C2N0←{⊃⌽⎕VFI ⍵}\n",
    "sales02←12 5⍴1835.2 1667.2 966.721 3378.24 2286.72 1649.9 1427.3 963.9 3103.38 2070.6 1772.8 1802.4 1159.68 3542.4 2208.96 1771.5 1695 1010.7 2809.35 2240.1 1944.8 1816.45 1155.66 3595.5 2380.68 1741.65 1933.75 1176.06 3571.02 2292.96 2057.4 2065.5 1199.34 3363.12 2432.16 2129.4 1814.4 1094.04 3664.44 2333.88 1816.2 1910.7 1109.16 3551.04 2458.08 2069.1 2075.4 1332.72 3866.94 2437.56 2019.6 2093.4 1268.46 3570.48 2423.52 2016 2120.4 1224.72 3465.18 2487.24\n",
    "months←12 3⍴'JanFebMarAprMayJunJulAugSepOctNovDec'\n",
    "items←'     gas     oil     tires   access  other  '\n",
    "Align←{(1+-⌈/≢¨,⍵)↑¨⍵}"
   ]
  },
  {
   "cell_type": "markdown",
   "metadata": {},
   "source": [
    "Experiment with the two following sets of expressions to demonstrate that numeric text (digits, decimals, etc. enclosed within quotes) behaves differently from the numbers it represents:"
   ]
  },
  {
   "cell_type": "code",
   "execution_count": null,
   "metadata": {},
   "outputs": [],
   "source": [
    "n←123 456\n",
    "⍴n\n",
    "2×n\n",
    "n,n"
   ]
  },
  {
   "cell_type": "code",
   "execution_count": null,
   "metadata": {},
   "outputs": [],
   "source": [
    "c←'123 456'\n",
    "⍴c\n",
    "2×c\n",
    "c,c"
   ]
  },
  {
   "cell_type": "markdown",
   "metadata": {},
   "source": [
    "The following examples illustrate the use of a primitive function which acts on numbers to produces character (text) representations of those numbers, as well as the defined functions `C2N` (which stands for \"character to number\") and `C2N0` (which stands for \"character to number with zero\") that convert character vectors to numbers."
   ]
  },
  {
   "cell_type": "code",
   "execution_count": null,
   "metadata": {},
   "outputs": [],
   "source": [
    "na←C2N c\n",
    "⍴na\n",
    "2×na\n",
    "na,na"
   ]
  },
  {
   "cell_type": "code",
   "execution_count": null,
   "metadata": {},
   "outputs": [],
   "source": [
    "ca←⍕n\n",
    "⍴ca\n",
    "2×ca\n",
    "ca,ca"
   ]
  },
  {
   "cell_type": "code",
   "execution_count": null,
   "metadata": {},
   "outputs": [],
   "source": [
    "C2N c,c"
   ]
  },
  {
   "cell_type": "code",
   "execution_count": null,
   "metadata": {},
   "outputs": [],
   "source": [
    "C2N c,' ',c"
   ]
  },
  {
   "cell_type": "markdown",
   "metadata": {},
   "source": [
    "What is the difference in what these two functions do?"
   ]
  },
  {
   "cell_type": "code",
   "execution_count": null,
   "metadata": {},
   "outputs": [],
   "source": [
    "C2N c,' text ',c"
   ]
  },
  {
   "cell_type": "code",
   "execution_count": null,
   "metadata": {},
   "outputs": [],
   "source": [
    "C2N0 c,' text ',c"
   ]
  },
  {
   "cell_type": "markdown",
   "metadata": {},
   "source": [
    "NOTE: The primitive function `⍎`, which looks like an inverse to `⍕`, can do character-to-number conversion, but it does much more than that, and its power can be dangerous. Its use for simple conversion is therefore not recommended, and instruction in its use is saved for a more advanced course."
   ]
  },
  {
   "cell_type": "markdown",
   "metadata": {},
   "source": [
    "Reports may be produced by catenating textual information with a character representation of the matrix of numeric data:"
   ]
  },
  {
   "cell_type": "code",
   "execution_count": null,
   "metadata": {},
   "outputs": [],
   "source": [
    "sales02  ⍝ A table of monthly sales for 2002."
   ]
  },
  {
   "cell_type": "code",
   "execution_count": null,
   "metadata": {},
   "outputs": [],
   "source": [
    "msales←months,' ',⍕sales02\n",
    "msales"
   ]
  },
  {
   "cell_type": "markdown",
   "metadata": {},
   "source": [
    "But there’s a problem: The default format omits trailing zeros in the decimal part, but we want them in a report of cash amounts."
   ]
  },
  {
   "cell_type": "markdown",
   "metadata": {},
   "source": [
    "There is also a solution: The format function can be given a left argument to override this default.\n",
    "\n",
    "The left argument of `2` specifies display of exactly 2 decimals."
   ]
  },
  {
   "cell_type": "code",
   "execution_count": null,
   "metadata": {},
   "outputs": [],
   "source": [
    "msales←months,' ',2⍕sales02\n",
    "msales"
   ]
  },
  {
   "cell_type": "markdown",
   "metadata": {},
   "source": [
    "Next we want to put headings on the columns"
   ]
  },
  {
   "cell_type": "code",
   "execution_count": null,
   "metadata": {},
   "outputs": [],
   "source": [
    "report←items,[1]msales\n",
    "report"
   ]
  },
  {
   "cell_type": "markdown",
   "metadata": {},
   "source": [
    "But now there’s another problem. The size of the numbers in real sales data can vary. The column width, counted as  characters, varies with the number of digits, with the result that the column headings might not line up properly. Again, the format function provides a solution, allowing us to specify a column width in addition to the number of decimals."
   ]
  },
  {
   "cell_type": "code",
   "execution_count": null,
   "metadata": {},
   "outputs": [],
   "source": [
    "msales←months,' ',8 2⍕sales02"
   ]
  },
  {
   "cell_type": "code",
   "execution_count": null,
   "metadata": {},
   "outputs": [],
   "source": [
    "report←items,[1]msales"
   ]
  },
  {
   "cell_type": "code",
   "execution_count": null,
   "metadata": {},
   "outputs": [],
   "source": [
    "report"
   ]
  },
  {
   "cell_type": "markdown",
   "metadata": {},
   "source": [
    "This is the traditional way to generate a report, and it’s useful, but it lacks flexibility. Nested arrays -- arrays with deeper structure -- can be helpful in that regard."
   ]
  },
  {
   "cell_type": "code",
   "execution_count": null,
   "metadata": {},
   "outputs": [],
   "source": [
    "Months←'Jan' 'Feb' 'Mar' 'Apr' 'May' 'Jun' 'Jul' 'Aug' 'Sep' 'Oct' 'Nov' 'Dec'\n",
    "Items←'Gas' 'Oil' 'Tires' 'Accessories' 'Other'"
   ]
  },
  {
   "cell_type": "code",
   "execution_count": null,
   "metadata": {},
   "outputs": [],
   "source": [
    "≢¨Items"
   ]
  },
  {
   "cell_type": "markdown",
   "metadata": {},
   "source": [
    "These labels and headings are vector of vectors, with no added blanks.\n",
    "\n",
    "Here the **shape** function has been used with the **each** operator to show the shapes of the individual elements of `Items`, each of which is a separate text vector."
   ]
  },
  {
   "cell_type": "code",
   "execution_count": null,
   "metadata": {},
   "outputs": [],
   "source": [
    "Report←(' ',Months),Items,[1] 2⍕¨sales02\n",
    "⍴Report"
   ]
  },
  {
   "cell_type": "markdown",
   "metadata": {},
   "source": [
    "Is the added space necessary? Why?\n",
    "\n",
    "Explain the width of 6."
   ]
  },
  {
   "cell_type": "markdown",
   "metadata": {},
   "source": [
    "Here each number has been formatted separately, so that its text representation becomes a single element in a single column of a matrix. Appending the headings -- also single elements -- to the top of this matrix insures that they will always line up with the columns of data, even if you use different item names."
   ]
  },
  {
   "cell_type": "markdown",
   "metadata": {},
   "source": [
    "There are two things left to do:"
   ]
  },
  {
   "cell_type": "markdown",
   "metadata": {},
   "source": [
    "`Align` right-aligns the formatted numbers."
   ]
  },
  {
   "cell_type": "code",
   "execution_count": null,
   "metadata": {},
   "outputs": [],
   "source": [
    "Report←(' ',Months),Items,[1] Align 2⍕¨sales02\n",
    "⍴Report"
   ]
  },
  {
   "cell_type": "markdown",
   "metadata": {},
   "source": [
    "Monadic `⍕` produces a simple (non-nested) text representation of *any* array."
   ]
  },
  {
   "cell_type": "code",
   "execution_count": null,
   "metadata": {},
   "outputs": [],
   "source": [
    "Report←⍕(' ',Months),Items,[1] Align 2⍕¨sales02\n",
    "⍴Report"
   ]
  },
  {
   "cell_type": "code",
   "execution_count": null,
   "metadata": {},
   "outputs": [],
   "source": [
    "Report"
   ]
  }
 ],
 "metadata": {
  "kernelspec": {
   "display_name": "Dyalog APL",
   "language": "apl",
   "name": "dyalog-kernel"
  },
  "language_info": {
   "file_extension": ".apl",
   "mimetype": "text/apl",
   "name": "APL"
  },
  "tryapl": {
   "category": "Working Introduction Course",
   "description": "How to treat numbers as text",
   "name": "Lesson 11: Numbers as Text and Formatted Data"
  }
 },
 "nbformat": 4,
 "nbformat_minor": 2
}
