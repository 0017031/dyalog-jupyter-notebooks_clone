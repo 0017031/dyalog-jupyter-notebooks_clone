{
 "cells": [
  {
   "cell_type": "markdown",
   "metadata": {},
   "source": [
    "APL is not just for numbers!"
   ]
  },
  {
   "cell_type": "code",
   "execution_count": null,
   "metadata": {},
   "outputs": [],
   "source": [
    "EnglishAlphabet←'abcdefghijklmnopqrstuvwxyz'\n",
    "DanskAlfabet←'abcdefghijklmnopqrstuvwxyzæøå'"
   ]
  },
  {
   "cell_type": "markdown",
   "metadata": {},
   "source": [
    "The English alphabet has 26 letters. The Danish alphabet has 29."
   ]
  },
  {
   "cell_type": "code",
   "execution_count": null,
   "metadata": {},
   "outputs": [],
   "source": [
    "EaLen←≢EnglishAlphabet\n",
    "DaLen←≢DanskAlfabet"
   ]
  },
  {
   "cell_type": "markdown",
   "metadata": {},
   "source": [
    "The greater of the two lengths:"
   ]
  },
  {
   "cell_type": "code",
   "execution_count": null,
   "metadata": {},
   "outputs": [],
   "source": [
    "EaLen⌈DaLen"
   ]
  },
  {
   "cell_type": "markdown",
   "metadata": {},
   "source": [
    "And the lesser:"
   ]
  },
  {
   "cell_type": "code",
   "execution_count": null,
   "metadata": {},
   "outputs": [],
   "source": [
    "EaLen⌊DaLen"
   ]
  },
  {
   "cell_type": "markdown",
   "metadata": {},
   "source": [
    "Does the English alphabet have fewer letters than the Danish?"
   ]
  },
  {
   "cell_type": "code",
   "execution_count": null,
   "metadata": {},
   "outputs": [],
   "source": [
    "EaLen<DaLen"
   ]
  },
  {
   "cell_type": "markdown",
   "metadata": {},
   "source": [
    "Yes."
   ]
  },
  {
   "cell_type": "markdown",
   "metadata": {},
   "source": [
    "Are their lengths equal?"
   ]
  },
  {
   "cell_type": "code",
   "execution_count": null,
   "metadata": {},
   "outputs": [],
   "source": [
    "EaLen=DaLen"
   ]
  },
  {
   "cell_type": "markdown",
   "metadata": {},
   "source": [
    "No."
   ]
  },
  {
   "cell_type": "markdown",
   "metadata": {},
   "source": [
    "What are the meanings of the following sentences?\n",
    "\n",
    "- `EnglishAlphabet` has 26 letters and `DanskAlfabet` has 29.\n",
    "- `EnglishAlphabet` has 15 letters and `DanskAlfabet` has 12.\n",
    "- `'EnglishAlphabet'` has 15 letters and `'DanskAlfabet'` has 12.\n",
    "\n",
    "The first two of the above sentences present an ambiguity. The third sentence shows the common way of resolving the ambiguity, by using quotation marks to indicate a reference to the sequence of letters which make up the word, rather than to the meaning that the word represents. APL uses this same convention to distinguish between names, which represent values, and text, the characters which represent the name itself. If it's enclosed in quotes, APL assumes that it's text; if not, it's assumed to represent a value.\n",
    "\n",
    "But note that the display doesn’t show the quotes."
   ]
  },
  {
   "cell_type": "code",
   "execution_count": null,
   "metadata": {},
   "outputs": [],
   "source": [
    "series←24.6 3 17\n",
    "word←'series'"
   ]
  },
  {
   "cell_type": "code",
   "execution_count": null,
   "metadata": {},
   "outputs": [],
   "source": [
    "≢series"
   ]
  },
  {
   "cell_type": "code",
   "execution_count": null,
   "metadata": {},
   "outputs": [],
   "source": [
    "≢'series'"
   ]
  },
  {
   "cell_type": "code",
   "execution_count": null,
   "metadata": {},
   "outputs": [],
   "source": [
    "≢word"
   ]
  },
  {
   "cell_type": "code",
   "execution_count": null,
   "metadata": {},
   "outputs": [],
   "source": [
    "text←'here are some words'"
   ]
  },
  {
   "cell_type": "code",
   "execution_count": null,
   "metadata": {},
   "outputs": [],
   "source": [
    "⍴text"
   ]
  },
  {
   "cell_type": "code",
   "execution_count": null,
   "metadata": {},
   "outputs": [],
   "source": [
    "nonsense←'JanFebMarAprMayJunJulAugSepOctNovDec'\n",
    "months←12 3⍴nonsense"
   ]
  },
  {
   "cell_type": "code",
   "execution_count": null,
   "metadata": {},
   "outputs": [],
   "source": [
    "⌽text"
   ]
  },
  {
   "cell_type": "code",
   "execution_count": null,
   "metadata": {},
   "outputs": [],
   "source": [
    "⌽[1]months"
   ]
  },
  {
   "cell_type": "code",
   "execution_count": null,
   "metadata": {},
   "outputs": [],
   "source": [
    "⌽[2]months"
   ]
  },
  {
   "cell_type": "code",
   "execution_count": null,
   "metadata": {},
   "outputs": [],
   "source": [
    "'*',[2]months"
   ]
  },
  {
   "cell_type": "code",
   "execution_count": null,
   "metadata": {},
   "outputs": [],
   "source": [
    "' ',[2]months"
   ]
  },
  {
   "cell_type": "code",
   "execution_count": null,
   "metadata": {},
   "outputs": [],
   "source": [
    ",months"
   ]
  },
  {
   "cell_type": "code",
   "execution_count": null,
   "metadata": {},
   "outputs": [],
   "source": [
    ",' ',[2]months"
   ]
  },
  {
   "cell_type": "markdown",
   "metadata": {},
   "source": [
    "The comma is used here to denote both a **monadic** function (which applies to one argument) and a dyadic function (which applies to two arguments). What are the names of these two functions denoted by the comma?"
   ]
  }
 ],
 "metadata": {
  "kernelspec": {
   "display_name": "Dyalog APL",
   "language": "apl",
   "name": "dyalog-kernel"
  },
  "language_info": {
   "file_extension": ".apl",
   "mimetype": "text/apl",
   "name": "APL"
  },
  "tryapl": {
   "category": "Introductory Course",
   "description": "How APL represents and handles text",
   "name": "Lesson 04: d) Characters (Text)"
  }
 },
 "nbformat": 4,
 "nbformat_minor": 2
}
