{
 "cells": [
  {
   "cell_type": "markdown",
   "metadata": {},
   "source": [
    "If an expression entered in **APL** contains an error -- i.e., something that APL can't make sense of, -- it will display a message indicating what sort of problemhad, and repeat the input line with a caret underneath to indicate where (proceeding right to left) it encountered the problem."
   ]
  },
  {
   "cell_type": "markdown",
   "metadata": {},
   "source": [
    "A `SYNTAX ERROR` is an error in the way the elements of the language are\n",
    "combined, like a grammatical mistake in English."
   ]
  },
  {
   "cell_type": "code",
   "execution_count": 1,
   "metadata": {},
   "outputs": [
    {
     "name": "stderr",
     "output_type": "stream",
     "text": [
      "SYNTAX ERROR\n",
      "      oops←'this lacks a closing quote\n",
      "           ∧\n"
     ]
    }
   ],
   "source": [
    "oops←'this lacks a closing quote"
   ]
  },
  {
   "cell_type": "markdown",
   "metadata": {},
   "source": [
    "In this case, an opening quote without a closing quote lacks meaning."
   ]
  },
  {
   "cell_type": "markdown",
   "metadata": {},
   "source": [
    "Another common error is a `VALUE ERROR`, using a name which has not yet been assigned to any value. A `VALUE ERROR` is often the result of a typing error."
   ]
  },
  {
   "cell_type": "code",
   "execution_count": 2,
   "metadata": {},
   "outputs": [
    {
     "name": "stderr",
     "output_type": "stream",
     "text": [
      "VALUE ERROR\n",
      "      balue\n",
      "     ∧\n"
     ]
    }
   ],
   "source": [
    "value←'priceless'\n",
    "balue"
   ]
  },
  {
   "cell_type": "markdown",
   "metadata": {},
   "source": [
    "A `DOMAIN ERROR` occurs when a function is applied to an argument outside if its domain. For instance `+` cannot act on character vectors:"
   ]
  },
  {
   "cell_type": "code",
   "execution_count": 4,
   "metadata": {},
   "outputs": [
    {
     "name": "stderr",
     "output_type": "stream",
     "text": [
      "DOMAIN ERROR\n",
      "      'one'+'one'\n",
      "     ∧\n"
     ]
    }
   ],
   "source": [
    "'one'+'one'"
   ]
  },
  {
   "cell_type": "markdown",
   "metadata": {},
   "source": [
    "When a function is applied two vectors, you can get a `LENGTH ERROR`."
   ]
  },
  {
   "cell_type": "code",
   "execution_count": 1,
   "metadata": {},
   "outputs": [
    {
     "name": "stderr",
     "output_type": "stream",
     "text": [
      "LENGTH ERROR\n",
      "      1 2+4 5 6\n",
      "     ∧\n"
     ]
    }
   ],
   "source": [
    "1 2+4 5 6"
   ]
  },
  {
   "cell_type": "markdown",
   "metadata": {},
   "source": [
    "The left argument has two elements, while the right argument has three. There is no way to pair them up"
   ]
  }
 ],
 "metadata": {
  "kernelspec": {
   "display_name": "Dyalog APL",
   "language": "apl",
   "name": "dyalog-kernel"
  },
  "language_info": {
   "file_extension": ".apl",
   "mimetype": "text/apl",
   "name": "APL"
  }
 },
 "nbformat": 4,
 "nbformat_minor": 2
}
