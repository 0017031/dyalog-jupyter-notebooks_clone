{
 "cells": [
  {
   "cell_type": "markdown",
   "metadata": {},
   "source": [
    "Monadic `↑` (Mix) is a useful function for creating higher rank arrays. Given a nested array, it will convert the first level of depth into rank. For example, given a vector of vectors, it returns a matrix with each vector as a row."
   ]
  },
  {
   "cell_type": "code",
   "execution_count": 5,
   "metadata": {},
   "outputs": [
    {
     "data": {
      "text/html": [
       "<span style=\"white-space:pre; font-family: monospace\">1 2 3\n",
       "4 2 2\n",
       "a b c\n",
       "</span>"
      ]
     },
     "execution_count": 5,
     "metadata": {},
     "output_type": "execute_result"
    }
   ],
   "source": [
    "↑(1 2 3)(4 2 2)'abc'"
   ]
  },
  {
   "cell_type": "code",
   "execution_count": 9,
   "metadata": {},
   "outputs": [
    {
     "data": {
      "text/html": [
       "<span style=\"white-space:pre; font-family: monospace\">┌───┬───┐\n",
       "│1 2│3 4│\n",
       "├───┼───┤\n",
       "│5 6│7  │\n",
       "└───┴───┘\n",
       "</span>"
      ]
     },
     "execution_count": 9,
     "metadata": {},
     "output_type": "execute_result"
    }
   ],
   "source": [
    "↑((1 2)(3 4))((5 6) 7)"
   ]
  },
  {
   "cell_type": "markdown",
   "metadata": {},
   "source": [
    "If the vectors in the argument are different in shape a fill element is used to pad the array to a rectangle. The fill element is the prototype of the first element.\n",
    "\n",
    "The prototypical number is `0`, and the character is `' '`. The prototype of an array is an array of prototypes - The same array, but where each scalar is replaced by it's prototype."
   ]
  },
  {
   "cell_type": "code",
   "execution_count": 4,
   "metadata": {},
   "outputs": [
    {
     "data": {
      "text/html": [
       "<span style=\"white-space:pre; font-family: monospace\">1 2 3\n",
       "3 3 0\n",
       "4 3 2\n",
       "x    \n",
       "</span>"
      ]
     },
     "execution_count": 4,
     "metadata": {},
     "output_type": "execute_result"
    }
   ],
   "source": [
    "↑(1 2 3)(3 3)(4 3 2)'x'"
   ]
  },
  {
   "cell_type": "code",
   "execution_count": 15,
   "metadata": {},
   "outputs": [
    {
     "data": {
      "text/html": [
       "<span style=\"white-space:pre; font-family: monospace\">┌───┬───┬───┐\n",
       "│1 2│3 4│5 6│\n",
       "├───┼───┼───┤\n",
       "│7 8│9  │0 0│\n",
       "└───┴───┴───┘\n",
       "</span>"
      ]
     },
     "execution_count": 15,
     "metadata": {},
     "output_type": "execute_result"
    }
   ],
   "source": [
    "↑((1 2)(3 4)(5 6))((7 8) 9)"
   ]
  },
  {
   "cell_type": "markdown",
   "metadata": {},
   "source": [
    "The fill element for `(7 8) 9` is the prototype of `7 8`; `0 0`"
   ]
  },
  {
   "cell_type": "markdown",
   "metadata": {},
   "source": [
    "Monadic `↓` (Split) is the counterpart to mix. It converts a higher rank array into a nested array. The result of split will have a rank one less than the argument, unless the argument is scalar, in which case the rank will remain `0`. "
   ]
  },
  {
   "cell_type": "code",
   "execution_count": 29,
   "metadata": {},
   "outputs": [
    {
     "data": {
      "text/html": [
       "<span style=\"white-space:pre; font-family: monospace\">┌───┬───┐\n",
       "│1 2│3 4│\n",
       "└───┴───┘\n",
       "</span>"
      ]
     },
     "execution_count": 29,
     "metadata": {},
     "output_type": "execute_result"
    }
   ],
   "source": [
    "↓2 2⍴1 2 3 4"
   ]
  },
  {
   "cell_type": "code",
   "execution_count": 31,
   "metadata": {},
   "outputs": [
    {
     "data": {
      "text/html": [
       "<span style=\"white-space:pre; font-family: monospace\">┌────────┬────────┬────────┐\n",
       "│1 2 3   │4 5 6   │7 8 9   │\n",
       "├────────┼────────┼────────┤\n",
       "│10 11 12│13 14 15│16 17 18│\n",
       "├────────┼────────┼────────┤\n",
       "│19 20 21│22 23 24│25 26 27│\n",
       "└────────┴────────┴────────┘\n",
       "</span>"
      ]
     },
     "execution_count": 31,
     "metadata": {},
     "output_type": "execute_result"
    }
   ],
   "source": [
    "↓3 3 3⍴⍳27"
   ]
  },
  {
   "cell_type": "code",
   "execution_count": 20,
   "metadata": {},
   "outputs": [
    {
     "data": {
      "text/html": [
       "<span style=\"white-space:pre; font-family: monospace\">┌─────┬───┬─────┐\n",
       "│1 2 3│abc│3 4 0│\n",
       "└─────┴───┴─────┘\n",
       "</span>"
      ]
     },
     "execution_count": 20,
     "metadata": {},
     "output_type": "execute_result"
    }
   ],
   "source": [
    "↓↑(1 2 3)'abc'(3 4)"
   ]
  },
  {
   "cell_type": "code",
   "execution_count": 45,
   "metadata": {},
   "outputs": [
    {
     "data": {
      "text/html": [
       "<span style=\"white-space:pre; font-family: monospace\">┌───────────┬─────────┬───────────┐\n",
       "│┌───┬─┬───┐│┌─┬───┬─┐│┌───┬─┬───┐│\n",
       "││1 1│3│1 1│││3│1 1│3│││1 1│3│1 1││\n",
       "││1 1│ │1 1│││ │1 1│ │││1 1│ │1 1││\n",
       "│└───┴─┴───┘│└─┴───┴─┘│└───┴─┴───┘│\n",
       "└───────────┴─────────┴───────────┘\n",
       "</span>"
      ]
     },
     "execution_count": 45,
     "metadata": {},
     "output_type": "execute_result"
    }
   ],
   "source": [
    "↓3 3⍴(2 2⍴1) 3"
   ]
  },
  {
   "cell_type": "markdown",
   "metadata": {},
   "source": [
    "If the argument is a vector, split must return a scalar because it decrease the rank by 1. However the content isn't changed when splitting. This means that splitting a vector returns an enclosed vector."
   ]
  },
  {
   "cell_type": "code",
   "execution_count": 36,
   "metadata": {},
   "outputs": [
    {
     "data": {
      "text/html": [
       "<span style=\"white-space:pre; font-family: monospace\">┌─────┐\n",
       "│7 6 2│\n",
       "└─────┘\n",
       "</span>"
      ]
     },
     "execution_count": 36,
     "metadata": {},
     "output_type": "execute_result"
    }
   ],
   "source": [
    "↓7 6 2"
   ]
  },
  {
   "cell_type": "code",
   "execution_count": 35,
   "metadata": {
    "scrolled": false
   },
   "outputs": [
    {
     "data": {
      "text/html": [
       "<span style=\"white-space:pre; font-family: monospace\">0\n",
       "</span>"
      ]
     },
     "execution_count": 35,
     "metadata": {},
     "output_type": "execute_result"
    }
   ],
   "source": [
    "⍴⍴ ↓7 6 2"
   ]
  },
  {
   "cell_type": "markdown",
   "metadata": {},
   "source": [
    "Numbers and characters are known as simple scalars, because their depth is 1. Spliting a simple scalar does nothing, the result is the argument itself. However, spliting other scalars increases their depth by 1"
   ]
  },
  {
   "cell_type": "code",
   "execution_count": 37,
   "metadata": {},
   "outputs": [
    {
     "data": {
      "text/html": [
       "<span style=\"white-space:pre; font-family: monospace\">1\n",
       "</span>"
      ]
     },
     "execution_count": 37,
     "metadata": {},
     "output_type": "execute_result"
    }
   ],
   "source": [
    "↓1"
   ]
  },
  {
   "cell_type": "code",
   "execution_count": 38,
   "metadata": {},
   "outputs": [
    {
     "data": {
      "text/html": [
       "<span style=\"white-space:pre; font-family: monospace\">┌─────┐\n",
       "│┌───┐│\n",
       "││4 5││\n",
       "│└───┘│\n",
       "└─────┘\n",
       "</span>"
      ]
     },
     "execution_count": 38,
     "metadata": {},
     "output_type": "execute_result"
    }
   ],
   "source": [
    "↓↓4 5"
   ]
  },
  {
   "cell_type": "markdown",
   "metadata": {},
   "source": [
    "Mix also will do nothing to a simple scalar, but will decrease the depth of other scalars by 1."
   ]
  },
  {
   "cell_type": "code",
   "execution_count": 47,
   "metadata": {},
   "outputs": [
    {
     "data": {
      "text/html": [
       "<span style=\"white-space:pre; font-family: monospace\">1\n",
       "</span>"
      ]
     },
     "execution_count": 47,
     "metadata": {},
     "output_type": "execute_result"
    }
   ],
   "source": [
    "↑1"
   ]
  },
  {
   "cell_type": "code",
   "execution_count": 48,
   "metadata": {},
   "outputs": [
    {
     "data": {
      "text/html": [
       "<span style=\"white-space:pre; font-family: monospace\">┌─────┐\n",
       "│1 2 3│\n",
       "└─────┘\n",
       "</span>"
      ]
     },
     "execution_count": 48,
     "metadata": {},
     "output_type": "execute_result"
    }
   ],
   "source": [
    "↑↓↓1 2 3"
   ]
  },
  {
   "cell_type": "code",
   "execution_count": 49,
   "metadata": {},
   "outputs": [
    {
     "data": {
      "text/html": [
       "<span style=\"white-space:pre; font-family: monospace\">APL\n",
       "</span>"
      ]
     },
     "execution_count": 49,
     "metadata": {},
     "output_type": "execute_result"
    }
   ],
   "source": [
    "↑↓'APL'"
   ]
  }
 ],
 "metadata": {
  "kernelspec": {
   "display_name": "Dyalog APL",
   "language": "apl",
   "name": "dyalog-kernel"
  },
  "language_info": {
   "file_extension": ".apl",
   "mimetype": "text/apl",
   "name": "apl"
  },
  "tryapl": {
   "category": "Functions",
   "description": "Modifying rank and depth with Mix, Split, Enclose, and First",
   "name": "Modifying rank and depth: ↑ ↓ ⊂ ⊃"
  }
 },
 "nbformat": 4,
 "nbformat_minor": 2
}
